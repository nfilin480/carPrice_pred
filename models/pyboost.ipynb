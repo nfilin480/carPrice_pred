{
 "cells": [
  {
   "cell_type": "code",
   "execution_count": 9,
   "metadata": {},
   "outputs": [],
   "source": [
    "import os\n",
    "# Optional: set the device to run\n",
    "os.environ[\"CUDA_DEVICE_ORDER\"] = \"PCI_BUS_ID\"\n",
    "os.environ[\"CUDA_VISIBLE_DEVICES\"] = \"0\"\n",
    "\n",
    "#os.makedirs('../data', exist_ok=True)\n",
    "\n",
    "import joblib\n",
    "#from sklearn.datasets import make_regression\n",
    "\n",
    "# simple case - just one class is used\n",
    "from py_boost import GradientBoosting \n",
    "import pandas as pd\n",
    "import numpy as np\n",
    "from sklearn.model_selection import train_test_split"
   ]
  },
  {
   "cell_type": "code",
   "execution_count": 10,
   "metadata": {},
   "outputs": [],
   "source": [
    "def mape(y_true, y_pred):\n",
    "    '''\n",
    "    Метрика\n",
    "    '''\n",
    "    return np.mean(np.abs((y_pred-y_true)/y_true))"
   ]
  },
  {
   "cell_type": "code",
   "execution_count": 11,
   "metadata": {},
   "outputs": [
    {
     "data": {
      "text/plain": [
       "[          price  region  mileage  engine_capacity  transmission  engine_power  \\\n",
       " 36251   2249900     134        0              1.5             2           113   \n",
       " 8466     550000     182    15400              1.6             3           115   \n",
       " 11562   3500000     143    49000              2.0             0           249   \n",
       " 71171   3700000     181   165512              1.1             3            50   \n",
       " 28399  19350000     148        1              3.5             1           273   \n",
       " ...         ...     ...      ...              ...           ...           ...   \n",
       " 37194   2949900     299        0              1.5             2           147   \n",
       " 6265    1189000     262   101569              1.5             1           106   \n",
       " 54886    895000     264    30000              1.6             3            90   \n",
       " 860     1129000     358   148996              4.2             1           350   \n",
       " 15795   3959990     284        0              2.0             1           200   \n",
       " \n",
       "        body_type  wheel  fuel_type  model  model_2  year  \n",
       " 36251          7      1          0     18      725  2023  \n",
       " 8466           7      1          0      4      173  2013  \n",
       " 11562          0      2          0      5      865  2021  \n",
       " 71171         10      1          0     25      438  1982  \n",
       " 28399          0      2          0     13      521  2023  \n",
       " ...          ...    ...        ...    ...      ...   ...  \n",
       " 37194          0      1          0     18      207  2023  \n",
       " 6265           0      1          0      3      814  2017  \n",
       " 54886          7      1          0     26        7  2023  \n",
       " 860            0      2          0      0      676  2007  \n",
       " 15795          0      2          0      7      855  2023  \n",
       " \n",
       " [64790 rows x 12 columns],\n",
       "          price  region  mileage  engine_capacity  transmission  engine_power  \\\n",
       " 5488   4239900     327        0              2.0             1           226   \n",
       " 42181   720000     143    45600              1.4             0            90   \n",
       " 20623  2000000     148    34000              2.0             1           145   \n",
       " 71722   199999     305   134000              1.6             3            81   \n",
       " 47586  6899000      44        0              3.0             1           299   \n",
       " ...        ...     ...      ...              ...           ...           ...   \n",
       " 63549  1950000     380    68000              1.6             1           123   \n",
       " 43300  1149000     290    31000              1.6             3            82   \n",
       " 70419  3549000     181   114000              2.8             1           177   \n",
       " 59736  4450000     106    62000              3.0             1           249   \n",
       " 2181   1899000     181   137345              3.0             1           306   \n",
       " \n",
       "        body_type  wheel  fuel_type  model  model_2  year  \n",
       " 5488           0      2          0      2      858  2023  \n",
       " 42181         10      1          0     20       37  2008  \n",
       " 20623          0      2          2      9      218  2019  \n",
       " 71722         10      1          0     26        3  2009  \n",
       " 47586          0      2          0     23       97  2023  \n",
       " ...          ...    ...        ...    ...      ...   ...  \n",
       " 63549          0      1          0     10      292  2019  \n",
       " 43300         10      1          0     21      743  2020  \n",
       " 70419          0      2          3     24      530  2017  \n",
       " 59736          0      2          3      0      676  2016  \n",
       " 2181           0      2          0      1      911  2011  \n",
       " \n",
       " [7199 rows x 12 columns]]"
      ]
     },
     "execution_count": 11,
     "metadata": {},
     "output_type": "execute_result"
    }
   ],
   "source": [
    "train_val_data = pd.read_csv('../datasets/prod_data_all.csv')\n",
    "data = train_test_split(train_val_data, test_size=0.1, shuffle=True, random_state=42)\n",
    "\n",
    "data"
   ]
  },
  {
   "cell_type": "code",
   "execution_count": 12,
   "metadata": {},
   "outputs": [
    {
     "data": {
      "text/plain": [
       "[        price  region  mileage  engine_capacity  transmission  engine_power  \\\n",
       " 36251   22499     134        0              1.5             2           113   \n",
       " 8466     5500     182    15400              1.6             3           115   \n",
       " 11562   35000     143    49000              2.0             0           249   \n",
       " 71171   37000     181   165512              1.1             3            50   \n",
       " 28399  193500     148        1              3.5             1           273   \n",
       " ...       ...     ...      ...              ...           ...           ...   \n",
       " 37194   29499     299        0              1.5             2           147   \n",
       " 6265    11890     262   101569              1.5             1           106   \n",
       " 54886    8950     264    30000              1.6             3            90   \n",
       " 860     11290     358   148996              4.2             1           350   \n",
       " 15795   39599     284        0              2.0             1           200   \n",
       " \n",
       "        body_type  wheel  fuel_type  model  model_2  year  \n",
       " 36251          7      1          0     18      725  2023  \n",
       " 8466           7      1          0      4      173  2013  \n",
       " 11562          0      2          0      5      865  2021  \n",
       " 71171         10      1          0     25      438  1982  \n",
       " 28399          0      2          0     13      521  2023  \n",
       " ...          ...    ...        ...    ...      ...   ...  \n",
       " 37194          0      1          0     18      207  2023  \n",
       " 6265           0      1          0      3      814  2017  \n",
       " 54886          7      1          0     26        7  2023  \n",
       " 860            0      2          0      0      676  2007  \n",
       " 15795          0      2          0      7      855  2023  \n",
       " \n",
       " [64790 rows x 12 columns],\n",
       "        price  region  mileage  engine_capacity  transmission  engine_power  \\\n",
       " 5488   42399     327        0              2.0             1           226   \n",
       " 42181   7200     143    45600              1.4             0            90   \n",
       " 20623  20000     148    34000              2.0             1           145   \n",
       " 71722   1999     305   134000              1.6             3            81   \n",
       " 47586  68990      44        0              3.0             1           299   \n",
       " ...      ...     ...      ...              ...           ...           ...   \n",
       " 63549  19500     380    68000              1.6             1           123   \n",
       " 43300  11490     290    31000              1.6             3            82   \n",
       " 70419  35490     181   114000              2.8             1           177   \n",
       " 59736  44500     106    62000              3.0             1           249   \n",
       " 2181   18990     181   137345              3.0             1           306   \n",
       " \n",
       "        body_type  wheel  fuel_type  model  model_2  year  \n",
       " 5488           0      2          0      2      858  2023  \n",
       " 42181         10      1          0     20       37  2008  \n",
       " 20623          0      2          2      9      218  2019  \n",
       " 71722         10      1          0     26        3  2009  \n",
       " 47586          0      2          0     23       97  2023  \n",
       " ...          ...    ...        ...    ...      ...   ...  \n",
       " 63549          0      1          0     10      292  2019  \n",
       " 43300         10      1          0     21      743  2020  \n",
       " 70419          0      2          3     24      530  2017  \n",
       " 59736          0      2          3      0      676  2016  \n",
       " 2181           0      2          0      1      911  2011  \n",
       " \n",
       " [7199 rows x 12 columns]]"
      ]
     },
     "execution_count": 12,
     "metadata": {},
     "output_type": "execute_result"
    }
   ],
   "source": [
    "data[0]['price'] = data[0]['price'].apply(lambda x: int(x / 100))\n",
    "data[1]['price'] = data[1]['price'].apply(lambda x: int(x / 100))\n",
    "\n",
    "x_train = data[0].drop(['price'], axis=1)\n",
    "y_train = data[0]['price']\n",
    "\n",
    "x_test = data[1].drop(['price'], axis=1)\n",
    "y_test = data[1]['price']\n",
    "\n",
    "data"
   ]
  },
  {
   "cell_type": "code",
   "execution_count": 14,
   "metadata": {},
   "outputs": [
    {
     "ename": "NameError",
     "evalue": "name 'cp' is not defined",
     "output_type": "error",
     "traceback": [
      "\u001b[1;31m---------------------------------------------------------------------------\u001b[0m",
      "\u001b[1;31mNameError\u001b[0m                                 Traceback (most recent call last)",
      "Cell \u001b[1;32mIn[14], line 6\u001b[0m\n\u001b[0;32m      1\u001b[0m model \u001b[38;5;241m=\u001b[39m GradientBoosting(\u001b[38;5;124m'\u001b[39m\u001b[38;5;124mmse\u001b[39m\u001b[38;5;124m'\u001b[39m, \u001b[38;5;124m'\u001b[39m\u001b[38;5;124mr2_score\u001b[39m\u001b[38;5;124m'\u001b[39m,\n\u001b[0;32m      2\u001b[0m                          ntrees\u001b[38;5;241m=\u001b[39m\u001b[38;5;241m1000\u001b[39m, lr\u001b[38;5;241m=\u001b[39m\u001b[38;5;241m.01\u001b[39m, verbose\u001b[38;5;241m=\u001b[39m\u001b[38;5;241m100\u001b[39m, es\u001b[38;5;241m=\u001b[39m\u001b[38;5;241m200\u001b[39m, lambda_l2\u001b[38;5;241m=\u001b[39m\u001b[38;5;241m1\u001b[39m,\n\u001b[0;32m      3\u001b[0m                          subsample\u001b[38;5;241m=\u001b[39m\u001b[38;5;241m.8\u001b[39m, colsample\u001b[38;5;241m=\u001b[39m\u001b[38;5;241m.8\u001b[39m, min_data_in_leaf\u001b[38;5;241m=\u001b[39m\u001b[38;5;241m10\u001b[39m, min_gain_to_split\u001b[38;5;241m=\u001b[39m\u001b[38;5;241m0\u001b[39m, \n\u001b[0;32m      4\u001b[0m                          max_bin\u001b[38;5;241m=\u001b[39m\u001b[38;5;241m256\u001b[39m, max_depth\u001b[38;5;241m=\u001b[39m\u001b[38;5;241m6\u001b[39m)\n\u001b[1;32m----> 6\u001b[0m \u001b[43mmodel\u001b[49m\u001b[38;5;241;43m.\u001b[39;49m\u001b[43mfit\u001b[49m\u001b[43m(\u001b[49m\u001b[43mx_train\u001b[49m\u001b[43m,\u001b[49m\u001b[43m \u001b[49m\u001b[43my_train\u001b[49m\u001b[43m,\u001b[49m\u001b[43m \u001b[49m\u001b[43meval_sets\u001b[49m\u001b[38;5;241;43m=\u001b[39;49m\u001b[43m[\u001b[49m\u001b[43m{\u001b[49m\u001b[38;5;124;43m'\u001b[39;49m\u001b[38;5;124;43mX\u001b[39;49m\u001b[38;5;124;43m'\u001b[39;49m\u001b[43m:\u001b[49m\u001b[43m \u001b[49m\u001b[43mx_test\u001b[49m\u001b[43m,\u001b[49m\u001b[43m \u001b[49m\u001b[38;5;124;43m'\u001b[39;49m\u001b[38;5;124;43my\u001b[39;49m\u001b[38;5;124;43m'\u001b[39;49m\u001b[43m:\u001b[49m\u001b[43m \u001b[49m\u001b[43my_test\u001b[49m\u001b[43m}\u001b[49m\u001b[43m,\u001b[49m\u001b[43m]\u001b[49m\u001b[43m)\u001b[49m\n",
      "File \u001b[1;32me:\\Conda\\envs\\carprice\\lib\\site-packages\\py_boost\\gpu\\boosting.py:255\u001b[0m, in \u001b[0;36mGradientBoosting.fit\u001b[1;34m(self, X, y, sample_weight, eval_sets)\u001b[0m\n\u001b[0;32m    253\u001b[0m X, y, sample_weight, eval_sets \u001b[38;5;241m=\u001b[39m validate_input(X, y, sample_weight, eval_sets)\n\u001b[0;32m    254\u001b[0m \u001b[38;5;66;03m# fit and free memory\u001b[39;00m\n\u001b[1;32m--> 255\u001b[0m mempool \u001b[38;5;241m=\u001b[39m \u001b[43mcp\u001b[49m\u001b[38;5;241m.\u001b[39mcuda\u001b[38;5;241m.\u001b[39mMemoryPool()\n\u001b[0;32m    256\u001b[0m \u001b[38;5;28;01mwith\u001b[39;00m cp\u001b[38;5;241m.\u001b[39mcuda\u001b[38;5;241m.\u001b[39musing_allocator(allocator\u001b[38;5;241m=\u001b[39mmempool\u001b[38;5;241m.\u001b[39mmalloc):\n\u001b[0;32m    257\u001b[0m     \u001b[38;5;66;03m# quantize\u001b[39;00m\n\u001b[0;32m    258\u001b[0m     X_enc, max_bin, borders, eval_enc \u001b[38;5;241m=\u001b[39m \u001b[38;5;28mself\u001b[39m\u001b[38;5;241m.\u001b[39mquantize(X, eval_sets)\n",
      "\u001b[1;31mNameError\u001b[0m: name 'cp' is not defined"
     ]
    }
   ],
   "source": [
    "model = GradientBoosting('mse', 'r2_score',\n",
    "                         ntrees=1000, lr=.01, verbose=100, es=200, lambda_l2=1,\n",
    "                         subsample=.8, colsample=.8, min_data_in_leaf=10, min_gain_to_split=0, \n",
    "                         max_bin=256, max_depth=6)\n",
    "\n",
    "model.fit(x_train, y_train, eval_sets=[{'X': x_test, 'y': y_test},])"
   ]
  }
 ],
 "metadata": {
  "kernelspec": {
   "display_name": "carprice",
   "language": "python",
   "name": "python3"
  },
  "language_info": {
   "codemirror_mode": {
    "name": "ipython",
    "version": 3
   },
   "file_extension": ".py",
   "mimetype": "text/x-python",
   "name": "python",
   "nbconvert_exporter": "python",
   "pygments_lexer": "ipython3",
   "version": "3.10.13"
  }
 },
 "nbformat": 4,
 "nbformat_minor": 2
}
