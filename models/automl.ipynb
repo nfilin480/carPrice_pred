{
 "cells": [
  {
   "cell_type": "code",
   "execution_count": 2,
   "metadata": {},
   "outputs": [],
   "source": [
    "import numpy as np # linear algebra\n",
    "import pandas as pd # data processing, CSV file I/O (e.g. pd.read_csv)\n",
    "import sys\n",
    "from sklearn.metrics import r2_score\n",
    "import seaborn as sns\n",
    "import matplotlib as plt\n",
    "from sklearn.model_selection import train_test_split\n",
    "from sklearn.model_selection import KFold\n",
    "from tqdm.notebook import tqdm\n",
    "\n",
    "from lightautoml.automl.presets.tabular_presets import TabularAutoML\n",
    "from lightautoml.report.report_deco import ReportDeco\n",
    "from lightautoml.tasks import Task"
   ]
  },
  {
   "cell_type": "code",
   "execution_count": 3,
   "metadata": {},
   "outputs": [],
   "source": [
    "def mape(y_true, y_pred):\n",
    "    '''\n",
    "    Метрика\n",
    "    '''\n",
    "    return np.mean(np.abs((y_pred-y_true)/y_true))"
   ]
  },
  {
   "cell_type": "code",
   "execution_count": 4,
   "metadata": {},
   "outputs": [
    {
     "data": {
      "text/plain": [
       "[          price  region  mileage  engine_capacity  transmission  engine_power  \\\n",
       " 36251   2249900     134        0              1.5             2           113   \n",
       " 8466     550000     182    15400              1.6             3           115   \n",
       " 11562   3500000     143    49000              2.0             0           249   \n",
       " 71171   3700000     181   165512              1.1             3            50   \n",
       " 28399  19350000     148        1              3.5             1           273   \n",
       " ...         ...     ...      ...              ...           ...           ...   \n",
       " 37194   2949900     299        0              1.5             2           147   \n",
       " 6265    1189000     262   101569              1.5             1           106   \n",
       " 54886    895000     264    30000              1.6             3            90   \n",
       " 860     1129000     358   148996              4.2             1           350   \n",
       " 15795   3959990     284        0              2.0             1           200   \n",
       " \n",
       "        body_type  wheel  fuel_type  model  model_2  year  \n",
       " 36251          7      1          0     18      725  2023  \n",
       " 8466           7      1          0      4      173  2013  \n",
       " 11562          0      2          0      5      865  2021  \n",
       " 71171         10      1          0     25      438  1982  \n",
       " 28399          0      2          0     13      521  2023  \n",
       " ...          ...    ...        ...    ...      ...   ...  \n",
       " 37194          0      1          0     18      207  2023  \n",
       " 6265           0      1          0      3      814  2017  \n",
       " 54886          7      1          0     26        7  2023  \n",
       " 860            0      2          0      0      676  2007  \n",
       " 15795          0      2          0      7      855  2023  \n",
       " \n",
       " [64790 rows x 12 columns],\n",
       "          price  region  mileage  engine_capacity  transmission  engine_power  \\\n",
       " 5488   4239900     327        0              2.0             1           226   \n",
       " 42181   720000     143    45600              1.4             0            90   \n",
       " 20623  2000000     148    34000              2.0             1           145   \n",
       " 71722   199999     305   134000              1.6             3            81   \n",
       " 47586  6899000      44        0              3.0             1           299   \n",
       " ...        ...     ...      ...              ...           ...           ...   \n",
       " 63549  1950000     380    68000              1.6             1           123   \n",
       " 43300  1149000     290    31000              1.6             3            82   \n",
       " 70419  3549000     181   114000              2.8             1           177   \n",
       " 59736  4450000     106    62000              3.0             1           249   \n",
       " 2181   1899000     181   137345              3.0             1           306   \n",
       " \n",
       "        body_type  wheel  fuel_type  model  model_2  year  \n",
       " 5488           0      2          0      2      858  2023  \n",
       " 42181         10      1          0     20       37  2008  \n",
       " 20623          0      2          2      9      218  2019  \n",
       " 71722         10      1          0     26        3  2009  \n",
       " 47586          0      2          0     23       97  2023  \n",
       " ...          ...    ...        ...    ...      ...   ...  \n",
       " 63549          0      1          0     10      292  2019  \n",
       " 43300         10      1          0     21      743  2020  \n",
       " 70419          0      2          3     24      530  2017  \n",
       " 59736          0      2          3      0      676  2016  \n",
       " 2181           0      2          0      1      911  2011  \n",
       " \n",
       " [7199 rows x 12 columns]]"
      ]
     },
     "execution_count": 4,
     "metadata": {},
     "output_type": "execute_result"
    }
   ],
   "source": [
    "train_val_data = pd.read_csv('../datasets/prod_data_all.csv')\n",
    "data = train_test_split(train_val_data, test_size=0.1, shuffle=True, random_state=42)\n",
    "\n",
    "data"
   ]
  },
  {
   "cell_type": "code",
   "execution_count": 5,
   "metadata": {},
   "outputs": [
    {
     "data": {
      "text/plain": [
       "[        price  region  mileage  engine_capacity  transmission  engine_power  \\\n",
       " 36251   22499     134        0              1.5             2           113   \n",
       " 8466     5500     182    15400              1.6             3           115   \n",
       " 11562   35000     143    49000              2.0             0           249   \n",
       " 71171   37000     181   165512              1.1             3            50   \n",
       " 28399  193500     148        1              3.5             1           273   \n",
       " ...       ...     ...      ...              ...           ...           ...   \n",
       " 37194   29499     299        0              1.5             2           147   \n",
       " 6265    11890     262   101569              1.5             1           106   \n",
       " 54886    8950     264    30000              1.6             3            90   \n",
       " 860     11290     358   148996              4.2             1           350   \n",
       " 15795   39599     284        0              2.0             1           200   \n",
       " \n",
       "        body_type  wheel  fuel_type  model  model_2  year  \n",
       " 36251          7      1          0     18      725  2023  \n",
       " 8466           7      1          0      4      173  2013  \n",
       " 11562          0      2          0      5      865  2021  \n",
       " 71171         10      1          0     25      438  1982  \n",
       " 28399          0      2          0     13      521  2023  \n",
       " ...          ...    ...        ...    ...      ...   ...  \n",
       " 37194          0      1          0     18      207  2023  \n",
       " 6265           0      1          0      3      814  2017  \n",
       " 54886          7      1          0     26        7  2023  \n",
       " 860            0      2          0      0      676  2007  \n",
       " 15795          0      2          0      7      855  2023  \n",
       " \n",
       " [64790 rows x 12 columns],\n",
       "        price  region  mileage  engine_capacity  transmission  engine_power  \\\n",
       " 5488   42399     327        0              2.0             1           226   \n",
       " 42181   7200     143    45600              1.4             0            90   \n",
       " 20623  20000     148    34000              2.0             1           145   \n",
       " 71722   1999     305   134000              1.6             3            81   \n",
       " 47586  68990      44        0              3.0             1           299   \n",
       " ...      ...     ...      ...              ...           ...           ...   \n",
       " 63549  19500     380    68000              1.6             1           123   \n",
       " 43300  11490     290    31000              1.6             3            82   \n",
       " 70419  35490     181   114000              2.8             1           177   \n",
       " 59736  44500     106    62000              3.0             1           249   \n",
       " 2181   18990     181   137345              3.0             1           306   \n",
       " \n",
       "        body_type  wheel  fuel_type  model  model_2  year  \n",
       " 5488           0      2          0      2      858  2023  \n",
       " 42181         10      1          0     20       37  2008  \n",
       " 20623          0      2          2      9      218  2019  \n",
       " 71722         10      1          0     26        3  2009  \n",
       " 47586          0      2          0     23       97  2023  \n",
       " ...          ...    ...        ...    ...      ...   ...  \n",
       " 63549          0      1          0     10      292  2019  \n",
       " 43300         10      1          0     21      743  2020  \n",
       " 70419          0      2          3     24      530  2017  \n",
       " 59736          0      2          3      0      676  2016  \n",
       " 2181           0      2          0      1      911  2011  \n",
       " \n",
       " [7199 rows x 12 columns]]"
      ]
     },
     "execution_count": 5,
     "metadata": {},
     "output_type": "execute_result"
    }
   ],
   "source": [
    "data[0]['price'] = data[0]['price'].apply(lambda x: int(x / 100))\n",
    "data[1]['price'] = data[1]['price'].apply(lambda x: int(x / 100))\n",
    "data"
   ]
  },
  {
   "cell_type": "code",
   "execution_count": 9,
   "metadata": {},
   "outputs": [],
   "source": [
    "data[0].price = np.log(data[0].price)\n",
    "data[1].price = np.log(data[1].price)"
   ]
  },
  {
   "cell_type": "code",
   "execution_count": 10,
   "metadata": {},
   "outputs": [
    {
     "name": "stdout",
     "output_type": "stream",
     "text": [
      "[13:16:23] Stdout logging level is INFO.\n",
      "[13:16:23] Task: reg\n",
      "\n",
      "[13:16:23] Start automl preset with listed constraints:\n",
      "[13:16:23] - time: 1200.00 seconds\n",
      "[13:16:23] - CPU: 8 cores\n",
      "[13:16:23] - memory: 16 GB\n",
      "\n",
      "[13:16:23] \u001b[1mTrain data shape: (64790, 12)\u001b[0m\n",
      "\n",
      "[13:16:33] Layer \u001b[1m1\u001b[0m train process start. Time left 1189.48 secs\n",
      "[13:16:37] Start fitting \u001b[1mLvl_0_Pipe_0_Mod_0_LinearL2\u001b[0m ...\n",
      "[13:16:45] Fitting \u001b[1mLvl_0_Pipe_0_Mod_0_LinearL2\u001b[0m finished. score = \u001b[1m0.9025277164899618\u001b[0m\n",
      "[13:16:45] \u001b[1mLvl_0_Pipe_0_Mod_0_LinearL2\u001b[0m fitting and predicting completed\n",
      "[13:16:45] Time left 1177.53 secs\n",
      "\n",
      "[13:16:51] \u001b[1mSelector_LightGBM\u001b[0m fitting and predicting completed\n",
      "[13:16:55] Start fitting \u001b[1mLvl_0_Pipe_1_Mod_0_LightGBM\u001b[0m ...\n",
      "[13:17:41] Fitting \u001b[1mLvl_0_Pipe_1_Mod_0_LightGBM\u001b[0m finished. score = \u001b[1m0.9378814329628131\u001b[0m\n",
      "[13:17:41] \u001b[1mLvl_0_Pipe_1_Mod_0_LightGBM\u001b[0m fitting and predicting completed\n",
      "[13:17:41] Start hyperparameters optimization for \u001b[1mLvl_0_Pipe_1_Mod_1_Tuned_LightGBM\u001b[0m ... Time budget is 72.96 secs\n",
      "[13:19:02] Hyperparameters optimization for \u001b[1mLvl_0_Pipe_1_Mod_1_Tuned_LightGBM\u001b[0m completed\n",
      "[13:19:02] Start fitting \u001b[1mLvl_0_Pipe_1_Mod_1_Tuned_LightGBM\u001b[0m ...\n",
      "[13:20:11] Fitting \u001b[1mLvl_0_Pipe_1_Mod_1_Tuned_LightGBM\u001b[0m finished. score = \u001b[1m0.9399112681342235\u001b[0m\n",
      "[13:20:11] \u001b[1mLvl_0_Pipe_1_Mod_1_Tuned_LightGBM\u001b[0m fitting and predicting completed\n",
      "[13:20:11] Start fitting \u001b[1mLvl_0_Pipe_1_Mod_2_CatBoost\u001b[0m ...\n",
      "[13:21:37] Fitting \u001b[1mLvl_0_Pipe_1_Mod_2_CatBoost\u001b[0m finished. score = \u001b[1m0.9342166470931813\u001b[0m\n",
      "[13:21:37] \u001b[1mLvl_0_Pipe_1_Mod_2_CatBoost\u001b[0m fitting and predicting completed\n",
      "[13:21:37] Start hyperparameters optimization for \u001b[1mLvl_0_Pipe_1_Mod_3_Tuned_CatBoost\u001b[0m ... Time budget is 300.00 secs\n",
      "[13:26:43] Hyperparameters optimization for \u001b[1mLvl_0_Pipe_1_Mod_3_Tuned_CatBoost\u001b[0m completed\n",
      "[13:26:43] Start fitting \u001b[1mLvl_0_Pipe_1_Mod_3_Tuned_CatBoost\u001b[0m ...\n",
      "[13:29:21] Fitting \u001b[1mLvl_0_Pipe_1_Mod_3_Tuned_CatBoost\u001b[0m finished. score = \u001b[1m0.9370160235702486\u001b[0m\n",
      "[13:29:21] \u001b[1mLvl_0_Pipe_1_Mod_3_Tuned_CatBoost\u001b[0m fitting and predicting completed\n",
      "[13:29:21] Time left 421.84 secs\n",
      "\n",
      "[13:29:21] \u001b[1mLayer 1 training completed.\u001b[0m\n",
      "\n",
      "[13:29:21] Blending: optimization starts with equal weights and score \u001b[1m0.9376756190437306\u001b[0m\n",
      "[13:29:21] Blending: iteration \u001b[1m0\u001b[0m: score = \u001b[1m0.9406547445471494\u001b[0m, weights = \u001b[1m[0.         0.11811635 0.6236596  0.05700101 0.20122308]\u001b[0m\n",
      "[13:29:21] Blending: iteration \u001b[1m1\u001b[0m: score = \u001b[1m0.940692123750555\u001b[0m, weights = \u001b[1m[0.         0.10867633 0.6356414  0.         0.25568226]\u001b[0m\n",
      "[13:29:22] Blending: iteration \u001b[1m2\u001b[0m: score = \u001b[1m0.9406932987169301\u001b[0m, weights = \u001b[1m[0.         0.12564084 0.62568605 0.         0.24867313]\u001b[0m\n",
      "[13:29:22] Blending: iteration \u001b[1m3\u001b[0m: score = \u001b[1m0.940693307592747\u001b[0m, weights = \u001b[1m[0.         0.12710962 0.6247717  0.         0.24811865]\u001b[0m\n",
      "[13:29:22] Blending: iteration \u001b[1m4\u001b[0m: score = \u001b[1m0.9406933077225084\u001b[0m, weights = \u001b[1m[0.         0.12722625 0.62468827 0.         0.24808551]\u001b[0m\n",
      "[13:29:22] \u001b[1mAutoml preset training completed in 779.17 seconds\u001b[0m\n",
      "\n",
      "[13:29:22] Model description:\n",
      "Final prediction for new objects (level 0) = \n",
      "\t 0.12723 * (5 averaged models Lvl_0_Pipe_1_Mod_0_LightGBM) +\n",
      "\t 0.62469 * (5 averaged models Lvl_0_Pipe_1_Mod_1_Tuned_LightGBM) +\n",
      "\t 0.24809 * (5 averaged models Lvl_0_Pipe_1_Mod_3_Tuned_CatBoost) \n",
      "\n"
     ]
    },
    {
     "name": "stderr",
     "output_type": "stream",
     "text": [
      "e:\\Conda\\envs\\carprice\\lib\\site-packages\\lightautoml\\report\\report_deco.py:322: FutureWarning: \n",
      "\n",
      "`shade` is now deprecated in favor of `fill`; setting `fill=True`.\n",
      "This will become an error in seaborn v0.14.0; please update your code.\n",
      "\n",
      "  sns.kdeplot(data[\"y_pred\"] - data[\"y_true\"], shade=True, color=\"m\", ax=ax)\n"
     ]
    }
   ],
   "source": [
    "N_THREADS = 8 # 8 процессоров\n",
    "N_FOLDS = 5 # 5 параллельных задач\n",
    "RANDOM_STATE = 42\n",
    "#TEST_SIZE = 0.2\n",
    "TIMEOUT = 1200 # Время на обсчет\n",
    "\n",
    "RD = ReportDeco(output_path = './automl_output/')\n",
    "\n",
    "automl = TabularAutoML(\n",
    "    task = Task(\n",
    "        name = 'reg',\n",
    "        #loss = 'mape'),\n",
    "        metric = 'r2'),\n",
    "    timeout = TIMEOUT,\n",
    "    cpu_limit = N_THREADS,\n",
    "    reader_params = {'n_jobs': N_THREADS, 'cv': N_FOLDS, 'random_state': RANDOM_STATE}\n",
    ")\n",
    "\n",
    "automl_rd = RD(automl)\n",
    "\n",
    "oof_pred = automl_rd.fit_predict(\n",
    "    data[0],\n",
    "    roles = {'target': 'price'},\n",
    "    verbose = 1\n",
    ")\n",
    "test_pred = automl.predict(data[1])"
   ]
  },
  {
   "cell_type": "code",
   "execution_count": 12,
   "metadata": {},
   "outputs": [],
   "source": [
    "x_test = data[1].drop(['price'], axis=1)\n",
    "test_pred = automl.predict(data[1])"
   ]
  },
  {
   "cell_type": "code",
   "execution_count": 20,
   "metadata": {},
   "outputs": [
    {
     "name": "stdout",
     "output_type": "stream",
     "text": [
      "Точность модели по метрике MAPE: 14.78%\n",
      "Точность модели по метрике R2: 0.9433116639791317\n"
     ]
    }
   ],
   "source": [
    "#test_pred\n",
    "y_test = data[1]['price']\n",
    "print(f\"Точность модели по метрике MAPE: {mape(np.exp(y_test), np.exp(test_pred.data[:,0]))*100:0.2f}%\")\n",
    "print(f\"Точность модели по метрике R2: {r2_score(np.exp(y_test), np.exp(test_pred.data[:,0]))}\")"
   ]
  },
  {
   "cell_type": "code",
   "execution_count": 16,
   "metadata": {},
   "outputs": [
    {
     "data": {
      "text/plain": [
       "array([[10.630323],\n",
       "       [ 8.732985],\n",
       "       [10.075878],\n",
       "       ...,\n",
       "       [10.562755],\n",
       "       [10.807248],\n",
       "       [ 9.769814]], dtype=float32)"
      ]
     },
     "execution_count": 16,
     "metadata": {},
     "output_type": "execute_result"
    }
   ],
   "source": [
    "test_pred"
   ]
  },
  {
   "cell_type": "code",
   "execution_count": 21,
   "metadata": {},
   "outputs": [
    {
     "data": {
      "text/plain": [
       "5488     42399.0\n",
       "42181     7200.0\n",
       "20623    20000.0\n",
       "71722     1999.0\n",
       "47586    68990.0\n",
       "          ...   \n",
       "63549    19500.0\n",
       "43300    11490.0\n",
       "70419    35490.0\n",
       "59736    44500.0\n",
       "2181     18990.0\n",
       "Name: price, Length: 7199, dtype: float64"
      ]
     },
     "execution_count": 21,
     "metadata": {},
     "output_type": "execute_result"
    }
   ],
   "source": [
    "np.exp(data[1].price)"
   ]
  }
 ],
 "metadata": {
  "kernelspec": {
   "display_name": "carprice",
   "language": "python",
   "name": "python3"
  },
  "language_info": {
   "codemirror_mode": {
    "name": "ipython",
    "version": 3
   },
   "file_extension": ".py",
   "mimetype": "text/x-python",
   "name": "python",
   "nbconvert_exporter": "python",
   "pygments_lexer": "ipython3",
   "version": "3.10.13"
  }
 },
 "nbformat": 4,
 "nbformat_minor": 2
}
