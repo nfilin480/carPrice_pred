{
 "cells": [
  {
   "cell_type": "code",
   "execution_count": 5,
   "metadata": {},
   "outputs": [
    {
     "name": "stderr",
     "output_type": "stream",
     "text": [
      "C:\\Users\\sante\\AppData\\Local\\Temp\\ipykernel_8008\\3550857375.py:18: DeprecationWarning: \n",
      "Pyarrow will become a required dependency of pandas in the next major release of pandas (pandas 3.0),\n",
      "(to allow more performant data types, such as the Arrow string type, and better interoperability with other libraries)\n",
      "but was not found to be installed on your system.\n",
      "If this would cause problems for you,\n",
      "please provide us feedback at https://github.com/pandas-dev/pandas/issues/54466\n",
      "        \n",
      "  import pandas as pd\n"
     ]
    }
   ],
   "source": [
    "import re\n",
    "\n",
    "import requests\n",
    "from bs4 import BeautifulSoup\n",
    "\n",
    "from selenium import webdriver\n",
    "from selenium.webdriver.common.action_chains import ActionChains\n",
    "from selenium.webdriver.common.by import By\n",
    "\n",
    "from fake_useragent import UserAgent\n",
    "from fake_useragent import FakeUserAgentError\n",
    "from math import ceil\n",
    "from random import randint\n",
    "from time import sleep\n",
    "from base64 import b64decode\n",
    "from io import BytesIO\n",
    "from PIL import Image\n",
    "import pandas as pd\n",
    "from tqdm import tqdm"
   ]
  },
  {
   "cell_type": "code",
   "execution_count": 6,
   "metadata": {},
   "outputs": [],
   "source": [
    "URL = \"https://www.avito.ru/all/avtomobili?f=ASgBAgICAUTyCrCKAQ\" #не битые авто"
   ]
  },
  {
   "cell_type": "code",
   "execution_count": 68,
   "metadata": {},
   "outputs": [],
   "source": [
    "def avito_parser(i):\n",
    "    try:\n",
    "        ua = UserAgent().chrome\n",
    "    except FakeUserAgentError:\n",
    "        ua = \"Mozilla/5.0 (X11; Ubuntu; Linux x86_64; rv:84.0) Gecko/20100101 Firefox/84.0\"\n",
    "    options = webdriver.ChromeOptions()\n",
    "    options.add_argument(f\"user-agent={ua}\")\n",
    "    options.add_argument(\"--disable-blink-features=AutomationControlled\")\n",
    "\n",
    "    driver = webdriver.Chrome(options=options)\n",
    "    driver.implicitly_wait(10)\n",
    "    driver.get(URL)\n",
    "\n",
    "    #count = int(\n",
    "    #    (\n",
    "    #        driver.find_element(\n",
    "    #            by=By.CSS_SELECTOR, value='span[data-marker=\"page-title/count\"]'\n",
    "    #        ).text\n",
    "    #    ).replace(\" \", \"\")\n",
    "    #)\n",
    "\n",
    "    popular_models = driver.find_element(\n",
    "            by=By.CSS_SELECTOR, value='div[data-marker=\"popular-rubricator/links\"]'\n",
    "        ).find_elements(\n",
    "            by=By.CSS_SELECTOR, value='a[data-marker=\"popular-rubricator/link\"]'\n",
    "        )\n",
    "    \n",
    "    #for i in popular_models:\n",
    "    #    print(i.text)\n",
    "\n",
    "    df = pd.DataFrame(columns=['name', 'price', 'params', 'desc', 'region'])\n",
    "\n",
    "    for _ in range(1):\n",
    "        model = popular_models[i]\n",
    "    #for i in tqdm(range(20)):\n",
    "        #print(model.text)\n",
    "        url_model = model.get_attribute('href')\n",
    "        driver.get(url_model)\n",
    "\n",
    "        for _ in tqdm(range(50)):\n",
    "\n",
    "            offers = driver.find_elements(\n",
    "                by=By.CSS_SELECTOR, value='div[data-marker=\"item\"]'\n",
    "            )\n",
    "\n",
    "            for offer in offers:\n",
    "                try:\n",
    "                    #print(offer.text)\n",
    "                    avito_id = int(offer.get_attribute(\"id\")[1:])\n",
    "\n",
    "                    #offer_text = offer.text.split('\\n')\n",
    "\n",
    "                    name = offer.find_element(\n",
    "                        by=By.CSS_SELECTOR, value='h3[itemprop=\"name\"]'\n",
    "                    ).text\n",
    "\n",
    "                    #name = offer_text[0]\n",
    "\n",
    "                    #print(offer[0])\n",
    "                    #print(offer[1])\n",
    "                    #print(offer[2])\n",
    "\n",
    "                    price = offer.find_element(\n",
    "                        by=By.CSS_SELECTOR, value='meta[itemprop=\"price\"]'\n",
    "                    ).get_attribute(\"content\")\n",
    "\n",
    "                    #price = offer_text[1]\n",
    "\n",
    "                    params = offer.find_element(\n",
    "                        by=By.CSS_SELECTOR, value='p[data-marker=\"item-specific-params\"]'\n",
    "                    ).text\n",
    "\n",
    "                    #params = re.search(r'([^,\\n]+,){4}[^,\\n]+', offer.text, re.IGNORECASE)[0]\n",
    "\n",
    "                    desc = offer.find_element(\n",
    "                        by=By.CSS_SELECTOR, value='div[class=\"iva-item-descriptionStep-C0ty1\"]'\n",
    "                    ).text\n",
    "                    #desc = offer_text[-3]\n",
    "\n",
    "                    region = offer.find_element(\n",
    "                        by=By.CSS_SELECTOR, value='div[class=\"geo-root-zPwRk\"]'\n",
    "                    ).text\n",
    "                    #region = offer_text[-2]\n",
    "\n",
    "                    #print(f\"name: {name}\")\n",
    "                    #print(f\"price: {price}\")\n",
    "                    #print(f\"params: {params}\")\n",
    "                    #print(f\"desc: {desc}\")\n",
    "                    #print(f\"region: {region}\")\n",
    "                    df.loc[avito_id, 'name':'region'] = [name, price, params, desc, region]\n",
    "\n",
    "                except Exception as ex:\n",
    "                    print(ex)\n",
    "\n",
    "            try:    \n",
    "                driver.find_element(\n",
    "                    by=By.CSS_SELECTOR, value='a[data-marker=\"pagination-button/nextPage\"]'\n",
    "                ).click()\n",
    "\n",
    "                print(f'len_df: {len(df)}')\n",
    "\n",
    "                rand_sleep = randint(25, 49)\n",
    "                sleep(rand_sleep / 10)\n",
    "\n",
    "            except Exception as ex:\n",
    "                    print(ex)\n",
    "\n",
    "        df.to_csv(f'./datasets/data{i}.csv')\n",
    "\n",
    "\n",
    "    driver.quit()\n",
    "\n",
    "    return df"
   ]
  },
  {
   "cell_type": "code",
   "execution_count": 15,
   "metadata": {},
   "outputs": [
    {
     "data": {
      "text/plain": [
       "'145 586 км, 1.6 CVT (114 л.с.), внедорожник, передний, бензин'"
      ]
     },
     "execution_count": 15,
     "metadata": {},
     "output_type": "execute_result"
    }
   ],
   "source": [
    "test = 'Renault Kaptur 1.6 CVT, 2017, 145 586 км\\n900 000 ₽\\nНаписать\\nПоказать телефон\\n145 586 км, 1.6 CVT (114 л.с.), внедорожник, передний, бензин\\nКаптюры в наличии, есть из чего выбрать! Все авто на новой шипованной резине. Где посмотреть. Санкт-Петербург, Шушары, Московское шоссе, 15, а. Вт–сб с 10:00 до 19:00. Про машину. Цена с включённым Ндс 20%. Автомобиль в наличии с Птс, выдача в день обращения. Оплата Сбп, по карте без комиссии или безналичным расчётом. Если у вас ИП или ООО, поможем с лизингом. Полная исправность и прозрачная история обслуживания по регламенту производителя в течение всего пробега. Никаких дополнительных платежей, стоимость автомобиля как в объявлении. Подойдёт для курьерских служб, корпоративного парка, автошкол, таксопарков и как личный автомобиль.\\nАвтодилер'\n",
    "\n",
    "params = re.search(r'([^,\\n]+,){4}[^,\\n]+', test, re.IGNORECASE)\n",
    "params[0]"
   ]
  },
  {
   "cell_type": "code",
   "execution_count": 71,
   "metadata": {},
   "outputs": [
    {
     "name": "stdout",
     "output_type": "stream",
     "text": [
      "22\n"
     ]
    },
    {
     "name": "stderr",
     "output_type": "stream",
     "text": [
      "  0%|          | 0/50 [00:00<?, ?it/s]"
     ]
    },
    {
     "name": "stdout",
     "output_type": "stream",
     "text": [
      "Message: no such element: Unable to locate element: {\"method\":\"css selector\",\"selector\":\"div[class=\"iva-item-descriptionStep-C0ty1\"]\"}\n",
      "  (Session info: chrome=121.0.6167.140); For documentation on this error, please visit: https://www.selenium.dev/documentation/webdriver/troubleshooting/errors#no-such-element-exception\n",
      "Stacktrace:\n",
      "\tGetHandleVerifier [0x00007FF6C1845E42+3538674]\n",
      "\t(No symbol) [0x00007FF6C1464C02]\n",
      "\t(No symbol) [0x00007FF6C1315AEB]\n",
      "\t(No symbol) [0x00007FF6C135BF4E]\n",
      "\t(No symbol) [0x00007FF6C135C0CC]\n",
      "\t(No symbol) [0x00007FF6C13512EC]\n",
      "\t(No symbol) [0x00007FF6C137F0EF]\n",
      "\t(No symbol) [0x00007FF6C135124A]\n",
      "\t(No symbol) [0x00007FF6C137F2C0]\n",
      "\t(No symbol) [0x00007FF6C139BDE3]\n",
      "\t(No symbol) [0x00007FF6C137EE53]\n",
      "\t(No symbol) [0x00007FF6C134F514]\n",
      "\t(No symbol) [0x00007FF6C1350631]\n",
      "\tGetHandleVerifier [0x00007FF6C1876CAD+3738973]\n",
      "\tGetHandleVerifier [0x00007FF6C18CC506+4089270]\n",
      "\tGetHandleVerifier [0x00007FF6C18C4823+4057299]\n",
      "\tGetHandleVerifier [0x00007FF6C1595C49+720121]\n",
      "\t(No symbol) [0x00007FF6C147126F]\n",
      "\t(No symbol) [0x00007FF6C146C304]\n",
      "\t(No symbol) [0x00007FF6C146C432]\n",
      "\t(No symbol) [0x00007FF6C145BD04]\n",
      "\tBaseThreadInitThunk [0x00007FF867867344+20]\n",
      "\tRtlUserThreadStart [0x00007FF8697026B1+33]\n",
      "\n",
      "Message: no such element: Unable to locate element: {\"method\":\"css selector\",\"selector\":\"div[class=\"iva-item-descriptionStep-C0ty1\"]\"}\n",
      "  (Session info: chrome=121.0.6167.140); For documentation on this error, please visit: https://www.selenium.dev/documentation/webdriver/troubleshooting/errors#no-such-element-exception\n",
      "Stacktrace:\n",
      "\tGetHandleVerifier [0x00007FF6C1845E42+3538674]\n",
      "\t(No symbol) [0x00007FF6C1464C02]\n",
      "\t(No symbol) [0x00007FF6C1315AEB]\n",
      "\t(No symbol) [0x00007FF6C135BF4E]\n",
      "\t(No symbol) [0x00007FF6C135C0CC]\n",
      "\t(No symbol) [0x00007FF6C13512EC]\n",
      "\t(No symbol) [0x00007FF6C137F0EF]\n",
      "\t(No symbol) [0x00007FF6C135124A]\n",
      "\t(No symbol) [0x00007FF6C137F2C0]\n",
      "\t(No symbol) [0x00007FF6C139BDE3]\n",
      "\t(No symbol) [0x00007FF6C137EE53]\n",
      "\t(No symbol) [0x00007FF6C134F514]\n",
      "\t(No symbol) [0x00007FF6C1350631]\n",
      "\tGetHandleVerifier [0x00007FF6C1876CAD+3738973]\n",
      "\tGetHandleVerifier [0x00007FF6C18CC506+4089270]\n",
      "\tGetHandleVerifier [0x00007FF6C18C4823+4057299]\n",
      "\tGetHandleVerifier [0x00007FF6C1595C49+720121]\n",
      "\t(No symbol) [0x00007FF6C147126F]\n",
      "\t(No symbol) [0x00007FF6C146C304]\n",
      "\t(No symbol) [0x00007FF6C146C432]\n",
      "\t(No symbol) [0x00007FF6C145BD04]\n",
      "\tBaseThreadInitThunk [0x00007FF867867344+20]\n",
      "\tRtlUserThreadStart [0x00007FF8697026B1+33]\n",
      "\n",
      "Message: no such element: Unable to locate element: {\"method\":\"css selector\",\"selector\":\"div[class=\"iva-item-descriptionStep-C0ty1\"]\"}\n",
      "  (Session info: chrome=121.0.6167.140); For documentation on this error, please visit: https://www.selenium.dev/documentation/webdriver/troubleshooting/errors#no-such-element-exception\n",
      "Stacktrace:\n",
      "\tGetHandleVerifier [0x00007FF6C1845E42+3538674]\n",
      "\t(No symbol) [0x00007FF6C1464C02]\n",
      "\t(No symbol) [0x00007FF6C1315AEB]\n",
      "\t(No symbol) [0x00007FF6C135BF4E]\n",
      "\t(No symbol) [0x00007FF6C135C0CC]\n",
      "\t(No symbol) [0x00007FF6C13512EC]\n",
      "\t(No symbol) [0x00007FF6C137F0EF]\n",
      "\t(No symbol) [0x00007FF6C135124A]\n",
      "\t(No symbol) [0x00007FF6C137F2C0]\n",
      "\t(No symbol) [0x00007FF6C139BDE3]\n",
      "\t(No symbol) [0x00007FF6C137EE53]\n",
      "\t(No symbol) [0x00007FF6C134F514]\n",
      "\t(No symbol) [0x00007FF6C1350631]\n",
      "\tGetHandleVerifier [0x00007FF6C1876CAD+3738973]\n",
      "\tGetHandleVerifier [0x00007FF6C18CC506+4089270]\n",
      "\tGetHandleVerifier [0x00007FF6C18C4823+4057299]\n",
      "\tGetHandleVerifier [0x00007FF6C1595C49+720121]\n",
      "\t(No symbol) [0x00007FF6C147126F]\n",
      "\t(No symbol) [0x00007FF6C146C304]\n",
      "\t(No symbol) [0x00007FF6C146C432]\n",
      "\t(No symbol) [0x00007FF6C145BD04]\n",
      "\tBaseThreadInitThunk [0x00007FF867867344+20]\n",
      "\tRtlUserThreadStart [0x00007FF8697026B1+33]\n",
      "\n",
      "len_df: 50\n"
     ]
    },
    {
     "name": "stderr",
     "output_type": "stream",
     "text": [
      "  2%|▏         | 1/50 [00:41<34:14, 41.92s/it]"
     ]
    },
    {
     "name": "stdout",
     "output_type": "stream",
     "text": [
      "len_df: 99\n"
     ]
    },
    {
     "name": "stderr",
     "output_type": "stream",
     "text": [
      "  4%|▍         | 2/50 [00:57<21:03, 26.33s/it]"
     ]
    },
    {
     "name": "stdout",
     "output_type": "stream",
     "text": [
      "len_df: 149\n"
     ]
    },
    {
     "name": "stderr",
     "output_type": "stream",
     "text": [
      "  6%|▌         | 3/50 [01:12<16:41, 21.32s/it]"
     ]
    },
    {
     "name": "stdout",
     "output_type": "stream",
     "text": [
      "len_df: 198\n"
     ]
    },
    {
     "name": "stderr",
     "output_type": "stream",
     "text": [
      "  8%|▊         | 4/50 [01:26<14:02, 18.32s/it]"
     ]
    },
    {
     "name": "stdout",
     "output_type": "stream",
     "text": [
      "len_df: 248\n"
     ]
    },
    {
     "name": "stderr",
     "output_type": "stream",
     "text": [
      " 10%|█         | 5/50 [01:40<12:30, 16.67s/it]"
     ]
    },
    {
     "name": "stdout",
     "output_type": "stream",
     "text": [
      "len_df: 297\n"
     ]
    },
    {
     "name": "stderr",
     "output_type": "stream",
     "text": [
      " 12%|█▏        | 6/50 [01:56<12:07, 16.53s/it]"
     ]
    },
    {
     "name": "stdout",
     "output_type": "stream",
     "text": [
      "len_df: 345\n"
     ]
    },
    {
     "name": "stderr",
     "output_type": "stream",
     "text": [
      " 14%|█▍        | 7/50 [02:09<11:05, 15.49s/it]"
     ]
    },
    {
     "name": "stdout",
     "output_type": "stream",
     "text": [
      "len_df: 395\n"
     ]
    },
    {
     "name": "stderr",
     "output_type": "stream",
     "text": [
      " 16%|█▌        | 8/50 [02:36<13:24, 19.15s/it]"
     ]
    },
    {
     "name": "stdout",
     "output_type": "stream",
     "text": [
      "len_df: 444\n"
     ]
    },
    {
     "name": "stderr",
     "output_type": "stream",
     "text": [
      " 18%|█▊        | 9/50 [02:49<11:37, 17.01s/it]"
     ]
    },
    {
     "name": "stdout",
     "output_type": "stream",
     "text": [
      "len_df: 481\n"
     ]
    },
    {
     "name": "stderr",
     "output_type": "stream",
     "text": [
      " 20%|██        | 10/50 [03:05<11:13, 16.84s/it]"
     ]
    },
    {
     "name": "stdout",
     "output_type": "stream",
     "text": [
      "len_df: 530\n"
     ]
    },
    {
     "name": "stderr",
     "output_type": "stream",
     "text": [
      " 22%|██▏       | 11/50 [03:18<10:15, 15.78s/it]"
     ]
    },
    {
     "name": "stdout",
     "output_type": "stream",
     "text": [
      "len_df: 576\n"
     ]
    },
    {
     "name": "stderr",
     "output_type": "stream",
     "text": [
      " 24%|██▍       | 12/50 [03:32<09:39, 15.24s/it]"
     ]
    },
    {
     "name": "stdout",
     "output_type": "stream",
     "text": [
      "len_df: 619\n"
     ]
    },
    {
     "name": "stderr",
     "output_type": "stream",
     "text": [
      " 26%|██▌       | 13/50 [03:47<09:19, 15.12s/it]"
     ]
    },
    {
     "name": "stdout",
     "output_type": "stream",
     "text": [
      "len_df: 662\n"
     ]
    },
    {
     "name": "stderr",
     "output_type": "stream",
     "text": [
      " 28%|██▊       | 14/50 [04:02<08:58, 14.95s/it]"
     ]
    },
    {
     "name": "stdout",
     "output_type": "stream",
     "text": [
      "len_df: 704\n"
     ]
    },
    {
     "name": "stderr",
     "output_type": "stream",
     "text": [
      " 30%|███       | 15/50 [04:17<08:45, 15.03s/it]"
     ]
    },
    {
     "name": "stdout",
     "output_type": "stream",
     "text": [
      "len_df: 751\n"
     ]
    },
    {
     "name": "stderr",
     "output_type": "stream",
     "text": [
      " 32%|███▏      | 16/50 [04:33<08:37, 15.22s/it]"
     ]
    },
    {
     "name": "stdout",
     "output_type": "stream",
     "text": [
      "len_df: 796\n"
     ]
    },
    {
     "name": "stderr",
     "output_type": "stream",
     "text": [
      " 34%|███▍      | 17/50 [04:50<08:40, 15.77s/it]"
     ]
    },
    {
     "name": "stdout",
     "output_type": "stream",
     "text": [
      "len_df: 838\n"
     ]
    },
    {
     "name": "stderr",
     "output_type": "stream",
     "text": [
      " 36%|███▌      | 18/50 [05:29<12:07, 22.75s/it]"
     ]
    },
    {
     "name": "stdout",
     "output_type": "stream",
     "text": [
      "len_df: 876\n"
     ]
    },
    {
     "name": "stderr",
     "output_type": "stream",
     "text": [
      " 38%|███▊      | 19/50 [05:43<10:26, 20.21s/it]"
     ]
    },
    {
     "name": "stdout",
     "output_type": "stream",
     "text": [
      "len_df: 917\n"
     ]
    },
    {
     "name": "stderr",
     "output_type": "stream",
     "text": [
      " 40%|████      | 20/50 [05:58<09:17, 18.58s/it]"
     ]
    },
    {
     "name": "stdout",
     "output_type": "stream",
     "text": [
      "len_df: 962\n"
     ]
    },
    {
     "name": "stderr",
     "output_type": "stream",
     "text": [
      " 42%|████▏     | 21/50 [06:14<08:35, 17.77s/it]"
     ]
    },
    {
     "name": "stdout",
     "output_type": "stream",
     "text": [
      "len_df: 1004\n"
     ]
    },
    {
     "name": "stderr",
     "output_type": "stream",
     "text": [
      " 44%|████▍     | 22/50 [06:30<08:02, 17.24s/it]"
     ]
    },
    {
     "name": "stdout",
     "output_type": "stream",
     "text": [
      "len_df: 1040\n"
     ]
    },
    {
     "name": "stderr",
     "output_type": "stream",
     "text": [
      " 46%|████▌     | 23/50 [06:47<07:44, 17.21s/it]"
     ]
    },
    {
     "name": "stdout",
     "output_type": "stream",
     "text": [
      "len_df: 1076\n"
     ]
    },
    {
     "name": "stderr",
     "output_type": "stream",
     "text": [
      " 48%|████▊     | 24/50 [07:03<07:18, 16.87s/it]"
     ]
    },
    {
     "name": "stdout",
     "output_type": "stream",
     "text": [
      "len_df: 1120\n"
     ]
    },
    {
     "name": "stderr",
     "output_type": "stream",
     "text": [
      " 50%|█████     | 25/50 [07:20<07:01, 16.84s/it]"
     ]
    },
    {
     "name": "stdout",
     "output_type": "stream",
     "text": [
      "len_df: 1166\n"
     ]
    },
    {
     "name": "stderr",
     "output_type": "stream",
     "text": [
      " 52%|█████▏    | 26/50 [07:35<06:32, 16.36s/it]"
     ]
    },
    {
     "name": "stdout",
     "output_type": "stream",
     "text": [
      "len_df: 1206\n"
     ]
    },
    {
     "name": "stderr",
     "output_type": "stream",
     "text": [
      " 54%|█████▍    | 27/50 [07:51<06:16, 16.39s/it]"
     ]
    },
    {
     "name": "stdout",
     "output_type": "stream",
     "text": [
      "len_df: 1246\n"
     ]
    },
    {
     "name": "stderr",
     "output_type": "stream",
     "text": [
      " 56%|█████▌    | 28/50 [08:10<06:13, 16.98s/it]"
     ]
    },
    {
     "name": "stdout",
     "output_type": "stream",
     "text": [
      "len_df: 1289\n"
     ]
    },
    {
     "name": "stderr",
     "output_type": "stream",
     "text": [
      " 58%|█████▊    | 29/50 [08:30<06:16, 17.93s/it]"
     ]
    },
    {
     "name": "stdout",
     "output_type": "stream",
     "text": [
      "len_df: 1335\n"
     ]
    },
    {
     "name": "stderr",
     "output_type": "stream",
     "text": [
      " 60%|██████    | 30/50 [08:46<05:50, 17.54s/it]"
     ]
    },
    {
     "name": "stdout",
     "output_type": "stream",
     "text": [
      "len_df: 1378\n"
     ]
    },
    {
     "name": "stderr",
     "output_type": "stream",
     "text": [
      " 62%|██████▏   | 31/50 [09:08<05:54, 18.64s/it]"
     ]
    },
    {
     "name": "stdout",
     "output_type": "stream",
     "text": [
      "len_df: 1425\n"
     ]
    },
    {
     "name": "stderr",
     "output_type": "stream",
     "text": [
      " 64%|██████▍   | 32/50 [09:24<05:23, 17.96s/it]"
     ]
    },
    {
     "name": "stdout",
     "output_type": "stream",
     "text": [
      "len_df: 1465\n"
     ]
    },
    {
     "name": "stderr",
     "output_type": "stream",
     "text": [
      " 66%|██████▌   | 33/50 [09:44<05:17, 18.70s/it]"
     ]
    },
    {
     "name": "stdout",
     "output_type": "stream",
     "text": [
      "len_df: 1511\n"
     ]
    },
    {
     "name": "stderr",
     "output_type": "stream",
     "text": [
      " 68%|██████▊   | 34/50 [10:03<04:58, 18.63s/it]"
     ]
    },
    {
     "name": "stdout",
     "output_type": "stream",
     "text": [
      "len_df: 1556\n"
     ]
    },
    {
     "name": "stderr",
     "output_type": "stream",
     "text": [
      " 70%|███████   | 35/50 [10:21<04:38, 18.58s/it]"
     ]
    },
    {
     "name": "stdout",
     "output_type": "stream",
     "text": [
      "len_df: 1597\n"
     ]
    },
    {
     "name": "stderr",
     "output_type": "stream",
     "text": [
      " 72%|███████▏  | 36/50 [10:40<04:22, 18.72s/it]"
     ]
    },
    {
     "name": "stdout",
     "output_type": "stream",
     "text": [
      "len_df: 1639\n"
     ]
    },
    {
     "name": "stderr",
     "output_type": "stream",
     "text": [
      " 74%|███████▍  | 37/50 [11:04<04:21, 20.14s/it]"
     ]
    },
    {
     "name": "stdout",
     "output_type": "stream",
     "text": [
      "len_df: 1682\n"
     ]
    },
    {
     "name": "stderr",
     "output_type": "stream",
     "text": [
      " 76%|███████▌  | 38/50 [11:23<03:58, 19.92s/it]"
     ]
    },
    {
     "name": "stdout",
     "output_type": "stream",
     "text": [
      "len_df: 1715\n"
     ]
    },
    {
     "name": "stderr",
     "output_type": "stream",
     "text": [
      " 78%|███████▊  | 39/50 [11:45<03:44, 20.39s/it]"
     ]
    },
    {
     "name": "stdout",
     "output_type": "stream",
     "text": [
      "len_df: 1741\n"
     ]
    },
    {
     "name": "stderr",
     "output_type": "stream",
     "text": [
      " 80%|████████  | 40/50 [12:04<03:19, 19.92s/it]"
     ]
    },
    {
     "name": "stdout",
     "output_type": "stream",
     "text": [
      "len_df: 1773\n"
     ]
    },
    {
     "name": "stderr",
     "output_type": "stream",
     "text": [
      " 82%|████████▏ | 41/50 [12:22<02:56, 19.57s/it]"
     ]
    },
    {
     "name": "stdout",
     "output_type": "stream",
     "text": [
      "len_df: 1797\n"
     ]
    },
    {
     "name": "stderr",
     "output_type": "stream",
     "text": [
      " 84%|████████▍ | 42/50 [12:53<03:03, 23.00s/it]"
     ]
    },
    {
     "name": "stdout",
     "output_type": "stream",
     "text": [
      "len_df: 1830\n"
     ]
    },
    {
     "name": "stderr",
     "output_type": "stream",
     "text": [
      " 86%|████████▌ | 43/50 [13:12<02:31, 21.64s/it]"
     ]
    },
    {
     "name": "stdout",
     "output_type": "stream",
     "text": [
      "len_df: 1861\n"
     ]
    },
    {
     "name": "stderr",
     "output_type": "stream",
     "text": [
      " 88%|████████▊ | 44/50 [13:32<02:07, 21.18s/it]"
     ]
    },
    {
     "name": "stdout",
     "output_type": "stream",
     "text": [
      "len_df: 1889\n"
     ]
    },
    {
     "name": "stderr",
     "output_type": "stream",
     "text": [
      " 90%|█████████ | 45/50 [13:53<01:46, 21.25s/it]"
     ]
    },
    {
     "name": "stdout",
     "output_type": "stream",
     "text": [
      "len_df: 1927\n"
     ]
    },
    {
     "name": "stderr",
     "output_type": "stream",
     "text": [
      " 92%|█████████▏| 46/50 [14:12<01:22, 20.54s/it]"
     ]
    },
    {
     "name": "stdout",
     "output_type": "stream",
     "text": [
      "len_df: 1977\n"
     ]
    },
    {
     "name": "stderr",
     "output_type": "stream",
     "text": [
      " 94%|█████████▍| 47/50 [14:32<01:01, 20.39s/it]"
     ]
    },
    {
     "name": "stdout",
     "output_type": "stream",
     "text": [
      "len_df: 2027\n"
     ]
    },
    {
     "name": "stderr",
     "output_type": "stream",
     "text": [
      " 96%|█████████▌| 48/50 [15:03<00:46, 23.36s/it]"
     ]
    },
    {
     "name": "stdout",
     "output_type": "stream",
     "text": [
      "len_df: 2077\n"
     ]
    },
    {
     "name": "stderr",
     "output_type": "stream",
     "text": [
      " 98%|█████████▊| 49/50 [15:25<00:23, 23.11s/it]"
     ]
    },
    {
     "name": "stdout",
     "output_type": "stream",
     "text": [
      "len_df: 2127\n"
     ]
    },
    {
     "name": "stderr",
     "output_type": "stream",
     "text": [
      "100%|██████████| 50/50 [16:10<00:00, 19.41s/it]\n"
     ]
    },
    {
     "name": "stdout",
     "output_type": "stream",
     "text": [
      "23\n"
     ]
    },
    {
     "name": "stderr",
     "output_type": "stream",
     "text": [
      "  0%|          | 0/50 [00:00<?, ?it/s]"
     ]
    },
    {
     "name": "stdout",
     "output_type": "stream",
     "text": [
      "Message: no such element: Unable to locate element: {\"method\":\"css selector\",\"selector\":\"div[class=\"iva-item-descriptionStep-C0ty1\"]\"}\n",
      "  (Session info: chrome=121.0.6167.140); For documentation on this error, please visit: https://www.selenium.dev/documentation/webdriver/troubleshooting/errors#no-such-element-exception\n",
      "Stacktrace:\n",
      "\tGetHandleVerifier [0x00007FF6C1845E42+3538674]\n",
      "\t(No symbol) [0x00007FF6C1464C02]\n",
      "\t(No symbol) [0x00007FF6C1315AEB]\n",
      "\t(No symbol) [0x00007FF6C135BF4E]\n",
      "\t(No symbol) [0x00007FF6C135C0CC]\n",
      "\t(No symbol) [0x00007FF6C13512EC]\n",
      "\t(No symbol) [0x00007FF6C137F0EF]\n",
      "\t(No symbol) [0x00007FF6C135124A]\n",
      "\t(No symbol) [0x00007FF6C137F2C0]\n",
      "\t(No symbol) [0x00007FF6C139BDE3]\n",
      "\t(No symbol) [0x00007FF6C137EE53]\n",
      "\t(No symbol) [0x00007FF6C134F514]\n",
      "\t(No symbol) [0x00007FF6C1350631]\n",
      "\tGetHandleVerifier [0x00007FF6C1876CAD+3738973]\n",
      "\tGetHandleVerifier [0x00007FF6C18CC506+4089270]\n",
      "\tGetHandleVerifier [0x00007FF6C18C4823+4057299]\n",
      "\tGetHandleVerifier [0x00007FF6C1595C49+720121]\n",
      "\t(No symbol) [0x00007FF6C147126F]\n",
      "\t(No symbol) [0x00007FF6C146C304]\n",
      "\t(No symbol) [0x00007FF6C146C432]\n",
      "\t(No symbol) [0x00007FF6C145BD04]\n",
      "\tBaseThreadInitThunk [0x00007FF867867344+20]\n",
      "\tRtlUserThreadStart [0x00007FF8697026B1+33]\n",
      "\n",
      "Message: no such element: Unable to locate element: {\"method\":\"css selector\",\"selector\":\"div[class=\"iva-item-descriptionStep-C0ty1\"]\"}\n",
      "  (Session info: chrome=121.0.6167.140); For documentation on this error, please visit: https://www.selenium.dev/documentation/webdriver/troubleshooting/errors#no-such-element-exception\n",
      "Stacktrace:\n",
      "\tGetHandleVerifier [0x00007FF6C1845E42+3538674]\n",
      "\t(No symbol) [0x00007FF6C1464C02]\n",
      "\t(No symbol) [0x00007FF6C1315AEB]\n",
      "\t(No symbol) [0x00007FF6C135BF4E]\n",
      "\t(No symbol) [0x00007FF6C135C0CC]\n",
      "\t(No symbol) [0x00007FF6C13512EC]\n",
      "\t(No symbol) [0x00007FF6C137F0EF]\n",
      "\t(No symbol) [0x00007FF6C135124A]\n",
      "\t(No symbol) [0x00007FF6C137F2C0]\n",
      "\t(No symbol) [0x00007FF6C139BDE3]\n",
      "\t(No symbol) [0x00007FF6C137EE53]\n",
      "\t(No symbol) [0x00007FF6C134F514]\n",
      "\t(No symbol) [0x00007FF6C1350631]\n",
      "\tGetHandleVerifier [0x00007FF6C1876CAD+3738973]\n",
      "\tGetHandleVerifier [0x00007FF6C18CC506+4089270]\n",
      "\tGetHandleVerifier [0x00007FF6C18C4823+4057299]\n",
      "\tGetHandleVerifier [0x00007FF6C1595C49+720121]\n",
      "\t(No symbol) [0x00007FF6C147126F]\n",
      "\t(No symbol) [0x00007FF6C146C304]\n",
      "\t(No symbol) [0x00007FF6C146C432]\n",
      "\t(No symbol) [0x00007FF6C145BD04]\n",
      "\tBaseThreadInitThunk [0x00007FF867867344+20]\n",
      "\tRtlUserThreadStart [0x00007FF8697026B1+33]\n",
      "\n",
      "Message: no such element: Unable to locate element: {\"method\":\"css selector\",\"selector\":\"div[class=\"iva-item-descriptionStep-C0ty1\"]\"}\n",
      "  (Session info: chrome=121.0.6167.140); For documentation on this error, please visit: https://www.selenium.dev/documentation/webdriver/troubleshooting/errors#no-such-element-exception\n",
      "Stacktrace:\n",
      "\tGetHandleVerifier [0x00007FF6C1845E42+3538674]\n",
      "\t(No symbol) [0x00007FF6C1464C02]\n",
      "\t(No symbol) [0x00007FF6C1315AEB]\n",
      "\t(No symbol) [0x00007FF6C135BF4E]\n",
      "\t(No symbol) [0x00007FF6C135C0CC]\n",
      "\t(No symbol) [0x00007FF6C13512EC]\n",
      "\t(No symbol) [0x00007FF6C137F0EF]\n",
      "\t(No symbol) [0x00007FF6C135124A]\n",
      "\t(No symbol) [0x00007FF6C137F2C0]\n",
      "\t(No symbol) [0x00007FF6C139BDE3]\n",
      "\t(No symbol) [0x00007FF6C137EE53]\n",
      "\t(No symbol) [0x00007FF6C134F514]\n",
      "\t(No symbol) [0x00007FF6C1350631]\n",
      "\tGetHandleVerifier [0x00007FF6C1876CAD+3738973]\n",
      "\tGetHandleVerifier [0x00007FF6C18CC506+4089270]\n",
      "\tGetHandleVerifier [0x00007FF6C18C4823+4057299]\n",
      "\tGetHandleVerifier [0x00007FF6C1595C49+720121]\n",
      "\t(No symbol) [0x00007FF6C147126F]\n",
      "\t(No symbol) [0x00007FF6C146C304]\n",
      "\t(No symbol) [0x00007FF6C146C432]\n",
      "\t(No symbol) [0x00007FF6C145BD04]\n",
      "\tBaseThreadInitThunk [0x00007FF867867344+20]\n",
      "\tRtlUserThreadStart [0x00007FF8697026B1+33]\n",
      "\n",
      "len_df: 50\n"
     ]
    },
    {
     "name": "stderr",
     "output_type": "stream",
     "text": [
      "  2%|▏         | 1/50 [00:49<40:12, 49.24s/it]"
     ]
    },
    {
     "name": "stdout",
     "output_type": "stream",
     "text": [
      "len_df: 97\n"
     ]
    },
    {
     "name": "stderr",
     "output_type": "stream",
     "text": [
      "  4%|▍         | 2/50 [01:00<21:30, 26.89s/it]"
     ]
    },
    {
     "name": "stdout",
     "output_type": "stream",
     "text": [
      "len_df: 146\n"
     ]
    },
    {
     "name": "stderr",
     "output_type": "stream",
     "text": [
      "  6%|▌         | 3/50 [01:15<16:46, 21.42s/it]"
     ]
    },
    {
     "name": "stdout",
     "output_type": "stream",
     "text": [
      "Message: no such element: Unable to locate element: {\"method\":\"css selector\",\"selector\":\"div[class=\"iva-item-descriptionStep-C0ty1\"]\"}\n",
      "  (Session info: chrome=121.0.6167.140); For documentation on this error, please visit: https://www.selenium.dev/documentation/webdriver/troubleshooting/errors#no-such-element-exception\n",
      "Stacktrace:\n",
      "\tGetHandleVerifier [0x00007FF6C1845E42+3538674]\n",
      "\t(No symbol) [0x00007FF6C1464C02]\n",
      "\t(No symbol) [0x00007FF6C1315AEB]\n",
      "\t(No symbol) [0x00007FF6C135BF4E]\n",
      "\t(No symbol) [0x00007FF6C135C0CC]\n",
      "\t(No symbol) [0x00007FF6C13512EC]\n",
      "\t(No symbol) [0x00007FF6C137F0EF]\n",
      "\t(No symbol) [0x00007FF6C135124A]\n",
      "\t(No symbol) [0x00007FF6C137F2C0]\n",
      "\t(No symbol) [0x00007FF6C139BDE3]\n",
      "\t(No symbol) [0x00007FF6C137EE53]\n",
      "\t(No symbol) [0x00007FF6C134F514]\n",
      "\t(No symbol) [0x00007FF6C1350631]\n",
      "\tGetHandleVerifier [0x00007FF6C1876CAD+3738973]\n",
      "\tGetHandleVerifier [0x00007FF6C18CC506+4089270]\n",
      "\tGetHandleVerifier [0x00007FF6C18C4823+4057299]\n",
      "\tGetHandleVerifier [0x00007FF6C1595C49+720121]\n",
      "\t(No symbol) [0x00007FF6C147126F]\n",
      "\t(No symbol) [0x00007FF6C146C304]\n",
      "\t(No symbol) [0x00007FF6C146C432]\n",
      "\t(No symbol) [0x00007FF6C145BD04]\n",
      "\tBaseThreadInitThunk [0x00007FF867867344+20]\n",
      "\tRtlUserThreadStart [0x00007FF8697026B1+33]\n",
      "\n",
      "len_df: 193\n"
     ]
    },
    {
     "name": "stderr",
     "output_type": "stream",
     "text": [
      "  8%|▊         | 4/50 [01:37<16:45, 21.87s/it]"
     ]
    },
    {
     "name": "stdout",
     "output_type": "stream",
     "text": [
      "len_df: 243\n"
     ]
    },
    {
     "name": "stderr",
     "output_type": "stream",
     "text": [
      " 10%|█         | 5/50 [01:52<14:27, 19.28s/it]"
     ]
    },
    {
     "name": "stdout",
     "output_type": "stream",
     "text": [
      "len_df: 293\n"
     ]
    },
    {
     "name": "stderr",
     "output_type": "stream",
     "text": [
      " 12%|█▏        | 6/50 [02:08<13:19, 18.17s/it]"
     ]
    },
    {
     "name": "stdout",
     "output_type": "stream",
     "text": [
      "len_df: 334\n"
     ]
    },
    {
     "name": "stderr",
     "output_type": "stream",
     "text": [
      " 14%|█▍        | 7/50 [02:20<11:39, 16.26s/it]"
     ]
    },
    {
     "name": "stdout",
     "output_type": "stream",
     "text": [
      "len_df: 372\n"
     ]
    },
    {
     "name": "stderr",
     "output_type": "stream",
     "text": [
      " 16%|█▌        | 8/50 [02:36<11:09, 15.93s/it]"
     ]
    },
    {
     "name": "stdout",
     "output_type": "stream",
     "text": [
      "len_df: 419\n"
     ]
    },
    {
     "name": "stderr",
     "output_type": "stream",
     "text": [
      " 18%|█▊        | 9/50 [02:52<10:55, 15.98s/it]"
     ]
    },
    {
     "name": "stdout",
     "output_type": "stream",
     "text": [
      "len_df: 452\n"
     ]
    },
    {
     "name": "stderr",
     "output_type": "stream",
     "text": [
      " 20%|██        | 10/50 [03:08<10:43, 16.09s/it]"
     ]
    },
    {
     "name": "stdout",
     "output_type": "stream",
     "text": [
      "len_df: 482\n"
     ]
    },
    {
     "name": "stderr",
     "output_type": "stream",
     "text": [
      " 22%|██▏       | 11/50 [03:22<09:58, 15.36s/it]"
     ]
    },
    {
     "name": "stdout",
     "output_type": "stream",
     "text": [
      "len_df: 523\n"
     ]
    },
    {
     "name": "stderr",
     "output_type": "stream",
     "text": [
      " 24%|██▍       | 12/50 [03:37<09:47, 15.45s/it]"
     ]
    },
    {
     "name": "stdout",
     "output_type": "stream",
     "text": [
      "len_df: 559\n"
     ]
    },
    {
     "name": "stderr",
     "output_type": "stream",
     "text": [
      " 26%|██▌       | 13/50 [03:53<09:28, 15.38s/it]"
     ]
    },
    {
     "name": "stdout",
     "output_type": "stream",
     "text": [
      "len_df: 593\n"
     ]
    },
    {
     "name": "stderr",
     "output_type": "stream",
     "text": [
      " 28%|██▊       | 14/50 [04:10<09:32, 15.92s/it]"
     ]
    },
    {
     "name": "stdout",
     "output_type": "stream",
     "text": [
      "len_df: 627\n"
     ]
    },
    {
     "name": "stderr",
     "output_type": "stream",
     "text": [
      " 30%|███       | 15/50 [04:25<09:12, 15.78s/it]"
     ]
    },
    {
     "name": "stdout",
     "output_type": "stream",
     "text": [
      "Message: no such element: Unable to locate element: {\"method\":\"css selector\",\"selector\":\"div[class=\"iva-item-descriptionStep-C0ty1\"]\"}\n",
      "  (Session info: chrome=121.0.6167.140); For documentation on this error, please visit: https://www.selenium.dev/documentation/webdriver/troubleshooting/errors#no-such-element-exception\n",
      "Stacktrace:\n",
      "\tGetHandleVerifier [0x00007FF6C1845E42+3538674]\n",
      "\t(No symbol) [0x00007FF6C1464C02]\n",
      "\t(No symbol) [0x00007FF6C1315AEB]\n",
      "\t(No symbol) [0x00007FF6C135BF4E]\n",
      "\t(No symbol) [0x00007FF6C135C0CC]\n",
      "\t(No symbol) [0x00007FF6C13512EC]\n",
      "\t(No symbol) [0x00007FF6C137F0EF]\n",
      "\t(No symbol) [0x00007FF6C135124A]\n",
      "\t(No symbol) [0x00007FF6C137F2C0]\n",
      "\t(No symbol) [0x00007FF6C139BDE3]\n",
      "\t(No symbol) [0x00007FF6C137EE53]\n",
      "\t(No symbol) [0x00007FF6C134F514]\n",
      "\t(No symbol) [0x00007FF6C1350631]\n",
      "\tGetHandleVerifier [0x00007FF6C1876CAD+3738973]\n",
      "\tGetHandleVerifier [0x00007FF6C18CC506+4089270]\n",
      "\tGetHandleVerifier [0x00007FF6C18C4823+4057299]\n",
      "\tGetHandleVerifier [0x00007FF6C1595C49+720121]\n",
      "\t(No symbol) [0x00007FF6C147126F]\n",
      "\t(No symbol) [0x00007FF6C146C304]\n",
      "\t(No symbol) [0x00007FF6C146C432]\n",
      "\t(No symbol) [0x00007FF6C145BD04]\n",
      "\tBaseThreadInitThunk [0x00007FF867867344+20]\n",
      "\tRtlUserThreadStart [0x00007FF8697026B1+33]\n",
      "\n",
      "len_df: 663\n"
     ]
    },
    {
     "name": "stderr",
     "output_type": "stream",
     "text": [
      " 32%|███▏      | 16/50 [04:49<10:20, 18.24s/it]"
     ]
    },
    {
     "name": "stdout",
     "output_type": "stream",
     "text": [
      "len_df: 700\n"
     ]
    },
    {
     "name": "stderr",
     "output_type": "stream",
     "text": [
      " 34%|███▍      | 17/50 [05:05<09:41, 17.62s/it]"
     ]
    },
    {
     "name": "stdout",
     "output_type": "stream",
     "text": [
      "len_df: 725\n"
     ]
    },
    {
     "name": "stderr",
     "output_type": "stream",
     "text": [
      " 36%|███▌      | 18/50 [05:23<09:24, 17.65s/it]"
     ]
    },
    {
     "name": "stdout",
     "output_type": "stream",
     "text": [
      "len_df: 768\n"
     ]
    },
    {
     "name": "stderr",
     "output_type": "stream",
     "text": [
      " 38%|███▊      | 19/50 [05:43<09:24, 18.20s/it]"
     ]
    },
    {
     "name": "stdout",
     "output_type": "stream",
     "text": [
      "len_df: 790\n"
     ]
    },
    {
     "name": "stderr",
     "output_type": "stream",
     "text": [
      " 40%|████      | 20/50 [06:02<09:13, 18.45s/it]"
     ]
    },
    {
     "name": "stdout",
     "output_type": "stream",
     "text": [
      "len_df: 821\n"
     ]
    },
    {
     "name": "stderr",
     "output_type": "stream",
     "text": [
      " 42%|████▏     | 21/50 [06:18<08:35, 17.79s/it]"
     ]
    },
    {
     "name": "stdout",
     "output_type": "stream",
     "text": [
      "len_df: 859\n"
     ]
    },
    {
     "name": "stderr",
     "output_type": "stream",
     "text": [
      " 44%|████▍     | 22/50 [06:34<08:03, 17.27s/it]"
     ]
    },
    {
     "name": "stdout",
     "output_type": "stream",
     "text": [
      "len_df: 902\n"
     ]
    },
    {
     "name": "stderr",
     "output_type": "stream",
     "text": [
      " 46%|████▌     | 23/50 [06:51<07:46, 17.30s/it]"
     ]
    },
    {
     "name": "stdout",
     "output_type": "stream",
     "text": [
      "len_df: 943\n"
     ]
    },
    {
     "name": "stderr",
     "output_type": "stream",
     "text": [
      " 48%|████▊     | 24/50 [07:09<07:30, 17.34s/it]"
     ]
    },
    {
     "name": "stdout",
     "output_type": "stream",
     "text": [
      "len_df: 984\n"
     ]
    },
    {
     "name": "stderr",
     "output_type": "stream",
     "text": [
      " 50%|█████     | 25/50 [07:26<07:15, 17.43s/it]"
     ]
    },
    {
     "name": "stdout",
     "output_type": "stream",
     "text": [
      "len_df: 1030\n"
     ]
    },
    {
     "name": "stderr",
     "output_type": "stream",
     "text": [
      " 52%|█████▏    | 26/50 [07:46<07:12, 18.04s/it]"
     ]
    },
    {
     "name": "stdout",
     "output_type": "stream",
     "text": [
      "len_df: 1074\n"
     ]
    },
    {
     "name": "stderr",
     "output_type": "stream",
     "text": [
      " 54%|█████▍    | 27/50 [08:05<07:00, 18.28s/it]"
     ]
    },
    {
     "name": "stdout",
     "output_type": "stream",
     "text": [
      "len_df: 1119\n"
     ]
    },
    {
     "name": "stderr",
     "output_type": "stream",
     "text": [
      " 56%|█████▌    | 28/50 [08:23<06:41, 18.24s/it]"
     ]
    },
    {
     "name": "stdout",
     "output_type": "stream",
     "text": [
      "len_df: 1165\n"
     ]
    },
    {
     "name": "stderr",
     "output_type": "stream",
     "text": [
      " 58%|█████▊    | 29/50 [09:04<08:47, 25.12s/it]"
     ]
    },
    {
     "name": "stdout",
     "output_type": "stream",
     "text": [
      "len_df: 1207\n"
     ]
    },
    {
     "name": "stderr",
     "output_type": "stream",
     "text": [
      " 60%|██████    | 30/50 [09:20<07:28, 22.44s/it]"
     ]
    },
    {
     "name": "stdout",
     "output_type": "stream",
     "text": [
      "len_df: 1254\n"
     ]
    },
    {
     "name": "stderr",
     "output_type": "stream",
     "text": [
      " 62%|██████▏   | 31/50 [09:38<06:40, 21.10s/it]"
     ]
    },
    {
     "name": "stdout",
     "output_type": "stream",
     "text": [
      "len_df: 1300\n"
     ]
    },
    {
     "name": "stderr",
     "output_type": "stream",
     "text": [
      " 64%|██████▍   | 32/50 [09:57<06:07, 20.40s/it]"
     ]
    },
    {
     "name": "stdout",
     "output_type": "stream",
     "text": [
      "len_df: 1344\n"
     ]
    },
    {
     "name": "stderr",
     "output_type": "stream",
     "text": [
      " 66%|██████▌   | 33/50 [10:14<05:27, 19.29s/it]"
     ]
    },
    {
     "name": "stdout",
     "output_type": "stream",
     "text": [
      "len_df: 1390\n"
     ]
    },
    {
     "name": "stderr",
     "output_type": "stream",
     "text": [
      " 68%|██████▊   | 34/50 [10:36<05:21, 20.09s/it]"
     ]
    },
    {
     "name": "stdout",
     "output_type": "stream",
     "text": [
      "len_df: 1436\n"
     ]
    },
    {
     "name": "stderr",
     "output_type": "stream",
     "text": [
      " 70%|███████   | 35/50 [11:01<05:25, 21.70s/it]"
     ]
    },
    {
     "name": "stdout",
     "output_type": "stream",
     "text": [
      "len_df: 1478\n"
     ]
    },
    {
     "name": "stderr",
     "output_type": "stream",
     "text": [
      " 72%|███████▏  | 36/50 [11:26<05:18, 22.78s/it]"
     ]
    },
    {
     "name": "stdout",
     "output_type": "stream",
     "text": [
      "len_df: 1524\n"
     ]
    },
    {
     "name": "stderr",
     "output_type": "stream",
     "text": [
      " 74%|███████▍  | 37/50 [11:44<04:36, 21.28s/it]"
     ]
    },
    {
     "name": "stdout",
     "output_type": "stream",
     "text": [
      "len_df: 1569\n"
     ]
    },
    {
     "name": "stderr",
     "output_type": "stream",
     "text": [
      " 76%|███████▌  | 38/50 [12:05<04:12, 21.06s/it]"
     ]
    },
    {
     "name": "stdout",
     "output_type": "stream",
     "text": [
      "len_df: 1615\n"
     ]
    },
    {
     "name": "stderr",
     "output_type": "stream",
     "text": [
      " 78%|███████▊  | 39/50 [12:27<03:57, 21.55s/it]"
     ]
    },
    {
     "name": "stdout",
     "output_type": "stream",
     "text": [
      "len_df: 1661\n"
     ]
    },
    {
     "name": "stderr",
     "output_type": "stream",
     "text": [
      " 80%|████████  | 40/50 [12:46<03:25, 20.55s/it]"
     ]
    },
    {
     "name": "stdout",
     "output_type": "stream",
     "text": [
      "len_df: 1707\n"
     ]
    },
    {
     "name": "stderr",
     "output_type": "stream",
     "text": [
      " 82%|████████▏ | 41/50 [13:10<03:14, 21.63s/it]"
     ]
    },
    {
     "name": "stdout",
     "output_type": "stream",
     "text": [
      "len_df: 1752\n"
     ]
    },
    {
     "name": "stderr",
     "output_type": "stream",
     "text": [
      " 84%|████████▍ | 42/50 [13:27<02:42, 20.34s/it]"
     ]
    },
    {
     "name": "stdout",
     "output_type": "stream",
     "text": [
      "len_df: 1801\n"
     ]
    },
    {
     "name": "stderr",
     "output_type": "stream",
     "text": [
      " 86%|████████▌ | 43/50 [13:48<02:23, 20.52s/it]"
     ]
    },
    {
     "name": "stdout",
     "output_type": "stream",
     "text": [
      "len_df: 1848\n"
     ]
    },
    {
     "name": "stderr",
     "output_type": "stream",
     "text": [
      " 88%|████████▊ | 44/50 [14:05<01:56, 19.42s/it]"
     ]
    },
    {
     "name": "stdout",
     "output_type": "stream",
     "text": [
      "len_df: 1894\n"
     ]
    },
    {
     "name": "stderr",
     "output_type": "stream",
     "text": [
      " 90%|█████████ | 45/50 [14:30<01:45, 21.20s/it]"
     ]
    },
    {
     "name": "stdout",
     "output_type": "stream",
     "text": [
      "len_df: 1939\n"
     ]
    },
    {
     "name": "stderr",
     "output_type": "stream",
     "text": [
      " 92%|█████████▏| 46/50 [14:53<01:26, 21.63s/it]"
     ]
    },
    {
     "name": "stdout",
     "output_type": "stream",
     "text": [
      "len_df: 1985\n"
     ]
    },
    {
     "name": "stderr",
     "output_type": "stream",
     "text": [
      " 94%|█████████▍| 47/50 [15:13<01:03, 21.15s/it]"
     ]
    },
    {
     "name": "stdout",
     "output_type": "stream",
     "text": [
      "len_df: 2032\n"
     ]
    },
    {
     "name": "stderr",
     "output_type": "stream",
     "text": [
      " 96%|█████████▌| 48/50 [15:33<00:41, 20.82s/it]"
     ]
    },
    {
     "name": "stdout",
     "output_type": "stream",
     "text": [
      "len_df: 2079\n"
     ]
    },
    {
     "name": "stderr",
     "output_type": "stream",
     "text": [
      " 98%|█████████▊| 49/50 [15:54<00:20, 20.83s/it]"
     ]
    },
    {
     "name": "stdout",
     "output_type": "stream",
     "text": [
      "len_df: 2126\n"
     ]
    },
    {
     "name": "stderr",
     "output_type": "stream",
     "text": [
      "100%|██████████| 50/50 [16:13<00:00, 19.47s/it]\n"
     ]
    },
    {
     "name": "stdout",
     "output_type": "stream",
     "text": [
      "24\n"
     ]
    },
    {
     "name": "stderr",
     "output_type": "stream",
     "text": [
      "  0%|          | 0/50 [00:00<?, ?it/s]"
     ]
    },
    {
     "name": "stdout",
     "output_type": "stream",
     "text": [
      "Message: no such element: Unable to locate element: {\"method\":\"css selector\",\"selector\":\"div[class=\"iva-item-descriptionStep-C0ty1\"]\"}\n",
      "  (Session info: chrome=121.0.6167.140); For documentation on this error, please visit: https://www.selenium.dev/documentation/webdriver/troubleshooting/errors#no-such-element-exception\n",
      "Stacktrace:\n",
      "\tGetHandleVerifier [0x00007FF6C1845E42+3538674]\n",
      "\t(No symbol) [0x00007FF6C1464C02]\n",
      "\t(No symbol) [0x00007FF6C1315AEB]\n",
      "\t(No symbol) [0x00007FF6C135BF4E]\n",
      "\t(No symbol) [0x00007FF6C135C0CC]\n",
      "\t(No symbol) [0x00007FF6C13512EC]\n",
      "\t(No symbol) [0x00007FF6C137F0EF]\n",
      "\t(No symbol) [0x00007FF6C135124A]\n",
      "\t(No symbol) [0x00007FF6C137F2C0]\n",
      "\t(No symbol) [0x00007FF6C139BDE3]\n",
      "\t(No symbol) [0x00007FF6C137EE53]\n",
      "\t(No symbol) [0x00007FF6C134F514]\n",
      "\t(No symbol) [0x00007FF6C1350631]\n",
      "\tGetHandleVerifier [0x00007FF6C1876CAD+3738973]\n",
      "\tGetHandleVerifier [0x00007FF6C18CC506+4089270]\n",
      "\tGetHandleVerifier [0x00007FF6C18C4823+4057299]\n",
      "\tGetHandleVerifier [0x00007FF6C1595C49+720121]\n",
      "\t(No symbol) [0x00007FF6C147126F]\n",
      "\t(No symbol) [0x00007FF6C146C304]\n",
      "\t(No symbol) [0x00007FF6C146C432]\n",
      "\t(No symbol) [0x00007FF6C145BD04]\n",
      "\tBaseThreadInitThunk [0x00007FF867867344+20]\n",
      "\tRtlUserThreadStart [0x00007FF8697026B1+33]\n",
      "\n",
      "Message: no such element: Unable to locate element: {\"method\":\"css selector\",\"selector\":\"div[class=\"iva-item-descriptionStep-C0ty1\"]\"}\n",
      "  (Session info: chrome=121.0.6167.140); For documentation on this error, please visit: https://www.selenium.dev/documentation/webdriver/troubleshooting/errors#no-such-element-exception\n",
      "Stacktrace:\n",
      "\tGetHandleVerifier [0x00007FF6C1845E42+3538674]\n",
      "\t(No symbol) [0x00007FF6C1464C02]\n",
      "\t(No symbol) [0x00007FF6C1315AEB]\n",
      "\t(No symbol) [0x00007FF6C135BF4E]\n",
      "\t(No symbol) [0x00007FF6C135C0CC]\n",
      "\t(No symbol) [0x00007FF6C13512EC]\n",
      "\t(No symbol) [0x00007FF6C137F0EF]\n",
      "\t(No symbol) [0x00007FF6C135124A]\n",
      "\t(No symbol) [0x00007FF6C137F2C0]\n",
      "\t(No symbol) [0x00007FF6C139BDE3]\n",
      "\t(No symbol) [0x00007FF6C137EE53]\n",
      "\t(No symbol) [0x00007FF6C134F514]\n",
      "\t(No symbol) [0x00007FF6C1350631]\n",
      "\tGetHandleVerifier [0x00007FF6C1876CAD+3738973]\n",
      "\tGetHandleVerifier [0x00007FF6C18CC506+4089270]\n",
      "\tGetHandleVerifier [0x00007FF6C18C4823+4057299]\n",
      "\tGetHandleVerifier [0x00007FF6C1595C49+720121]\n",
      "\t(No symbol) [0x00007FF6C147126F]\n",
      "\t(No symbol) [0x00007FF6C146C304]\n",
      "\t(No symbol) [0x00007FF6C146C432]\n",
      "\t(No symbol) [0x00007FF6C145BD04]\n",
      "\tBaseThreadInitThunk [0x00007FF867867344+20]\n",
      "\tRtlUserThreadStart [0x00007FF8697026B1+33]\n",
      "\n",
      "Message: no such element: Unable to locate element: {\"method\":\"css selector\",\"selector\":\"div[class=\"iva-item-descriptionStep-C0ty1\"]\"}\n",
      "  (Session info: chrome=121.0.6167.140); For documentation on this error, please visit: https://www.selenium.dev/documentation/webdriver/troubleshooting/errors#no-such-element-exception\n",
      "Stacktrace:\n",
      "\tGetHandleVerifier [0x00007FF6C1845E42+3538674]\n",
      "\t(No symbol) [0x00007FF6C1464C02]\n",
      "\t(No symbol) [0x00007FF6C1315AEB]\n",
      "\t(No symbol) [0x00007FF6C135BF4E]\n",
      "\t(No symbol) [0x00007FF6C135C0CC]\n",
      "\t(No symbol) [0x00007FF6C13512EC]\n",
      "\t(No symbol) [0x00007FF6C137F0EF]\n",
      "\t(No symbol) [0x00007FF6C135124A]\n",
      "\t(No symbol) [0x00007FF6C137F2C0]\n",
      "\t(No symbol) [0x00007FF6C139BDE3]\n",
      "\t(No symbol) [0x00007FF6C137EE53]\n",
      "\t(No symbol) [0x00007FF6C134F514]\n",
      "\t(No symbol) [0x00007FF6C1350631]\n",
      "\tGetHandleVerifier [0x00007FF6C1876CAD+3738973]\n",
      "\tGetHandleVerifier [0x00007FF6C18CC506+4089270]\n",
      "\tGetHandleVerifier [0x00007FF6C18C4823+4057299]\n",
      "\tGetHandleVerifier [0x00007FF6C1595C49+720121]\n",
      "\t(No symbol) [0x00007FF6C147126F]\n",
      "\t(No symbol) [0x00007FF6C146C304]\n",
      "\t(No symbol) [0x00007FF6C146C432]\n",
      "\t(No symbol) [0x00007FF6C145BD04]\n",
      "\tBaseThreadInitThunk [0x00007FF867867344+20]\n",
      "\tRtlUserThreadStart [0x00007FF8697026B1+33]\n",
      "\n",
      "len_df: 50\n"
     ]
    },
    {
     "name": "stderr",
     "output_type": "stream",
     "text": [
      "  2%|▏         | 1/50 [00:49<40:10, 49.18s/it]"
     ]
    },
    {
     "name": "stdout",
     "output_type": "stream",
     "text": [
      "len_df: 100\n"
     ]
    },
    {
     "name": "stderr",
     "output_type": "stream",
     "text": [
      "  4%|▍         | 2/50 [00:59<21:12, 26.52s/it]"
     ]
    },
    {
     "name": "stdout",
     "output_type": "stream",
     "text": [
      "len_df: 150\n"
     ]
    },
    {
     "name": "stderr",
     "output_type": "stream",
     "text": [
      "  6%|▌         | 3/50 [01:12<15:52, 20.28s/it]"
     ]
    },
    {
     "name": "stdout",
     "output_type": "stream",
     "text": [
      "len_df: 199\n"
     ]
    },
    {
     "name": "stderr",
     "output_type": "stream",
     "text": [
      "  8%|▊         | 4/50 [01:27<13:49, 18.04s/it]"
     ]
    },
    {
     "name": "stdout",
     "output_type": "stream",
     "text": [
      "len_df: 249\n"
     ]
    },
    {
     "name": "stderr",
     "output_type": "stream",
     "text": [
      " 10%|█         | 5/50 [01:39<12:04, 16.10s/it]"
     ]
    },
    {
     "name": "stdout",
     "output_type": "stream",
     "text": [
      "len_df: 299\n"
     ]
    },
    {
     "name": "stderr",
     "output_type": "stream",
     "text": [
      " 12%|█▏        | 6/50 [01:53<11:05, 15.12s/it]"
     ]
    },
    {
     "name": "stdout",
     "output_type": "stream",
     "text": [
      "len_df: 338\n"
     ]
    },
    {
     "name": "stderr",
     "output_type": "stream",
     "text": [
      " 14%|█▍        | 7/50 [02:06<10:22, 14.49s/it]"
     ]
    },
    {
     "name": "stdout",
     "output_type": "stream",
     "text": [
      "len_df: 383\n"
     ]
    },
    {
     "name": "stderr",
     "output_type": "stream",
     "text": [
      " 16%|█▌        | 8/50 [02:21<10:14, 14.64s/it]"
     ]
    },
    {
     "name": "stdout",
     "output_type": "stream",
     "text": [
      "len_df: 423\n"
     ]
    },
    {
     "name": "stderr",
     "output_type": "stream",
     "text": [
      " 18%|█▊        | 9/50 [02:32<09:19, 13.63s/it]"
     ]
    },
    {
     "name": "stdout",
     "output_type": "stream",
     "text": [
      "len_df: 466\n"
     ]
    },
    {
     "name": "stderr",
     "output_type": "stream",
     "text": [
      " 20%|██        | 10/50 [02:46<09:05, 13.63s/it]"
     ]
    },
    {
     "name": "stdout",
     "output_type": "stream",
     "text": [
      "len_df: 503\n"
     ]
    },
    {
     "name": "stderr",
     "output_type": "stream",
     "text": [
      " 22%|██▏       | 11/50 [03:01<09:06, 14.01s/it]"
     ]
    },
    {
     "name": "stdout",
     "output_type": "stream",
     "text": [
      "len_df: 535\n"
     ]
    },
    {
     "name": "stderr",
     "output_type": "stream",
     "text": [
      " 24%|██▍       | 12/50 [03:17<09:13, 14.56s/it]"
     ]
    },
    {
     "name": "stdout",
     "output_type": "stream",
     "text": [
      "len_df: 575\n"
     ]
    },
    {
     "name": "stderr",
     "output_type": "stream",
     "text": [
      " 26%|██▌       | 13/50 [03:33<09:14, 15.00s/it]"
     ]
    },
    {
     "name": "stdout",
     "output_type": "stream",
     "text": [
      "len_df: 606\n"
     ]
    },
    {
     "name": "stderr",
     "output_type": "stream",
     "text": [
      " 28%|██▊       | 14/50 [03:46<08:44, 14.56s/it]"
     ]
    },
    {
     "name": "stdout",
     "output_type": "stream",
     "text": [
      "len_df: 643\n"
     ]
    },
    {
     "name": "stderr",
     "output_type": "stream",
     "text": [
      " 30%|███       | 15/50 [03:59<08:13, 14.09s/it]"
     ]
    },
    {
     "name": "stdout",
     "output_type": "stream",
     "text": [
      "len_df: 672\n"
     ]
    },
    {
     "name": "stderr",
     "output_type": "stream",
     "text": [
      " 32%|███▏      | 16/50 [04:18<08:52, 15.66s/it]"
     ]
    },
    {
     "name": "stdout",
     "output_type": "stream",
     "text": [
      "len_df: 708\n"
     ]
    },
    {
     "name": "stderr",
     "output_type": "stream",
     "text": [
      " 34%|███▍      | 17/50 [04:37<09:08, 16.63s/it]"
     ]
    },
    {
     "name": "stdout",
     "output_type": "stream",
     "text": [
      "len_df: 735\n"
     ]
    },
    {
     "name": "stderr",
     "output_type": "stream",
     "text": [
      " 36%|███▌      | 18/50 [04:56<09:10, 17.22s/it]"
     ]
    },
    {
     "name": "stdout",
     "output_type": "stream",
     "text": [
      "len_df: 771\n"
     ]
    },
    {
     "name": "stderr",
     "output_type": "stream",
     "text": [
      " 38%|███▊      | 19/50 [05:14<08:57, 17.35s/it]"
     ]
    },
    {
     "name": "stdout",
     "output_type": "stream",
     "text": [
      "len_df: 804\n"
     ]
    },
    {
     "name": "stderr",
     "output_type": "stream",
     "text": [
      " 40%|████      | 20/50 [05:32<08:54, 17.83s/it]"
     ]
    },
    {
     "name": "stdout",
     "output_type": "stream",
     "text": [
      "len_df: 843\n"
     ]
    },
    {
     "name": "stderr",
     "output_type": "stream",
     "text": [
      " 42%|████▏     | 21/50 [05:49<08:22, 17.34s/it]"
     ]
    },
    {
     "name": "stdout",
     "output_type": "stream",
     "text": [
      "len_df: 888\n"
     ]
    },
    {
     "name": "stderr",
     "output_type": "stream",
     "text": [
      " 44%|████▍     | 22/50 [06:03<07:43, 16.54s/it]"
     ]
    },
    {
     "name": "stdout",
     "output_type": "stream",
     "text": [
      "len_df: 929\n"
     ]
    },
    {
     "name": "stderr",
     "output_type": "stream",
     "text": [
      " 46%|████▌     | 23/50 [06:18<07:10, 15.94s/it]"
     ]
    },
    {
     "name": "stdout",
     "output_type": "stream",
     "text": [
      "len_df: 975\n"
     ]
    },
    {
     "name": "stderr",
     "output_type": "stream",
     "text": [
      " 48%|████▊     | 24/50 [06:33<06:48, 15.70s/it]"
     ]
    },
    {
     "name": "stdout",
     "output_type": "stream",
     "text": [
      "len_df: 1021\n"
     ]
    },
    {
     "name": "stderr",
     "output_type": "stream",
     "text": [
      " 50%|█████     | 25/50 [06:48<06:28, 15.56s/it]"
     ]
    },
    {
     "name": "stdout",
     "output_type": "stream",
     "text": [
      "Message: no such element: Unable to locate element: {\"method\":\"css selector\",\"selector\":\"div[class=\"iva-item-descriptionStep-C0ty1\"]\"}\n",
      "  (Session info: chrome=121.0.6167.140); For documentation on this error, please visit: https://www.selenium.dev/documentation/webdriver/troubleshooting/errors#no-such-element-exception\n",
      "Stacktrace:\n",
      "\tGetHandleVerifier [0x00007FF6C1845E42+3538674]\n",
      "\t(No symbol) [0x00007FF6C1464C02]\n",
      "\t(No symbol) [0x00007FF6C1315AEB]\n",
      "\t(No symbol) [0x00007FF6C135BF4E]\n",
      "\t(No symbol) [0x00007FF6C135C0CC]\n",
      "\t(No symbol) [0x00007FF6C13512EC]\n",
      "\t(No symbol) [0x00007FF6C137F0EF]\n",
      "\t(No symbol) [0x00007FF6C135124A]\n",
      "\t(No symbol) [0x00007FF6C137F2C0]\n",
      "\t(No symbol) [0x00007FF6C139BDE3]\n",
      "\t(No symbol) [0x00007FF6C137EE53]\n",
      "\t(No symbol) [0x00007FF6C134F514]\n",
      "\t(No symbol) [0x00007FF6C1350631]\n",
      "\tGetHandleVerifier [0x00007FF6C1876CAD+3738973]\n",
      "\tGetHandleVerifier [0x00007FF6C18CC506+4089270]\n",
      "\tGetHandleVerifier [0x00007FF6C18C4823+4057299]\n",
      "\tGetHandleVerifier [0x00007FF6C1595C49+720121]\n",
      "\t(No symbol) [0x00007FF6C147126F]\n",
      "\t(No symbol) [0x00007FF6C146C304]\n",
      "\t(No symbol) [0x00007FF6C146C432]\n",
      "\t(No symbol) [0x00007FF6C145BD04]\n",
      "\tBaseThreadInitThunk [0x00007FF867867344+20]\n",
      "\tRtlUserThreadStart [0x00007FF8697026B1+33]\n",
      "\n",
      "len_df: 1062\n"
     ]
    },
    {
     "name": "stderr",
     "output_type": "stream",
     "text": [
      " 52%|█████▏    | 26/50 [07:15<07:33, 18.91s/it]"
     ]
    },
    {
     "name": "stdout",
     "output_type": "stream",
     "text": [
      "len_df: 1105\n"
     ]
    },
    {
     "name": "stderr",
     "output_type": "stream",
     "text": [
      " 54%|█████▍    | 27/50 [07:32<06:58, 18.20s/it]"
     ]
    },
    {
     "name": "stdout",
     "output_type": "stream",
     "text": [
      "len_df: 1151\n"
     ]
    },
    {
     "name": "stderr",
     "output_type": "stream",
     "text": [
      " 56%|█████▌    | 28/50 [07:49<06:34, 17.92s/it]"
     ]
    },
    {
     "name": "stdout",
     "output_type": "stream",
     "text": [
      "len_df: 1189\n"
     ]
    },
    {
     "name": "stderr",
     "output_type": "stream",
     "text": [
      " 58%|█████▊    | 29/50 [08:05<06:07, 17.52s/it]"
     ]
    },
    {
     "name": "stdout",
     "output_type": "stream",
     "text": [
      "len_df: 1234\n"
     ]
    },
    {
     "name": "stderr",
     "output_type": "stream",
     "text": [
      " 60%|██████    | 30/50 [08:23<05:49, 17.49s/it]"
     ]
    },
    {
     "name": "stdout",
     "output_type": "stream",
     "text": [
      "len_df: 1278\n"
     ]
    },
    {
     "name": "stderr",
     "output_type": "stream",
     "text": [
      " 62%|██████▏   | 31/50 [08:41<05:37, 17.77s/it]"
     ]
    },
    {
     "name": "stdout",
     "output_type": "stream",
     "text": [
      "len_df: 1323\n"
     ]
    },
    {
     "name": "stderr",
     "output_type": "stream",
     "text": [
      " 64%|██████▍   | 32/50 [08:57<05:07, 17.08s/it]"
     ]
    },
    {
     "name": "stdout",
     "output_type": "stream",
     "text": [
      "len_df: 1366\n"
     ]
    },
    {
     "name": "stderr",
     "output_type": "stream",
     "text": [
      " 66%|██████▌   | 33/50 [09:13<04:47, 16.92s/it]"
     ]
    },
    {
     "name": "stdout",
     "output_type": "stream",
     "text": [
      "len_df: 1411\n"
     ]
    },
    {
     "name": "stderr",
     "output_type": "stream",
     "text": [
      " 68%|██████▊   | 34/50 [09:33<04:43, 17.73s/it]"
     ]
    },
    {
     "name": "stdout",
     "output_type": "stream",
     "text": [
      "len_df: 1456\n"
     ]
    },
    {
     "name": "stderr",
     "output_type": "stream",
     "text": [
      " 70%|███████   | 35/50 [09:50<04:23, 17.55s/it]"
     ]
    },
    {
     "name": "stdout",
     "output_type": "stream",
     "text": [
      "len_df: 1500\n"
     ]
    },
    {
     "name": "stderr",
     "output_type": "stream",
     "text": [
      " 72%|███████▏  | 36/50 [10:12<04:23, 18.79s/it]"
     ]
    },
    {
     "name": "stdout",
     "output_type": "stream",
     "text": [
      "len_df: 1546\n"
     ]
    },
    {
     "name": "stderr",
     "output_type": "stream",
     "text": [
      " 74%|███████▍  | 37/50 [10:32<04:08, 19.14s/it]"
     ]
    },
    {
     "name": "stdout",
     "output_type": "stream",
     "text": [
      "len_df: 1587\n"
     ]
    },
    {
     "name": "stderr",
     "output_type": "stream",
     "text": [
      " 76%|███████▌  | 38/50 [10:53<03:57, 19.75s/it]"
     ]
    },
    {
     "name": "stdout",
     "output_type": "stream",
     "text": [
      "len_df: 1633\n"
     ]
    },
    {
     "name": "stderr",
     "output_type": "stream",
     "text": [
      " 78%|███████▊  | 39/50 [11:12<03:35, 19.59s/it]"
     ]
    },
    {
     "name": "stdout",
     "output_type": "stream",
     "text": [
      "len_df: 1678\n"
     ]
    },
    {
     "name": "stderr",
     "output_type": "stream",
     "text": [
      " 80%|████████  | 40/50 [11:34<03:22, 20.23s/it]"
     ]
    },
    {
     "name": "stdout",
     "output_type": "stream",
     "text": [
      "len_df: 1723\n"
     ]
    },
    {
     "name": "stderr",
     "output_type": "stream",
     "text": [
      " 82%|████████▏ | 41/50 [11:51<02:53, 19.23s/it]"
     ]
    },
    {
     "name": "stdout",
     "output_type": "stream",
     "text": [
      "len_df: 1770\n"
     ]
    },
    {
     "name": "stderr",
     "output_type": "stream",
     "text": [
      " 84%|████████▍ | 42/50 [12:07<02:27, 18.45s/it]"
     ]
    },
    {
     "name": "stdout",
     "output_type": "stream",
     "text": [
      "len_df: 1820\n"
     ]
    },
    {
     "name": "stderr",
     "output_type": "stream",
     "text": [
      " 86%|████████▌ | 43/50 [12:29<02:15, 19.39s/it]"
     ]
    },
    {
     "name": "stdout",
     "output_type": "stream",
     "text": [
      "len_df: 1867\n"
     ]
    },
    {
     "name": "stderr",
     "output_type": "stream",
     "text": [
      " 88%|████████▊ | 44/50 [12:46<01:51, 18.60s/it]"
     ]
    },
    {
     "name": "stdout",
     "output_type": "stream",
     "text": [
      "len_df: 1911\n"
     ]
    },
    {
     "name": "stderr",
     "output_type": "stream",
     "text": [
      " 90%|█████████ | 45/50 [13:03<01:31, 18.22s/it]"
     ]
    },
    {
     "name": "stdout",
     "output_type": "stream",
     "text": [
      "len_df: 1955\n"
     ]
    },
    {
     "name": "stderr",
     "output_type": "stream",
     "text": [
      " 92%|█████████▏| 46/50 [13:28<01:20, 20.23s/it]"
     ]
    },
    {
     "name": "stdout",
     "output_type": "stream",
     "text": [
      "len_df: 1999\n"
     ]
    },
    {
     "name": "stderr",
     "output_type": "stream",
     "text": [
      " 94%|█████████▍| 47/50 [13:47<00:59, 19.93s/it]"
     ]
    },
    {
     "name": "stdout",
     "output_type": "stream",
     "text": [
      "len_df: 2048\n"
     ]
    },
    {
     "name": "stderr",
     "output_type": "stream",
     "text": [
      " 96%|█████████▌| 48/50 [14:09<00:41, 20.59s/it]"
     ]
    },
    {
     "name": "stdout",
     "output_type": "stream",
     "text": [
      "len_df: 2093\n"
     ]
    },
    {
     "name": "stderr",
     "output_type": "stream",
     "text": [
      " 98%|█████████▊| 49/50 [14:29<00:20, 20.46s/it]"
     ]
    },
    {
     "name": "stdout",
     "output_type": "stream",
     "text": [
      "len_df: 2140\n"
     ]
    },
    {
     "name": "stderr",
     "output_type": "stream",
     "text": [
      "100%|██████████| 50/50 [14:49<00:00, 17.78s/it]\n"
     ]
    },
    {
     "name": "stdout",
     "output_type": "stream",
     "text": [
      "25\n"
     ]
    },
    {
     "name": "stderr",
     "output_type": "stream",
     "text": [
      "  0%|          | 0/50 [00:00<?, ?it/s]"
     ]
    },
    {
     "name": "stdout",
     "output_type": "stream",
     "text": [
      "Message: no such element: Unable to locate element: {\"method\":\"css selector\",\"selector\":\"div[class=\"iva-item-descriptionStep-C0ty1\"]\"}\n",
      "  (Session info: chrome=121.0.6167.140); For documentation on this error, please visit: https://www.selenium.dev/documentation/webdriver/troubleshooting/errors#no-such-element-exception\n",
      "Stacktrace:\n",
      "\tGetHandleVerifier [0x00007FF6C1845E42+3538674]\n",
      "\t(No symbol) [0x00007FF6C1464C02]\n",
      "\t(No symbol) [0x00007FF6C1315AEB]\n",
      "\t(No symbol) [0x00007FF6C135BF4E]\n",
      "\t(No symbol) [0x00007FF6C135C0CC]\n",
      "\t(No symbol) [0x00007FF6C13512EC]\n",
      "\t(No symbol) [0x00007FF6C137F0EF]\n",
      "\t(No symbol) [0x00007FF6C135124A]\n",
      "\t(No symbol) [0x00007FF6C137F2C0]\n",
      "\t(No symbol) [0x00007FF6C139BDE3]\n",
      "\t(No symbol) [0x00007FF6C137EE53]\n",
      "\t(No symbol) [0x00007FF6C134F514]\n",
      "\t(No symbol) [0x00007FF6C1350631]\n",
      "\tGetHandleVerifier [0x00007FF6C1876CAD+3738973]\n",
      "\tGetHandleVerifier [0x00007FF6C18CC506+4089270]\n",
      "\tGetHandleVerifier [0x00007FF6C18C4823+4057299]\n",
      "\tGetHandleVerifier [0x00007FF6C1595C49+720121]\n",
      "\t(No symbol) [0x00007FF6C147126F]\n",
      "\t(No symbol) [0x00007FF6C146C304]\n",
      "\t(No symbol) [0x00007FF6C146C432]\n",
      "\t(No symbol) [0x00007FF6C145BD04]\n",
      "\tBaseThreadInitThunk [0x00007FF867867344+20]\n",
      "\tRtlUserThreadStart [0x00007FF8697026B1+33]\n",
      "\n",
      "Message: no such element: Unable to locate element: {\"method\":\"css selector\",\"selector\":\"div[class=\"iva-item-descriptionStep-C0ty1\"]\"}\n",
      "  (Session info: chrome=121.0.6167.140); For documentation on this error, please visit: https://www.selenium.dev/documentation/webdriver/troubleshooting/errors#no-such-element-exception\n",
      "Stacktrace:\n",
      "\tGetHandleVerifier [0x00007FF6C1845E42+3538674]\n",
      "\t(No symbol) [0x00007FF6C1464C02]\n",
      "\t(No symbol) [0x00007FF6C1315AEB]\n",
      "\t(No symbol) [0x00007FF6C135BF4E]\n",
      "\t(No symbol) [0x00007FF6C135C0CC]\n",
      "\t(No symbol) [0x00007FF6C13512EC]\n",
      "\t(No symbol) [0x00007FF6C137F0EF]\n",
      "\t(No symbol) [0x00007FF6C135124A]\n",
      "\t(No symbol) [0x00007FF6C137F2C0]\n",
      "\t(No symbol) [0x00007FF6C139BDE3]\n",
      "\t(No symbol) [0x00007FF6C137EE53]\n",
      "\t(No symbol) [0x00007FF6C134F514]\n",
      "\t(No symbol) [0x00007FF6C1350631]\n",
      "\tGetHandleVerifier [0x00007FF6C1876CAD+3738973]\n",
      "\tGetHandleVerifier [0x00007FF6C18CC506+4089270]\n",
      "\tGetHandleVerifier [0x00007FF6C18C4823+4057299]\n",
      "\tGetHandleVerifier [0x00007FF6C1595C49+720121]\n",
      "\t(No symbol) [0x00007FF6C147126F]\n",
      "\t(No symbol) [0x00007FF6C146C304]\n",
      "\t(No symbol) [0x00007FF6C146C432]\n",
      "\t(No symbol) [0x00007FF6C145BD04]\n",
      "\tBaseThreadInitThunk [0x00007FF867867344+20]\n",
      "\tRtlUserThreadStart [0x00007FF8697026B1+33]\n",
      "\n",
      "Message: no such element: Unable to locate element: {\"method\":\"css selector\",\"selector\":\"div[class=\"iva-item-descriptionStep-C0ty1\"]\"}\n",
      "  (Session info: chrome=121.0.6167.140); For documentation on this error, please visit: https://www.selenium.dev/documentation/webdriver/troubleshooting/errors#no-such-element-exception\n",
      "Stacktrace:\n",
      "\tGetHandleVerifier [0x00007FF6C1845E42+3538674]\n",
      "\t(No symbol) [0x00007FF6C1464C02]\n",
      "\t(No symbol) [0x00007FF6C1315AEB]\n",
      "\t(No symbol) [0x00007FF6C135BF4E]\n",
      "\t(No symbol) [0x00007FF6C135C0CC]\n",
      "\t(No symbol) [0x00007FF6C13512EC]\n",
      "\t(No symbol) [0x00007FF6C137F0EF]\n",
      "\t(No symbol) [0x00007FF6C135124A]\n",
      "\t(No symbol) [0x00007FF6C137F2C0]\n",
      "\t(No symbol) [0x00007FF6C139BDE3]\n",
      "\t(No symbol) [0x00007FF6C137EE53]\n",
      "\t(No symbol) [0x00007FF6C134F514]\n",
      "\t(No symbol) [0x00007FF6C1350631]\n",
      "\tGetHandleVerifier [0x00007FF6C1876CAD+3738973]\n",
      "\tGetHandleVerifier [0x00007FF6C18CC506+4089270]\n",
      "\tGetHandleVerifier [0x00007FF6C18C4823+4057299]\n",
      "\tGetHandleVerifier [0x00007FF6C1595C49+720121]\n",
      "\t(No symbol) [0x00007FF6C147126F]\n",
      "\t(No symbol) [0x00007FF6C146C304]\n",
      "\t(No symbol) [0x00007FF6C146C432]\n",
      "\t(No symbol) [0x00007FF6C145BD04]\n",
      "\tBaseThreadInitThunk [0x00007FF867867344+20]\n",
      "\tRtlUserThreadStart [0x00007FF8697026B1+33]\n",
      "\n",
      "len_df: 50\n"
     ]
    },
    {
     "name": "stderr",
     "output_type": "stream",
     "text": [
      "  2%|▏         | 1/50 [00:46<37:47, 46.27s/it]"
     ]
    },
    {
     "name": "stdout",
     "output_type": "stream",
     "text": [
      "len_df: 99\n"
     ]
    },
    {
     "name": "stderr",
     "output_type": "stream",
     "text": [
      "  4%|▍         | 2/50 [00:58<20:55, 26.16s/it]"
     ]
    },
    {
     "name": "stdout",
     "output_type": "stream",
     "text": [
      "len_df: 144\n"
     ]
    },
    {
     "name": "stderr",
     "output_type": "stream",
     "text": [
      "  6%|▌         | 3/50 [01:10<15:20, 19.58s/it]"
     ]
    },
    {
     "name": "stdout",
     "output_type": "stream",
     "text": [
      "len_df: 184\n"
     ]
    },
    {
     "name": "stderr",
     "output_type": "stream",
     "text": [
      "  8%|▊         | 4/50 [01:21<12:24, 16.18s/it]"
     ]
    },
    {
     "name": "stdout",
     "output_type": "stream",
     "text": [
      "len_df: 234\n"
     ]
    },
    {
     "name": "stderr",
     "output_type": "stream",
     "text": [
      " 10%|█         | 5/50 [01:33<11:10, 14.89s/it]"
     ]
    },
    {
     "name": "stdout",
     "output_type": "stream",
     "text": [
      "len_df: 283\n"
     ]
    },
    {
     "name": "stderr",
     "output_type": "stream",
     "text": [
      " 12%|█▏        | 6/50 [01:45<10:10, 13.87s/it]"
     ]
    },
    {
     "name": "stdout",
     "output_type": "stream",
     "text": [
      "len_df: 323\n"
     ]
    },
    {
     "name": "stderr",
     "output_type": "stream",
     "text": [
      " 14%|█▍        | 7/50 [01:56<09:15, 12.91s/it]"
     ]
    },
    {
     "name": "stdout",
     "output_type": "stream",
     "text": [
      "len_df: 362\n"
     ]
    },
    {
     "name": "stderr",
     "output_type": "stream",
     "text": [
      " 16%|█▌        | 8/50 [02:09<08:59, 12.84s/it]"
     ]
    },
    {
     "name": "stdout",
     "output_type": "stream",
     "text": [
      "len_df: 402\n"
     ]
    },
    {
     "name": "stderr",
     "output_type": "stream",
     "text": [
      " 18%|█▊        | 9/50 [02:22<08:51, 12.97s/it]"
     ]
    },
    {
     "name": "stdout",
     "output_type": "stream",
     "text": [
      "len_df: 436\n"
     ]
    },
    {
     "name": "stderr",
     "output_type": "stream",
     "text": [
      " 20%|██        | 10/50 [02:35<08:39, 12.98s/it]"
     ]
    },
    {
     "name": "stdout",
     "output_type": "stream",
     "text": [
      "len_df: 474\n"
     ]
    },
    {
     "name": "stderr",
     "output_type": "stream",
     "text": [
      " 22%|██▏       | 11/50 [02:46<08:00, 12.31s/it]"
     ]
    },
    {
     "name": "stdout",
     "output_type": "stream",
     "text": [
      "len_df: 511\n"
     ]
    },
    {
     "name": "stderr",
     "output_type": "stream",
     "text": [
      " 24%|██▍       | 12/50 [03:00<08:05, 12.77s/it]"
     ]
    },
    {
     "name": "stdout",
     "output_type": "stream",
     "text": [
      "len_df: 544\n"
     ]
    },
    {
     "name": "stderr",
     "output_type": "stream",
     "text": [
      " 26%|██▌       | 13/50 [03:15<08:22, 13.59s/it]"
     ]
    },
    {
     "name": "stdout",
     "output_type": "stream",
     "text": [
      "len_df: 580\n"
     ]
    },
    {
     "name": "stderr",
     "output_type": "stream",
     "text": [
      " 28%|██▊       | 14/50 [03:28<07:59, 13.32s/it]"
     ]
    },
    {
     "name": "stdout",
     "output_type": "stream",
     "text": [
      "len_df: 609\n"
     ]
    },
    {
     "name": "stderr",
     "output_type": "stream",
     "text": [
      " 30%|███       | 15/50 [03:41<07:46, 13.34s/it]"
     ]
    },
    {
     "name": "stdout",
     "output_type": "stream",
     "text": [
      "len_df: 640\n"
     ]
    },
    {
     "name": "stderr",
     "output_type": "stream",
     "text": [
      " 32%|███▏      | 16/50 [03:55<07:34, 13.37s/it]"
     ]
    },
    {
     "name": "stdout",
     "output_type": "stream",
     "text": [
      "len_df: 673\n"
     ]
    },
    {
     "name": "stderr",
     "output_type": "stream",
     "text": [
      " 34%|███▍      | 17/50 [04:11<07:49, 14.21s/it]"
     ]
    },
    {
     "name": "stdout",
     "output_type": "stream",
     "text": [
      "len_df: 714\n"
     ]
    },
    {
     "name": "stderr",
     "output_type": "stream",
     "text": [
      " 36%|███▌      | 18/50 [04:27<07:53, 14.80s/it]"
     ]
    },
    {
     "name": "stdout",
     "output_type": "stream",
     "text": [
      "len_df: 746\n"
     ]
    },
    {
     "name": "stderr",
     "output_type": "stream",
     "text": [
      " 38%|███▊      | 19/50 [04:42<07:41, 14.88s/it]"
     ]
    },
    {
     "name": "stdout",
     "output_type": "stream",
     "text": [
      "len_df: 779\n"
     ]
    },
    {
     "name": "stderr",
     "output_type": "stream",
     "text": [
      " 40%|████      | 20/50 [04:57<07:25, 14.85s/it]"
     ]
    },
    {
     "name": "stdout",
     "output_type": "stream",
     "text": [
      "len_df: 817\n"
     ]
    },
    {
     "name": "stderr",
     "output_type": "stream",
     "text": [
      " 42%|████▏     | 21/50 [05:12<07:14, 14.97s/it]"
     ]
    },
    {
     "name": "stdout",
     "output_type": "stream",
     "text": [
      "len_df: 862\n"
     ]
    },
    {
     "name": "stderr",
     "output_type": "stream",
     "text": [
      " 44%|████▍     | 22/50 [05:27<07:02, 15.09s/it]"
     ]
    },
    {
     "name": "stdout",
     "output_type": "stream",
     "text": [
      "len_df: 902\n"
     ]
    },
    {
     "name": "stderr",
     "output_type": "stream",
     "text": [
      " 46%|████▌     | 23/50 [05:45<07:08, 15.86s/it]"
     ]
    },
    {
     "name": "stdout",
     "output_type": "stream",
     "text": [
      "len_df: 945\n"
     ]
    },
    {
     "name": "stderr",
     "output_type": "stream",
     "text": [
      " 48%|████▊     | 24/50 [06:04<07:19, 16.89s/it]"
     ]
    },
    {
     "name": "stdout",
     "output_type": "stream",
     "text": [
      "len_df: 988\n"
     ]
    },
    {
     "name": "stderr",
     "output_type": "stream",
     "text": [
      " 50%|█████     | 25/50 [06:21<06:59, 16.79s/it]"
     ]
    },
    {
     "name": "stdout",
     "output_type": "stream",
     "text": [
      "len_df: 1028\n"
     ]
    },
    {
     "name": "stderr",
     "output_type": "stream",
     "text": [
      " 52%|█████▏    | 26/50 [06:37<06:36, 16.51s/it]"
     ]
    },
    {
     "name": "stdout",
     "output_type": "stream",
     "text": [
      "len_df: 1070\n"
     ]
    },
    {
     "name": "stderr",
     "output_type": "stream",
     "text": [
      " 54%|█████▍    | 27/50 [06:56<06:41, 17.46s/it]"
     ]
    },
    {
     "name": "stdout",
     "output_type": "stream",
     "text": [
      "len_df: 1115\n"
     ]
    },
    {
     "name": "stderr",
     "output_type": "stream",
     "text": [
      " 56%|█████▌    | 28/50 [07:11<06:04, 16.58s/it]"
     ]
    },
    {
     "name": "stdout",
     "output_type": "stream",
     "text": [
      "len_df: 1162\n"
     ]
    },
    {
     "name": "stderr",
     "output_type": "stream",
     "text": [
      " 58%|█████▊    | 29/50 [07:28<05:54, 16.87s/it]"
     ]
    },
    {
     "name": "stdout",
     "output_type": "stream",
     "text": [
      "len_df: 1202\n"
     ]
    },
    {
     "name": "stderr",
     "output_type": "stream",
     "text": [
      " 60%|██████    | 30/50 [07:50<06:06, 18.34s/it]"
     ]
    },
    {
     "name": "stdout",
     "output_type": "stream",
     "text": [
      "len_df: 1248\n"
     ]
    },
    {
     "name": "stderr",
     "output_type": "stream",
     "text": [
      " 62%|██████▏   | 31/50 [08:10<05:55, 18.69s/it]"
     ]
    },
    {
     "name": "stdout",
     "output_type": "stream",
     "text": [
      "len_df: 1291\n"
     ]
    },
    {
     "name": "stderr",
     "output_type": "stream",
     "text": [
      " 64%|██████▍   | 32/50 [08:28<05:35, 18.62s/it]"
     ]
    },
    {
     "name": "stdout",
     "output_type": "stream",
     "text": [
      "len_df: 1331\n"
     ]
    },
    {
     "name": "stderr",
     "output_type": "stream",
     "text": [
      " 66%|██████▌   | 33/50 [08:50<05:34, 19.70s/it]"
     ]
    },
    {
     "name": "stdout",
     "output_type": "stream",
     "text": [
      "len_df: 1379\n"
     ]
    },
    {
     "name": "stderr",
     "output_type": "stream",
     "text": [
      " 68%|██████▊   | 34/50 [09:09<05:12, 19.51s/it]"
     ]
    },
    {
     "name": "stdout",
     "output_type": "stream",
     "text": [
      "len_df: 1426\n"
     ]
    },
    {
     "name": "stderr",
     "output_type": "stream",
     "text": [
      " 70%|███████   | 35/50 [09:26<04:37, 18.49s/it]"
     ]
    },
    {
     "name": "stdout",
     "output_type": "stream",
     "text": [
      "len_df: 1468\n"
     ]
    },
    {
     "name": "stderr",
     "output_type": "stream",
     "text": [
      " 72%|███████▏  | 36/50 [09:47<04:31, 19.40s/it]"
     ]
    },
    {
     "name": "stdout",
     "output_type": "stream",
     "text": [
      "len_df: 1507\n"
     ]
    },
    {
     "name": "stderr",
     "output_type": "stream",
     "text": [
      " 74%|███████▍  | 37/50 [10:10<04:23, 20.30s/it]"
     ]
    },
    {
     "name": "stdout",
     "output_type": "stream",
     "text": [
      "len_df: 1553\n"
     ]
    },
    {
     "name": "stderr",
     "output_type": "stream",
     "text": [
      " 76%|███████▌  | 38/50 [10:29<04:00, 20.01s/it]"
     ]
    },
    {
     "name": "stdout",
     "output_type": "stream",
     "text": [
      "len_df: 1598\n"
     ]
    },
    {
     "name": "stderr",
     "output_type": "stream",
     "text": [
      " 78%|███████▊  | 39/50 [10:50<03:42, 20.21s/it]"
     ]
    },
    {
     "name": "stdout",
     "output_type": "stream",
     "text": [
      "len_df: 1641\n"
     ]
    },
    {
     "name": "stderr",
     "output_type": "stream",
     "text": [
      " 80%|████████  | 40/50 [11:10<03:24, 20.43s/it]"
     ]
    },
    {
     "name": "stdout",
     "output_type": "stream",
     "text": [
      "len_df: 1685\n"
     ]
    },
    {
     "name": "stderr",
     "output_type": "stream",
     "text": [
      " 82%|████████▏ | 41/50 [11:31<03:02, 20.31s/it]"
     ]
    },
    {
     "name": "stdout",
     "output_type": "stream",
     "text": [
      "len_df: 1729\n"
     ]
    },
    {
     "name": "stderr",
     "output_type": "stream",
     "text": [
      " 84%|████████▍ | 42/50 [11:52<02:44, 20.57s/it]"
     ]
    },
    {
     "name": "stdout",
     "output_type": "stream",
     "text": [
      "len_df: 1774\n"
     ]
    },
    {
     "name": "stderr",
     "output_type": "stream",
     "text": [
      " 86%|████████▌ | 43/50 [12:12<02:23, 20.45s/it]"
     ]
    },
    {
     "name": "stdout",
     "output_type": "stream",
     "text": [
      "len_df: 1820\n"
     ]
    },
    {
     "name": "stderr",
     "output_type": "stream",
     "text": [
      " 88%|████████▊ | 44/50 [12:34<02:05, 20.92s/it]"
     ]
    },
    {
     "name": "stdout",
     "output_type": "stream",
     "text": [
      "len_df: 1862\n"
     ]
    },
    {
     "name": "stderr",
     "output_type": "stream",
     "text": [
      " 90%|█████████ | 45/50 [12:54<01:43, 20.77s/it]"
     ]
    },
    {
     "name": "stdout",
     "output_type": "stream",
     "text": [
      "Message: no such element: Unable to locate element: {\"method\":\"css selector\",\"selector\":\"div[class=\"iva-item-descriptionStep-C0ty1\"]\"}\n",
      "  (Session info: chrome=121.0.6167.140); For documentation on this error, please visit: https://www.selenium.dev/documentation/webdriver/troubleshooting/errors#no-such-element-exception\n",
      "Stacktrace:\n",
      "\tGetHandleVerifier [0x00007FF6C1845E42+3538674]\n",
      "\t(No symbol) [0x00007FF6C1464C02]\n",
      "\t(No symbol) [0x00007FF6C1315AEB]\n",
      "\t(No symbol) [0x00007FF6C135BF4E]\n",
      "\t(No symbol) [0x00007FF6C135C0CC]\n",
      "\t(No symbol) [0x00007FF6C13512EC]\n",
      "\t(No symbol) [0x00007FF6C137F0EF]\n",
      "\t(No symbol) [0x00007FF6C135124A]\n",
      "\t(No symbol) [0x00007FF6C137F2C0]\n",
      "\t(No symbol) [0x00007FF6C139BDE3]\n",
      "\t(No symbol) [0x00007FF6C137EE53]\n",
      "\t(No symbol) [0x00007FF6C134F514]\n",
      "\t(No symbol) [0x00007FF6C1350631]\n",
      "\tGetHandleVerifier [0x00007FF6C1876CAD+3738973]\n",
      "\tGetHandleVerifier [0x00007FF6C18CC506+4089270]\n",
      "\tGetHandleVerifier [0x00007FF6C18C4823+4057299]\n",
      "\tGetHandleVerifier [0x00007FF6C1595C49+720121]\n",
      "\t(No symbol) [0x00007FF6C147126F]\n",
      "\t(No symbol) [0x00007FF6C146C304]\n",
      "\t(No symbol) [0x00007FF6C146C432]\n",
      "\t(No symbol) [0x00007FF6C145BD04]\n",
      "\tBaseThreadInitThunk [0x00007FF867867344+20]\n",
      "\tRtlUserThreadStart [0x00007FF8697026B1+33]\n",
      "\n",
      "len_df: 1903\n"
     ]
    },
    {
     "name": "stderr",
     "output_type": "stream",
     "text": [
      " 92%|█████████▏| 46/50 [13:30<01:41, 25.34s/it]"
     ]
    },
    {
     "name": "stdout",
     "output_type": "stream",
     "text": [
      "len_df: 1949\n"
     ]
    },
    {
     "name": "stderr",
     "output_type": "stream",
     "text": [
      " 94%|█████████▍| 47/50 [13:54<01:14, 24.73s/it]"
     ]
    },
    {
     "name": "stdout",
     "output_type": "stream",
     "text": [
      "Message: no such element: Unable to locate element: {\"method\":\"css selector\",\"selector\":\"div[class=\"iva-item-descriptionStep-C0ty1\"]\"}\n",
      "  (Session info: chrome=121.0.6167.140); For documentation on this error, please visit: https://www.selenium.dev/documentation/webdriver/troubleshooting/errors#no-such-element-exception\n",
      "Stacktrace:\n",
      "\tGetHandleVerifier [0x00007FF6C1845E42+3538674]\n",
      "\t(No symbol) [0x00007FF6C1464C02]\n",
      "\t(No symbol) [0x00007FF6C1315AEB]\n",
      "\t(No symbol) [0x00007FF6C135BF4E]\n",
      "\t(No symbol) [0x00007FF6C135C0CC]\n",
      "\t(No symbol) [0x00007FF6C13512EC]\n",
      "\t(No symbol) [0x00007FF6C137F0EF]\n",
      "\t(No symbol) [0x00007FF6C135124A]\n",
      "\t(No symbol) [0x00007FF6C137F2C0]\n",
      "\t(No symbol) [0x00007FF6C139BDE3]\n",
      "\t(No symbol) [0x00007FF6C137EE53]\n",
      "\t(No symbol) [0x00007FF6C134F514]\n",
      "\t(No symbol) [0x00007FF6C1350631]\n",
      "\tGetHandleVerifier [0x00007FF6C1876CAD+3738973]\n",
      "\tGetHandleVerifier [0x00007FF6C18CC506+4089270]\n",
      "\tGetHandleVerifier [0x00007FF6C18C4823+4057299]\n",
      "\tGetHandleVerifier [0x00007FF6C1595C49+720121]\n",
      "\t(No symbol) [0x00007FF6C147126F]\n",
      "\t(No symbol) [0x00007FF6C146C304]\n",
      "\t(No symbol) [0x00007FF6C146C432]\n",
      "\t(No symbol) [0x00007FF6C145BD04]\n",
      "\tBaseThreadInitThunk [0x00007FF867867344+20]\n",
      "\tRtlUserThreadStart [0x00007FF8697026B1+33]\n",
      "\n",
      "len_df: 1998\n"
     ]
    },
    {
     "name": "stderr",
     "output_type": "stream",
     "text": [
      " 96%|█████████▌| 48/50 [14:26<00:54, 27.04s/it]"
     ]
    },
    {
     "name": "stdout",
     "output_type": "stream",
     "text": [
      "len_df: 2047\n"
     ]
    },
    {
     "name": "stderr",
     "output_type": "stream",
     "text": [
      " 98%|█████████▊| 49/50 [14:46<00:24, 24.95s/it]"
     ]
    },
    {
     "name": "stdout",
     "output_type": "stream",
     "text": [
      "len_df: 2093\n"
     ]
    },
    {
     "name": "stderr",
     "output_type": "stream",
     "text": [
      "100%|██████████| 50/50 [15:20<00:00, 18.40s/it]\n"
     ]
    },
    {
     "name": "stdout",
     "output_type": "stream",
     "text": [
      "26\n"
     ]
    },
    {
     "name": "stderr",
     "output_type": "stream",
     "text": [
      "  0%|          | 0/50 [00:00<?, ?it/s]"
     ]
    },
    {
     "name": "stdout",
     "output_type": "stream",
     "text": [
      "Message: no such element: Unable to locate element: {\"method\":\"css selector\",\"selector\":\"div[class=\"iva-item-descriptionStep-C0ty1\"]\"}\n",
      "  (Session info: chrome=121.0.6167.140); For documentation on this error, please visit: https://www.selenium.dev/documentation/webdriver/troubleshooting/errors#no-such-element-exception\n",
      "Stacktrace:\n",
      "\tGetHandleVerifier [0x00007FF6C1845E42+3538674]\n",
      "\t(No symbol) [0x00007FF6C1464C02]\n",
      "\t(No symbol) [0x00007FF6C1315AEB]\n",
      "\t(No symbol) [0x00007FF6C135BF4E]\n",
      "\t(No symbol) [0x00007FF6C135C0CC]\n",
      "\t(No symbol) [0x00007FF6C13512EC]\n",
      "\t(No symbol) [0x00007FF6C137F0EF]\n",
      "\t(No symbol) [0x00007FF6C135124A]\n",
      "\t(No symbol) [0x00007FF6C137F2C0]\n",
      "\t(No symbol) [0x00007FF6C139BDE3]\n",
      "\t(No symbol) [0x00007FF6C137EE53]\n",
      "\t(No symbol) [0x00007FF6C134F514]\n",
      "\t(No symbol) [0x00007FF6C1350631]\n",
      "\tGetHandleVerifier [0x00007FF6C1876CAD+3738973]\n",
      "\tGetHandleVerifier [0x00007FF6C18CC506+4089270]\n",
      "\tGetHandleVerifier [0x00007FF6C18C4823+4057299]\n",
      "\tGetHandleVerifier [0x00007FF6C1595C49+720121]\n",
      "\t(No symbol) [0x00007FF6C147126F]\n",
      "\t(No symbol) [0x00007FF6C146C304]\n",
      "\t(No symbol) [0x00007FF6C146C432]\n",
      "\t(No symbol) [0x00007FF6C145BD04]\n",
      "\tBaseThreadInitThunk [0x00007FF867867344+20]\n",
      "\tRtlUserThreadStart [0x00007FF8697026B1+33]\n",
      "\n",
      "Message: no such element: Unable to locate element: {\"method\":\"css selector\",\"selector\":\"div[class=\"iva-item-descriptionStep-C0ty1\"]\"}\n",
      "  (Session info: chrome=121.0.6167.140); For documentation on this error, please visit: https://www.selenium.dev/documentation/webdriver/troubleshooting/errors#no-such-element-exception\n",
      "Stacktrace:\n",
      "\tGetHandleVerifier [0x00007FF6C1845E42+3538674]\n",
      "\t(No symbol) [0x00007FF6C1464C02]\n",
      "\t(No symbol) [0x00007FF6C1315AEB]\n",
      "\t(No symbol) [0x00007FF6C135BF4E]\n",
      "\t(No symbol) [0x00007FF6C135C0CC]\n",
      "\t(No symbol) [0x00007FF6C13512EC]\n",
      "\t(No symbol) [0x00007FF6C137F0EF]\n",
      "\t(No symbol) [0x00007FF6C135124A]\n",
      "\t(No symbol) [0x00007FF6C137F2C0]\n",
      "\t(No symbol) [0x00007FF6C139BDE3]\n",
      "\t(No symbol) [0x00007FF6C137EE53]\n",
      "\t(No symbol) [0x00007FF6C134F514]\n",
      "\t(No symbol) [0x00007FF6C1350631]\n",
      "\tGetHandleVerifier [0x00007FF6C1876CAD+3738973]\n",
      "\tGetHandleVerifier [0x00007FF6C18CC506+4089270]\n",
      "\tGetHandleVerifier [0x00007FF6C18C4823+4057299]\n",
      "\tGetHandleVerifier [0x00007FF6C1595C49+720121]\n",
      "\t(No symbol) [0x00007FF6C147126F]\n",
      "\t(No symbol) [0x00007FF6C146C304]\n",
      "\t(No symbol) [0x00007FF6C146C432]\n",
      "\t(No symbol) [0x00007FF6C145BD04]\n",
      "\tBaseThreadInitThunk [0x00007FF867867344+20]\n",
      "\tRtlUserThreadStart [0x00007FF8697026B1+33]\n",
      "\n",
      "Message: no such element: Unable to locate element: {\"method\":\"css selector\",\"selector\":\"div[class=\"iva-item-descriptionStep-C0ty1\"]\"}\n",
      "  (Session info: chrome=121.0.6167.140); For documentation on this error, please visit: https://www.selenium.dev/documentation/webdriver/troubleshooting/errors#no-such-element-exception\n",
      "Stacktrace:\n",
      "\tGetHandleVerifier [0x00007FF6C1845E42+3538674]\n",
      "\t(No symbol) [0x00007FF6C1464C02]\n",
      "\t(No symbol) [0x00007FF6C1315AEB]\n",
      "\t(No symbol) [0x00007FF6C135BF4E]\n",
      "\t(No symbol) [0x00007FF6C135C0CC]\n",
      "\t(No symbol) [0x00007FF6C13512EC]\n",
      "\t(No symbol) [0x00007FF6C137F0EF]\n",
      "\t(No symbol) [0x00007FF6C135124A]\n",
      "\t(No symbol) [0x00007FF6C137F2C0]\n",
      "\t(No symbol) [0x00007FF6C139BDE3]\n",
      "\t(No symbol) [0x00007FF6C137EE53]\n",
      "\t(No symbol) [0x00007FF6C134F514]\n",
      "\t(No symbol) [0x00007FF6C1350631]\n",
      "\tGetHandleVerifier [0x00007FF6C1876CAD+3738973]\n",
      "\tGetHandleVerifier [0x00007FF6C18CC506+4089270]\n",
      "\tGetHandleVerifier [0x00007FF6C18C4823+4057299]\n",
      "\tGetHandleVerifier [0x00007FF6C1595C49+720121]\n",
      "\t(No symbol) [0x00007FF6C147126F]\n",
      "\t(No symbol) [0x00007FF6C146C304]\n",
      "\t(No symbol) [0x00007FF6C146C432]\n",
      "\t(No symbol) [0x00007FF6C145BD04]\n",
      "\tBaseThreadInitThunk [0x00007FF867867344+20]\n",
      "\tRtlUserThreadStart [0x00007FF8697026B1+33]\n",
      "\n",
      "len_df: 50\n"
     ]
    },
    {
     "name": "stderr",
     "output_type": "stream",
     "text": [
      "  2%|▏         | 1/50 [00:48<39:20, 48.18s/it]"
     ]
    },
    {
     "name": "stdout",
     "output_type": "stream",
     "text": [
      "len_df: 99\n"
     ]
    },
    {
     "name": "stderr",
     "output_type": "stream",
     "text": [
      "  4%|▍         | 2/50 [01:01<22:16, 27.84s/it]"
     ]
    },
    {
     "name": "stdout",
     "output_type": "stream",
     "text": [
      "len_df: 148\n"
     ]
    },
    {
     "name": "stderr",
     "output_type": "stream",
     "text": [
      "  6%|▌         | 3/50 [01:16<17:03, 21.77s/it]"
     ]
    },
    {
     "name": "stdout",
     "output_type": "stream",
     "text": [
      "len_df: 195\n"
     ]
    },
    {
     "name": "stderr",
     "output_type": "stream",
     "text": [
      "  8%|▊         | 4/50 [01:29<13:57, 18.21s/it]"
     ]
    },
    {
     "name": "stdout",
     "output_type": "stream",
     "text": [
      "len_df: 245\n"
     ]
    },
    {
     "name": "stderr",
     "output_type": "stream",
     "text": [
      " 10%|█         | 5/50 [01:43<12:37, 16.83s/it]"
     ]
    },
    {
     "name": "stdout",
     "output_type": "stream",
     "text": [
      "len_df: 295\n"
     ]
    },
    {
     "name": "stderr",
     "output_type": "stream",
     "text": [
      " 12%|█▏        | 6/50 [01:56<11:26, 15.60s/it]"
     ]
    },
    {
     "name": "stdout",
     "output_type": "stream",
     "text": [
      "len_df: 337\n"
     ]
    },
    {
     "name": "stderr",
     "output_type": "stream",
     "text": [
      " 14%|█▍        | 7/50 [02:11<10:54, 15.22s/it]"
     ]
    },
    {
     "name": "stdout",
     "output_type": "stream",
     "text": [
      "len_df: 382\n"
     ]
    },
    {
     "name": "stderr",
     "output_type": "stream",
     "text": [
      " 16%|█▌        | 8/50 [02:23<09:58, 14.26s/it]"
     ]
    },
    {
     "name": "stdout",
     "output_type": "stream",
     "text": [
      "len_df: 420\n"
     ]
    },
    {
     "name": "stderr",
     "output_type": "stream",
     "text": [
      " 18%|█▊        | 9/50 [02:36<09:35, 14.03s/it]"
     ]
    },
    {
     "name": "stdout",
     "output_type": "stream",
     "text": [
      "len_df: 454\n"
     ]
    },
    {
     "name": "stderr",
     "output_type": "stream",
     "text": [
      " 20%|██        | 10/50 [02:49<09:06, 13.67s/it]"
     ]
    },
    {
     "name": "stdout",
     "output_type": "stream",
     "text": [
      "len_df: 484\n"
     ]
    },
    {
     "name": "stderr",
     "output_type": "stream",
     "text": [
      " 22%|██▏       | 11/50 [03:05<09:14, 14.22s/it]"
     ]
    },
    {
     "name": "stdout",
     "output_type": "stream",
     "text": [
      "len_df: 517\n"
     ]
    },
    {
     "name": "stderr",
     "output_type": "stream",
     "text": [
      " 24%|██▍       | 12/50 [03:17<08:42, 13.74s/it]"
     ]
    },
    {
     "name": "stdout",
     "output_type": "stream",
     "text": [
      "len_df: 550\n"
     ]
    },
    {
     "name": "stderr",
     "output_type": "stream",
     "text": [
      " 26%|██▌       | 13/50 [03:32<08:35, 13.94s/it]"
     ]
    },
    {
     "name": "stdout",
     "output_type": "stream",
     "text": [
      "len_df: 580\n"
     ]
    },
    {
     "name": "stderr",
     "output_type": "stream",
     "text": [
      " 28%|██▊       | 14/50 [03:46<08:20, 13.91s/it]"
     ]
    },
    {
     "name": "stdout",
     "output_type": "stream",
     "text": [
      "len_df: 603\n"
     ]
    },
    {
     "name": "stderr",
     "output_type": "stream",
     "text": [
      " 30%|███       | 15/50 [04:01<08:24, 14.42s/it]"
     ]
    },
    {
     "name": "stdout",
     "output_type": "stream",
     "text": [
      "len_df: 633\n"
     ]
    },
    {
     "name": "stderr",
     "output_type": "stream",
     "text": [
      " 32%|███▏      | 16/50 [04:14<07:57, 14.03s/it]"
     ]
    },
    {
     "name": "stdout",
     "output_type": "stream",
     "text": [
      "len_df: 654\n"
     ]
    },
    {
     "name": "stderr",
     "output_type": "stream",
     "text": [
      " 34%|███▍      | 17/50 [04:30<07:56, 14.45s/it]"
     ]
    },
    {
     "name": "stdout",
     "output_type": "stream",
     "text": [
      "len_df: 679\n"
     ]
    },
    {
     "name": "stderr",
     "output_type": "stream",
     "text": [
      " 36%|███▌      | 18/50 [04:45<07:52, 14.77s/it]"
     ]
    },
    {
     "name": "stdout",
     "output_type": "stream",
     "text": [
      "len_df: 709\n"
     ]
    },
    {
     "name": "stderr",
     "output_type": "stream",
     "text": [
      " 38%|███▊      | 19/50 [05:01<07:45, 15.02s/it]"
     ]
    },
    {
     "name": "stdout",
     "output_type": "stream",
     "text": [
      "len_df: 742\n"
     ]
    },
    {
     "name": "stderr",
     "output_type": "stream",
     "text": [
      " 40%|████      | 20/50 [05:16<07:28, 14.94s/it]"
     ]
    },
    {
     "name": "stdout",
     "output_type": "stream",
     "text": [
      "len_df: 764\n"
     ]
    },
    {
     "name": "stderr",
     "output_type": "stream",
     "text": [
      " 42%|████▏     | 21/50 [05:35<07:47, 16.14s/it]"
     ]
    },
    {
     "name": "stdout",
     "output_type": "stream",
     "text": [
      "len_df: 811\n"
     ]
    },
    {
     "name": "stderr",
     "output_type": "stream",
     "text": [
      " 44%|████▍     | 22/50 [05:49<07:15, 15.55s/it]"
     ]
    },
    {
     "name": "stdout",
     "output_type": "stream",
     "text": [
      "len_df: 852\n"
     ]
    },
    {
     "name": "stderr",
     "output_type": "stream",
     "text": [
      " 46%|████▌     | 23/50 [06:04<06:58, 15.49s/it]"
     ]
    },
    {
     "name": "stdout",
     "output_type": "stream",
     "text": [
      "len_df: 900\n"
     ]
    },
    {
     "name": "stderr",
     "output_type": "stream",
     "text": [
      " 48%|████▊     | 24/50 [06:21<06:54, 15.94s/it]"
     ]
    },
    {
     "name": "stdout",
     "output_type": "stream",
     "text": [
      "len_df: 944\n"
     ]
    },
    {
     "name": "stderr",
     "output_type": "stream",
     "text": [
      " 50%|█████     | 25/50 [06:41<07:09, 17.16s/it]"
     ]
    },
    {
     "name": "stdout",
     "output_type": "stream",
     "text": [
      "len_df: 992\n"
     ]
    },
    {
     "name": "stderr",
     "output_type": "stream",
     "text": [
      " 52%|█████▏    | 26/50 [06:57<06:40, 16.67s/it]"
     ]
    },
    {
     "name": "stdout",
     "output_type": "stream",
     "text": [
      "len_df: 1039\n"
     ]
    },
    {
     "name": "stderr",
     "output_type": "stream",
     "text": [
      " 54%|█████▍    | 27/50 [07:13<06:19, 16.49s/it]"
     ]
    },
    {
     "name": "stdout",
     "output_type": "stream",
     "text": [
      "len_df: 1082\n"
     ]
    },
    {
     "name": "stderr",
     "output_type": "stream",
     "text": [
      " 56%|█████▌    | 28/50 [07:36<06:45, 18.43s/it]"
     ]
    },
    {
     "name": "stdout",
     "output_type": "stream",
     "text": [
      "len_df: 1130\n"
     ]
    },
    {
     "name": "stderr",
     "output_type": "stream",
     "text": [
      " 58%|█████▊    | 29/50 [07:52<06:14, 17.84s/it]"
     ]
    },
    {
     "name": "stdout",
     "output_type": "stream",
     "text": [
      "len_df: 1176\n"
     ]
    },
    {
     "name": "stderr",
     "output_type": "stream",
     "text": [
      " 60%|██████    | 30/50 [08:08<05:45, 17.26s/it]"
     ]
    },
    {
     "name": "stdout",
     "output_type": "stream",
     "text": [
      "len_df: 1222\n"
     ]
    },
    {
     "name": "stderr",
     "output_type": "stream",
     "text": [
      " 62%|██████▏   | 31/50 [08:26<05:30, 17.39s/it]"
     ]
    },
    {
     "name": "stdout",
     "output_type": "stream",
     "text": [
      "len_df: 1269\n"
     ]
    },
    {
     "name": "stderr",
     "output_type": "stream",
     "text": [
      " 64%|██████▍   | 32/50 [08:43<05:14, 17.45s/it]"
     ]
    },
    {
     "name": "stdout",
     "output_type": "stream",
     "text": [
      "len_df: 1317\n"
     ]
    },
    {
     "name": "stderr",
     "output_type": "stream",
     "text": [
      " 66%|██████▌   | 33/50 [09:04<05:14, 18.52s/it]"
     ]
    },
    {
     "name": "stdout",
     "output_type": "stream",
     "text": [
      "len_df: 1361\n"
     ]
    },
    {
     "name": "stderr",
     "output_type": "stream",
     "text": [
      " 68%|██████▊   | 34/50 [09:20<04:43, 17.72s/it]"
     ]
    },
    {
     "name": "stdout",
     "output_type": "stream",
     "text": [
      "len_df: 1410\n"
     ]
    },
    {
     "name": "stderr",
     "output_type": "stream",
     "text": [
      " 70%|███████   | 35/50 [09:39<04:30, 18.06s/it]"
     ]
    },
    {
     "name": "stdout",
     "output_type": "stream",
     "text": [
      "len_df: 1459\n"
     ]
    },
    {
     "name": "stderr",
     "output_type": "stream",
     "text": [
      " 72%|███████▏  | 36/50 [09:55<04:04, 17.48s/it]"
     ]
    },
    {
     "name": "stdout",
     "output_type": "stream",
     "text": [
      "len_df: 1508\n"
     ]
    },
    {
     "name": "stderr",
     "output_type": "stream",
     "text": [
      " 74%|███████▍  | 37/50 [10:17<04:06, 18.94s/it]"
     ]
    },
    {
     "name": "stdout",
     "output_type": "stream",
     "text": [
      "len_df: 1553\n"
     ]
    },
    {
     "name": "stderr",
     "output_type": "stream",
     "text": [
      " 76%|███████▌  | 38/50 [10:35<03:43, 18.64s/it]"
     ]
    },
    {
     "name": "stdout",
     "output_type": "stream",
     "text": [
      "len_df: 1601\n"
     ]
    },
    {
     "name": "stderr",
     "output_type": "stream",
     "text": [
      " 78%|███████▊  | 39/50 [10:55<03:26, 18.80s/it]"
     ]
    },
    {
     "name": "stdout",
     "output_type": "stream",
     "text": [
      "len_df: 1649\n"
     ]
    },
    {
     "name": "stderr",
     "output_type": "stream",
     "text": [
      " 80%|████████  | 40/50 [11:19<03:25, 20.53s/it]"
     ]
    },
    {
     "name": "stdout",
     "output_type": "stream",
     "text": [
      "len_df: 1697\n"
     ]
    },
    {
     "name": "stderr",
     "output_type": "stream",
     "text": [
      " 82%|████████▏ | 41/50 [11:35<02:51, 19.04s/it]"
     ]
    },
    {
     "name": "stdout",
     "output_type": "stream",
     "text": [
      "len_df: 1745\n"
     ]
    },
    {
     "name": "stderr",
     "output_type": "stream",
     "text": [
      " 84%|████████▍ | 42/50 [11:57<02:39, 19.91s/it]"
     ]
    },
    {
     "name": "stdout",
     "output_type": "stream",
     "text": [
      "len_df: 1794\n"
     ]
    },
    {
     "name": "stderr",
     "output_type": "stream",
     "text": [
      " 86%|████████▌ | 43/50 [12:14<02:13, 19.06s/it]"
     ]
    },
    {
     "name": "stdout",
     "output_type": "stream",
     "text": [
      "len_df: 1842\n"
     ]
    },
    {
     "name": "stderr",
     "output_type": "stream",
     "text": [
      " 88%|████████▊ | 44/50 [12:36<01:59, 19.91s/it]"
     ]
    },
    {
     "name": "stdout",
     "output_type": "stream",
     "text": [
      "len_df: 1889\n"
     ]
    },
    {
     "name": "stderr",
     "output_type": "stream",
     "text": [
      " 90%|█████████ | 45/50 [12:57<01:42, 20.45s/it]"
     ]
    },
    {
     "name": "stdout",
     "output_type": "stream",
     "text": [
      "len_df: 1936\n"
     ]
    },
    {
     "name": "stderr",
     "output_type": "stream",
     "text": [
      " 92%|█████████▏| 46/50 [13:15<01:18, 19.51s/it]"
     ]
    },
    {
     "name": "stdout",
     "output_type": "stream",
     "text": [
      "len_df: 1982\n"
     ]
    },
    {
     "name": "stderr",
     "output_type": "stream",
     "text": [
      " 94%|█████████▍| 47/50 [13:39<01:03, 21.10s/it]"
     ]
    },
    {
     "name": "stdout",
     "output_type": "stream",
     "text": [
      "len_df: 2028\n"
     ]
    },
    {
     "name": "stderr",
     "output_type": "stream",
     "text": [
      " 96%|█████████▌| 48/50 [13:57<00:39, 19.95s/it]"
     ]
    },
    {
     "name": "stdout",
     "output_type": "stream",
     "text": [
      "len_df: 2077\n"
     ]
    },
    {
     "name": "stderr",
     "output_type": "stream",
     "text": [
      " 98%|█████████▊| 49/50 [14:16<00:19, 19.76s/it]"
     ]
    },
    {
     "name": "stdout",
     "output_type": "stream",
     "text": [
      "len_df: 2125\n"
     ]
    },
    {
     "name": "stderr",
     "output_type": "stream",
     "text": [
      "100%|██████████| 50/50 [14:35<00:00, 17.51s/it]\n"
     ]
    },
    {
     "name": "stdout",
     "output_type": "stream",
     "text": [
      "27\n"
     ]
    },
    {
     "name": "stderr",
     "output_type": "stream",
     "text": [
      "  0%|          | 0/50 [00:00<?, ?it/s]"
     ]
    },
    {
     "name": "stdout",
     "output_type": "stream",
     "text": [
      "Message: no such element: Unable to locate element: {\"method\":\"css selector\",\"selector\":\"div[class=\"iva-item-descriptionStep-C0ty1\"]\"}\n",
      "  (Session info: chrome=121.0.6167.140); For documentation on this error, please visit: https://www.selenium.dev/documentation/webdriver/troubleshooting/errors#no-such-element-exception\n",
      "Stacktrace:\n",
      "\tGetHandleVerifier [0x00007FF6C1845E42+3538674]\n",
      "\t(No symbol) [0x00007FF6C1464C02]\n",
      "\t(No symbol) [0x00007FF6C1315AEB]\n",
      "\t(No symbol) [0x00007FF6C135BF4E]\n",
      "\t(No symbol) [0x00007FF6C135C0CC]\n",
      "\t(No symbol) [0x00007FF6C13512EC]\n",
      "\t(No symbol) [0x00007FF6C137F0EF]\n",
      "\t(No symbol) [0x00007FF6C135124A]\n",
      "\t(No symbol) [0x00007FF6C137F2C0]\n",
      "\t(No symbol) [0x00007FF6C139BDE3]\n",
      "\t(No symbol) [0x00007FF6C137EE53]\n",
      "\t(No symbol) [0x00007FF6C134F514]\n",
      "\t(No symbol) [0x00007FF6C1350631]\n",
      "\tGetHandleVerifier [0x00007FF6C1876CAD+3738973]\n",
      "\tGetHandleVerifier [0x00007FF6C18CC506+4089270]\n",
      "\tGetHandleVerifier [0x00007FF6C18C4823+4057299]\n",
      "\tGetHandleVerifier [0x00007FF6C1595C49+720121]\n",
      "\t(No symbol) [0x00007FF6C147126F]\n",
      "\t(No symbol) [0x00007FF6C146C304]\n",
      "\t(No symbol) [0x00007FF6C146C432]\n",
      "\t(No symbol) [0x00007FF6C145BD04]\n",
      "\tBaseThreadInitThunk [0x00007FF867867344+20]\n",
      "\tRtlUserThreadStart [0x00007FF8697026B1+33]\n",
      "\n",
      "Message: no such element: Unable to locate element: {\"method\":\"css selector\",\"selector\":\"div[class=\"iva-item-descriptionStep-C0ty1\"]\"}\n",
      "  (Session info: chrome=121.0.6167.140); For documentation on this error, please visit: https://www.selenium.dev/documentation/webdriver/troubleshooting/errors#no-such-element-exception\n",
      "Stacktrace:\n",
      "\tGetHandleVerifier [0x00007FF6C1845E42+3538674]\n",
      "\t(No symbol) [0x00007FF6C1464C02]\n",
      "\t(No symbol) [0x00007FF6C1315AEB]\n",
      "\t(No symbol) [0x00007FF6C135BF4E]\n",
      "\t(No symbol) [0x00007FF6C135C0CC]\n",
      "\t(No symbol) [0x00007FF6C13512EC]\n",
      "\t(No symbol) [0x00007FF6C137F0EF]\n",
      "\t(No symbol) [0x00007FF6C135124A]\n",
      "\t(No symbol) [0x00007FF6C137F2C0]\n",
      "\t(No symbol) [0x00007FF6C139BDE3]\n",
      "\t(No symbol) [0x00007FF6C137EE53]\n",
      "\t(No symbol) [0x00007FF6C134F514]\n",
      "\t(No symbol) [0x00007FF6C1350631]\n",
      "\tGetHandleVerifier [0x00007FF6C1876CAD+3738973]\n",
      "\tGetHandleVerifier [0x00007FF6C18CC506+4089270]\n",
      "\tGetHandleVerifier [0x00007FF6C18C4823+4057299]\n",
      "\tGetHandleVerifier [0x00007FF6C1595C49+720121]\n",
      "\t(No symbol) [0x00007FF6C147126F]\n",
      "\t(No symbol) [0x00007FF6C146C304]\n",
      "\t(No symbol) [0x00007FF6C146C432]\n",
      "\t(No symbol) [0x00007FF6C145BD04]\n",
      "\tBaseThreadInitThunk [0x00007FF867867344+20]\n",
      "\tRtlUserThreadStart [0x00007FF8697026B1+33]\n",
      "\n",
      "Message: no such element: Unable to locate element: {\"method\":\"css selector\",\"selector\":\"div[class=\"iva-item-descriptionStep-C0ty1\"]\"}\n",
      "  (Session info: chrome=121.0.6167.140); For documentation on this error, please visit: https://www.selenium.dev/documentation/webdriver/troubleshooting/errors#no-such-element-exception\n",
      "Stacktrace:\n",
      "\tGetHandleVerifier [0x00007FF6C1845E42+3538674]\n",
      "\t(No symbol) [0x00007FF6C1464C02]\n",
      "\t(No symbol) [0x00007FF6C1315AEB]\n",
      "\t(No symbol) [0x00007FF6C135BF4E]\n",
      "\t(No symbol) [0x00007FF6C135C0CC]\n",
      "\t(No symbol) [0x00007FF6C13512EC]\n",
      "\t(No symbol) [0x00007FF6C137F0EF]\n",
      "\t(No symbol) [0x00007FF6C135124A]\n",
      "\t(No symbol) [0x00007FF6C137F2C0]\n",
      "\t(No symbol) [0x00007FF6C139BDE3]\n",
      "\t(No symbol) [0x00007FF6C137EE53]\n",
      "\t(No symbol) [0x00007FF6C134F514]\n",
      "\t(No symbol) [0x00007FF6C1350631]\n",
      "\tGetHandleVerifier [0x00007FF6C1876CAD+3738973]\n",
      "\tGetHandleVerifier [0x00007FF6C18CC506+4089270]\n",
      "\tGetHandleVerifier [0x00007FF6C18C4823+4057299]\n",
      "\tGetHandleVerifier [0x00007FF6C1595C49+720121]\n",
      "\t(No symbol) [0x00007FF6C147126F]\n",
      "\t(No symbol) [0x00007FF6C146C304]\n",
      "\t(No symbol) [0x00007FF6C146C432]\n",
      "\t(No symbol) [0x00007FF6C145BD04]\n",
      "\tBaseThreadInitThunk [0x00007FF867867344+20]\n",
      "\tRtlUserThreadStart [0x00007FF8697026B1+33]\n",
      "\n",
      "Message: no such element: Unable to locate element: {\"method\":\"css selector\",\"selector\":\"div[class=\"iva-item-descriptionStep-C0ty1\"]\"}\n",
      "  (Session info: chrome=121.0.6167.140); For documentation on this error, please visit: https://www.selenium.dev/documentation/webdriver/troubleshooting/errors#no-such-element-exception\n",
      "Stacktrace:\n",
      "\tGetHandleVerifier [0x00007FF6C1845E42+3538674]\n",
      "\t(No symbol) [0x00007FF6C1464C02]\n",
      "\t(No symbol) [0x00007FF6C1315AEB]\n",
      "\t(No symbol) [0x00007FF6C135BF4E]\n",
      "\t(No symbol) [0x00007FF6C135C0CC]\n",
      "\t(No symbol) [0x00007FF6C13512EC]\n",
      "\t(No symbol) [0x00007FF6C137F0EF]\n",
      "\t(No symbol) [0x00007FF6C135124A]\n",
      "\t(No symbol) [0x00007FF6C137F2C0]\n",
      "\t(No symbol) [0x00007FF6C139BDE3]\n",
      "\t(No symbol) [0x00007FF6C137EE53]\n",
      "\t(No symbol) [0x00007FF6C134F514]\n",
      "\t(No symbol) [0x00007FF6C1350631]\n",
      "\tGetHandleVerifier [0x00007FF6C1876CAD+3738973]\n",
      "\tGetHandleVerifier [0x00007FF6C18CC506+4089270]\n",
      "\tGetHandleVerifier [0x00007FF6C18C4823+4057299]\n",
      "\tGetHandleVerifier [0x00007FF6C1595C49+720121]\n",
      "\t(No symbol) [0x00007FF6C147126F]\n",
      "\t(No symbol) [0x00007FF6C146C304]\n",
      "\t(No symbol) [0x00007FF6C146C432]\n",
      "\t(No symbol) [0x00007FF6C145BD04]\n",
      "\tBaseThreadInitThunk [0x00007FF867867344+20]\n",
      "\tRtlUserThreadStart [0x00007FF8697026B1+33]\n",
      "\n",
      "len_df: 49\n"
     ]
    },
    {
     "name": "stderr",
     "output_type": "stream",
     "text": [
      "  2%|▏         | 1/50 [00:56<46:06, 56.46s/it]"
     ]
    },
    {
     "name": "stdout",
     "output_type": "stream",
     "text": [
      "len_df: 98\n"
     ]
    },
    {
     "name": "stderr",
     "output_type": "stream",
     "text": [
      "  4%|▍         | 2/50 [01:08<24:22, 30.48s/it]"
     ]
    },
    {
     "name": "stdout",
     "output_type": "stream",
     "text": [
      "len_df: 145\n"
     ]
    },
    {
     "name": "stderr",
     "output_type": "stream",
     "text": [
      "  6%|▌         | 3/50 [01:19<16:46, 21.41s/it]"
     ]
    },
    {
     "name": "stdout",
     "output_type": "stream",
     "text": [
      "len_df: 191\n"
     ]
    },
    {
     "name": "stderr",
     "output_type": "stream",
     "text": [
      "  8%|▊         | 4/50 [01:29<12:53, 16.82s/it]"
     ]
    },
    {
     "name": "stdout",
     "output_type": "stream",
     "text": [
      "len_df: 241\n"
     ]
    },
    {
     "name": "stderr",
     "output_type": "stream",
     "text": [
      " 10%|█         | 5/50 [01:41<11:28, 15.29s/it]"
     ]
    },
    {
     "name": "stdout",
     "output_type": "stream",
     "text": [
      "len_df: 290\n"
     ]
    },
    {
     "name": "stderr",
     "output_type": "stream",
     "text": [
      " 12%|█▏        | 6/50 [01:52<10:12, 13.92s/it]"
     ]
    },
    {
     "name": "stdout",
     "output_type": "stream",
     "text": [
      "len_df: 329\n"
     ]
    },
    {
     "name": "stderr",
     "output_type": "stream",
     "text": [
      " 14%|█▍        | 7/50 [02:04<09:29, 13.25s/it]"
     ]
    },
    {
     "name": "stdout",
     "output_type": "stream",
     "text": [
      "len_df: 376\n"
     ]
    },
    {
     "name": "stderr",
     "output_type": "stream",
     "text": [
      " 16%|█▌        | 8/50 [02:18<09:17, 13.27s/it]"
     ]
    },
    {
     "name": "stdout",
     "output_type": "stream",
     "text": [
      "len_df: 404\n"
     ]
    },
    {
     "name": "stderr",
     "output_type": "stream",
     "text": [
      " 18%|█▊        | 9/50 [02:29<08:43, 12.76s/it]"
     ]
    },
    {
     "name": "stdout",
     "output_type": "stream",
     "text": [
      "len_df: 432\n"
     ]
    },
    {
     "name": "stderr",
     "output_type": "stream",
     "text": [
      " 20%|██        | 10/50 [03:12<14:45, 22.14s/it]"
     ]
    },
    {
     "name": "stdout",
     "output_type": "stream",
     "text": [
      "len_df: 469\n"
     ]
    },
    {
     "name": "stderr",
     "output_type": "stream",
     "text": [
      " 22%|██▏       | 11/50 [03:24<12:19, 18.97s/it]"
     ]
    },
    {
     "name": "stdout",
     "output_type": "stream",
     "text": [
      "len_df: 497\n"
     ]
    },
    {
     "name": "stderr",
     "output_type": "stream",
     "text": [
      " 24%|██▍       | 12/50 [03:37<10:44, 16.97s/it]"
     ]
    },
    {
     "name": "stdout",
     "output_type": "stream",
     "text": [
      "len_df: 521\n"
     ]
    },
    {
     "name": "stderr",
     "output_type": "stream",
     "text": [
      " 26%|██▌       | 13/50 [03:49<09:37, 15.61s/it]"
     ]
    },
    {
     "name": "stdout",
     "output_type": "stream",
     "text": [
      "len_df: 551\n"
     ]
    },
    {
     "name": "stderr",
     "output_type": "stream",
     "text": [
      " 28%|██▊       | 14/50 [04:02<08:50, 14.73s/it]"
     ]
    },
    {
     "name": "stdout",
     "output_type": "stream",
     "text": [
      "len_df: 576\n"
     ]
    },
    {
     "name": "stderr",
     "output_type": "stream",
     "text": [
      " 30%|███       | 15/50 [04:16<08:31, 14.62s/it]"
     ]
    },
    {
     "name": "stdout",
     "output_type": "stream",
     "text": [
      "len_df: 601\n"
     ]
    },
    {
     "name": "stderr",
     "output_type": "stream",
     "text": [
      " 32%|███▏      | 16/50 [04:28<07:52, 13.88s/it]"
     ]
    },
    {
     "name": "stdout",
     "output_type": "stream",
     "text": [
      "len_df: 624\n"
     ]
    },
    {
     "name": "stderr",
     "output_type": "stream",
     "text": [
      " 34%|███▍      | 17/50 [04:41<07:26, 13.54s/it]"
     ]
    },
    {
     "name": "stdout",
     "output_type": "stream",
     "text": [
      "len_df: 645\n"
     ]
    },
    {
     "name": "stderr",
     "output_type": "stream",
     "text": [
      " 36%|███▌      | 18/50 [04:55<07:14, 13.56s/it]"
     ]
    },
    {
     "name": "stdout",
     "output_type": "stream",
     "text": [
      "len_df: 671\n"
     ]
    },
    {
     "name": "stderr",
     "output_type": "stream",
     "text": [
      " 38%|███▊      | 19/50 [05:11<07:22, 14.27s/it]"
     ]
    },
    {
     "name": "stdout",
     "output_type": "stream",
     "text": [
      "len_df: 694\n"
     ]
    },
    {
     "name": "stderr",
     "output_type": "stream",
     "text": [
      " 40%|████      | 20/50 [05:25<07:10, 14.35s/it]"
     ]
    },
    {
     "name": "stdout",
     "output_type": "stream",
     "text": [
      "len_df: 718\n"
     ]
    },
    {
     "name": "stderr",
     "output_type": "stream",
     "text": [
      " 42%|████▏     | 21/50 [05:40<07:00, 14.50s/it]"
     ]
    },
    {
     "name": "stdout",
     "output_type": "stream",
     "text": [
      "len_df: 763\n"
     ]
    },
    {
     "name": "stderr",
     "output_type": "stream",
     "text": [
      " 44%|████▍     | 22/50 [05:53<06:35, 14.14s/it]"
     ]
    },
    {
     "name": "stdout",
     "output_type": "stream",
     "text": [
      "len_df: 807\n"
     ]
    },
    {
     "name": "stderr",
     "output_type": "stream",
     "text": [
      " 46%|████▌     | 23/50 [06:09<06:31, 14.51s/it]"
     ]
    },
    {
     "name": "stdout",
     "output_type": "stream",
     "text": [
      "len_df: 852\n"
     ]
    },
    {
     "name": "stderr",
     "output_type": "stream",
     "text": [
      " 48%|████▊     | 24/50 [06:24<06:20, 14.64s/it]"
     ]
    },
    {
     "name": "stdout",
     "output_type": "stream",
     "text": [
      "len_df: 900\n"
     ]
    },
    {
     "name": "stderr",
     "output_type": "stream",
     "text": [
      " 50%|█████     | 25/50 [06:37<05:59, 14.38s/it]"
     ]
    },
    {
     "name": "stdout",
     "output_type": "stream",
     "text": [
      "len_df: 948\n"
     ]
    },
    {
     "name": "stderr",
     "output_type": "stream",
     "text": [
      " 52%|█████▏    | 26/50 [06:53<05:54, 14.77s/it]"
     ]
    },
    {
     "name": "stdout",
     "output_type": "stream",
     "text": [
      "Message: no such element: Unable to locate element: {\"method\":\"css selector\",\"selector\":\"div[class=\"iva-item-descriptionStep-C0ty1\"]\"}\n",
      "  (Session info: chrome=121.0.6167.140); For documentation on this error, please visit: https://www.selenium.dev/documentation/webdriver/troubleshooting/errors#no-such-element-exception\n",
      "Stacktrace:\n",
      "\tGetHandleVerifier [0x00007FF6C1845E42+3538674]\n",
      "\t(No symbol) [0x00007FF6C1464C02]\n",
      "\t(No symbol) [0x00007FF6C1315AEB]\n",
      "\t(No symbol) [0x00007FF6C135BF4E]\n",
      "\t(No symbol) [0x00007FF6C135C0CC]\n",
      "\t(No symbol) [0x00007FF6C13512EC]\n",
      "\t(No symbol) [0x00007FF6C137F0EF]\n",
      "\t(No symbol) [0x00007FF6C135124A]\n",
      "\t(No symbol) [0x00007FF6C137F2C0]\n",
      "\t(No symbol) [0x00007FF6C139BDE3]\n",
      "\t(No symbol) [0x00007FF6C137EE53]\n",
      "\t(No symbol) [0x00007FF6C134F514]\n",
      "\t(No symbol) [0x00007FF6C1350631]\n",
      "\tGetHandleVerifier [0x00007FF6C1876CAD+3738973]\n",
      "\tGetHandleVerifier [0x00007FF6C18CC506+4089270]\n",
      "\tGetHandleVerifier [0x00007FF6C18C4823+4057299]\n",
      "\tGetHandleVerifier [0x00007FF6C1595C49+720121]\n",
      "\t(No symbol) [0x00007FF6C147126F]\n",
      "\t(No symbol) [0x00007FF6C146C304]\n",
      "\t(No symbol) [0x00007FF6C146C432]\n",
      "\t(No symbol) [0x00007FF6C145BD04]\n",
      "\tBaseThreadInitThunk [0x00007FF867867344+20]\n",
      "\tRtlUserThreadStart [0x00007FF8697026B1+33]\n",
      "\n",
      "len_df: 995\n"
     ]
    },
    {
     "name": "stderr",
     "output_type": "stream",
     "text": [
      " 54%|█████▍    | 27/50 [07:19<06:57, 18.16s/it]"
     ]
    },
    {
     "name": "stdout",
     "output_type": "stream",
     "text": [
      "len_df: 1043\n"
     ]
    },
    {
     "name": "stderr",
     "output_type": "stream",
     "text": [
      " 56%|█████▌    | 28/50 [07:36<06:28, 17.64s/it]"
     ]
    },
    {
     "name": "stdout",
     "output_type": "stream",
     "text": [
      "len_df: 1089\n"
     ]
    },
    {
     "name": "stderr",
     "output_type": "stream",
     "text": [
      " 58%|█████▊    | 29/50 [07:53<06:11, 17.69s/it]"
     ]
    },
    {
     "name": "stdout",
     "output_type": "stream",
     "text": [
      "Message: no such element: Unable to locate element: {\"method\":\"css selector\",\"selector\":\"div[class=\"iva-item-descriptionStep-C0ty1\"]\"}\n",
      "  (Session info: chrome=121.0.6167.140); For documentation on this error, please visit: https://www.selenium.dev/documentation/webdriver/troubleshooting/errors#no-such-element-exception\n",
      "Stacktrace:\n",
      "\tGetHandleVerifier [0x00007FF6C1845E42+3538674]\n",
      "\t(No symbol) [0x00007FF6C1464C02]\n",
      "\t(No symbol) [0x00007FF6C1315AEB]\n",
      "\t(No symbol) [0x00007FF6C135BF4E]\n",
      "\t(No symbol) [0x00007FF6C135C0CC]\n",
      "\t(No symbol) [0x00007FF6C13512EC]\n",
      "\t(No symbol) [0x00007FF6C137F0EF]\n",
      "\t(No symbol) [0x00007FF6C135124A]\n",
      "\t(No symbol) [0x00007FF6C137F2C0]\n",
      "\t(No symbol) [0x00007FF6C139BDE3]\n",
      "\t(No symbol) [0x00007FF6C137EE53]\n",
      "\t(No symbol) [0x00007FF6C134F514]\n",
      "\t(No symbol) [0x00007FF6C1350631]\n",
      "\tGetHandleVerifier [0x00007FF6C1876CAD+3738973]\n",
      "\tGetHandleVerifier [0x00007FF6C18CC506+4089270]\n",
      "\tGetHandleVerifier [0x00007FF6C18C4823+4057299]\n",
      "\tGetHandleVerifier [0x00007FF6C1595C49+720121]\n",
      "\t(No symbol) [0x00007FF6C147126F]\n",
      "\t(No symbol) [0x00007FF6C146C304]\n",
      "\t(No symbol) [0x00007FF6C146C432]\n",
      "\t(No symbol) [0x00007FF6C145BD04]\n",
      "\tBaseThreadInitThunk [0x00007FF867867344+20]\n",
      "\tRtlUserThreadStart [0x00007FF8697026B1+33]\n",
      "\n",
      "len_df: 1135\n"
     ]
    },
    {
     "name": "stderr",
     "output_type": "stream",
     "text": [
      " 60%|██████    | 30/50 [08:20<06:46, 20.33s/it]"
     ]
    },
    {
     "name": "stdout",
     "output_type": "stream",
     "text": [
      "len_df: 1179\n"
     ]
    },
    {
     "name": "stderr",
     "output_type": "stream",
     "text": [
      " 62%|██████▏   | 31/50 [08:36<06:02, 19.06s/it]"
     ]
    },
    {
     "name": "stdout",
     "output_type": "stream",
     "text": [
      "len_df: 1227\n"
     ]
    },
    {
     "name": "stderr",
     "output_type": "stream",
     "text": [
      " 64%|██████▍   | 32/50 [08:52<05:29, 18.30s/it]"
     ]
    },
    {
     "name": "stdout",
     "output_type": "stream",
     "text": [
      "len_df: 1271\n"
     ]
    },
    {
     "name": "stderr",
     "output_type": "stream",
     "text": [
      " 66%|██████▌   | 33/50 [09:11<05:11, 18.34s/it]"
     ]
    },
    {
     "name": "stdout",
     "output_type": "stream",
     "text": [
      "len_df: 1314\n"
     ]
    },
    {
     "name": "stderr",
     "output_type": "stream",
     "text": [
      " 68%|██████▊   | 34/50 [09:28<04:46, 17.93s/it]"
     ]
    },
    {
     "name": "stdout",
     "output_type": "stream",
     "text": [
      "len_df: 1362\n"
     ]
    },
    {
     "name": "stderr",
     "output_type": "stream",
     "text": [
      " 70%|███████   | 35/50 [09:47<04:32, 18.17s/it]"
     ]
    },
    {
     "name": "stdout",
     "output_type": "stream",
     "text": [
      "len_df: 1412\n"
     ]
    },
    {
     "name": "stderr",
     "output_type": "stream",
     "text": [
      " 72%|███████▏  | 36/50 [10:07<04:21, 18.69s/it]"
     ]
    },
    {
     "name": "stdout",
     "output_type": "stream",
     "text": [
      "len_df: 1456\n"
     ]
    },
    {
     "name": "stderr",
     "output_type": "stream",
     "text": [
      " 74%|███████▍  | 37/50 [10:26<04:06, 18.96s/it]"
     ]
    },
    {
     "name": "stdout",
     "output_type": "stream",
     "text": [
      "len_df: 1503\n"
     ]
    },
    {
     "name": "stderr",
     "output_type": "stream",
     "text": [
      " 76%|███████▌  | 38/50 [10:45<03:47, 18.99s/it]"
     ]
    },
    {
     "name": "stdout",
     "output_type": "stream",
     "text": [
      "Message: no such element: Unable to locate element: {\"method\":\"css selector\",\"selector\":\"div[class=\"iva-item-descriptionStep-C0ty1\"]\"}\n",
      "  (Session info: chrome=121.0.6167.140); For documentation on this error, please visit: https://www.selenium.dev/documentation/webdriver/troubleshooting/errors#no-such-element-exception\n",
      "Stacktrace:\n",
      "\tGetHandleVerifier [0x00007FF6C1845E42+3538674]\n",
      "\t(No symbol) [0x00007FF6C1464C02]\n",
      "\t(No symbol) [0x00007FF6C1315AEB]\n",
      "\t(No symbol) [0x00007FF6C135BF4E]\n",
      "\t(No symbol) [0x00007FF6C135C0CC]\n",
      "\t(No symbol) [0x00007FF6C13512EC]\n",
      "\t(No symbol) [0x00007FF6C137F0EF]\n",
      "\t(No symbol) [0x00007FF6C135124A]\n",
      "\t(No symbol) [0x00007FF6C137F2C0]\n",
      "\t(No symbol) [0x00007FF6C139BDE3]\n",
      "\t(No symbol) [0x00007FF6C137EE53]\n",
      "\t(No symbol) [0x00007FF6C134F514]\n",
      "\t(No symbol) [0x00007FF6C1350631]\n",
      "\tGetHandleVerifier [0x00007FF6C1876CAD+3738973]\n",
      "\tGetHandleVerifier [0x00007FF6C18CC506+4089270]\n",
      "\tGetHandleVerifier [0x00007FF6C18C4823+4057299]\n",
      "\tGetHandleVerifier [0x00007FF6C1595C49+720121]\n",
      "\t(No symbol) [0x00007FF6C147126F]\n",
      "\t(No symbol) [0x00007FF6C146C304]\n",
      "\t(No symbol) [0x00007FF6C146C432]\n",
      "\t(No symbol) [0x00007FF6C145BD04]\n",
      "\tBaseThreadInitThunk [0x00007FF867867344+20]\n",
      "\tRtlUserThreadStart [0x00007FF8697026B1+33]\n",
      "\n",
      "Message: no such element: Unable to locate element: {\"method\":\"css selector\",\"selector\":\"div[class=\"iva-item-descriptionStep-C0ty1\"]\"}\n",
      "  (Session info: chrome=121.0.6167.140); For documentation on this error, please visit: https://www.selenium.dev/documentation/webdriver/troubleshooting/errors#no-such-element-exception\n",
      "Stacktrace:\n",
      "\tGetHandleVerifier [0x00007FF6C1845E42+3538674]\n",
      "\t(No symbol) [0x00007FF6C1464C02]\n",
      "\t(No symbol) [0x00007FF6C1315AEB]\n",
      "\t(No symbol) [0x00007FF6C135BF4E]\n",
      "\t(No symbol) [0x00007FF6C135C0CC]\n",
      "\t(No symbol) [0x00007FF6C13512EC]\n",
      "\t(No symbol) [0x00007FF6C137F0EF]\n",
      "\t(No symbol) [0x00007FF6C135124A]\n",
      "\t(No symbol) [0x00007FF6C137F2C0]\n",
      "\t(No symbol) [0x00007FF6C139BDE3]\n",
      "\t(No symbol) [0x00007FF6C137EE53]\n",
      "\t(No symbol) [0x00007FF6C134F514]\n",
      "\t(No symbol) [0x00007FF6C1350631]\n",
      "\tGetHandleVerifier [0x00007FF6C1876CAD+3738973]\n",
      "\tGetHandleVerifier [0x00007FF6C18CC506+4089270]\n",
      "\tGetHandleVerifier [0x00007FF6C18C4823+4057299]\n",
      "\tGetHandleVerifier [0x00007FF6C1595C49+720121]\n",
      "\t(No symbol) [0x00007FF6C147126F]\n",
      "\t(No symbol) [0x00007FF6C146C304]\n",
      "\t(No symbol) [0x00007FF6C146C432]\n",
      "\t(No symbol) [0x00007FF6C145BD04]\n",
      "\tBaseThreadInitThunk [0x00007FF867867344+20]\n",
      "\tRtlUserThreadStart [0x00007FF8697026B1+33]\n",
      "\n",
      "Message: no such element: Unable to locate element: {\"method\":\"css selector\",\"selector\":\"div[class=\"iva-item-descriptionStep-C0ty1\"]\"}\n",
      "  (Session info: chrome=121.0.6167.140); For documentation on this error, please visit: https://www.selenium.dev/documentation/webdriver/troubleshooting/errors#no-such-element-exception\n",
      "Stacktrace:\n",
      "\tGetHandleVerifier [0x00007FF6C1845E42+3538674]\n",
      "\t(No symbol) [0x00007FF6C1464C02]\n",
      "\t(No symbol) [0x00007FF6C1315AEB]\n",
      "\t(No symbol) [0x00007FF6C135BF4E]\n",
      "\t(No symbol) [0x00007FF6C135C0CC]\n",
      "\t(No symbol) [0x00007FF6C13512EC]\n",
      "\t(No symbol) [0x00007FF6C137F0EF]\n",
      "\t(No symbol) [0x00007FF6C135124A]\n",
      "\t(No symbol) [0x00007FF6C137F2C0]\n",
      "\t(No symbol) [0x00007FF6C139BDE3]\n",
      "\t(No symbol) [0x00007FF6C137EE53]\n",
      "\t(No symbol) [0x00007FF6C134F514]\n",
      "\t(No symbol) [0x00007FF6C1350631]\n",
      "\tGetHandleVerifier [0x00007FF6C1876CAD+3738973]\n",
      "\tGetHandleVerifier [0x00007FF6C18CC506+4089270]\n",
      "\tGetHandleVerifier [0x00007FF6C18C4823+4057299]\n",
      "\tGetHandleVerifier [0x00007FF6C1595C49+720121]\n",
      "\t(No symbol) [0x00007FF6C147126F]\n",
      "\t(No symbol) [0x00007FF6C146C304]\n",
      "\t(No symbol) [0x00007FF6C146C432]\n",
      "\t(No symbol) [0x00007FF6C145BD04]\n",
      "\tBaseThreadInitThunk [0x00007FF867867344+20]\n",
      "\tRtlUserThreadStart [0x00007FF8697026B1+33]\n",
      "\n",
      "len_df: 1548\n"
     ]
    },
    {
     "name": "stderr",
     "output_type": "stream",
     "text": [
      " 78%|███████▊  | 39/50 [11:33<05:02, 27.54s/it]"
     ]
    },
    {
     "name": "stdout",
     "output_type": "stream",
     "text": [
      "Message: no such element: Unable to locate element: {\"method\":\"css selector\",\"selector\":\"div[class=\"iva-item-descriptionStep-C0ty1\"]\"}\n",
      "  (Session info: chrome=121.0.6167.140); For documentation on this error, please visit: https://www.selenium.dev/documentation/webdriver/troubleshooting/errors#no-such-element-exception\n",
      "Stacktrace:\n",
      "\tGetHandleVerifier [0x00007FF6C1845E42+3538674]\n",
      "\t(No symbol) [0x00007FF6C1464C02]\n",
      "\t(No symbol) [0x00007FF6C1315AEB]\n",
      "\t(No symbol) [0x00007FF6C135BF4E]\n",
      "\t(No symbol) [0x00007FF6C135C0CC]\n",
      "\t(No symbol) [0x00007FF6C13512EC]\n",
      "\t(No symbol) [0x00007FF6C137F0EF]\n",
      "\t(No symbol) [0x00007FF6C135124A]\n",
      "\t(No symbol) [0x00007FF6C137F2C0]\n",
      "\t(No symbol) [0x00007FF6C139BDE3]\n",
      "\t(No symbol) [0x00007FF6C137EE53]\n",
      "\t(No symbol) [0x00007FF6C134F514]\n",
      "\t(No symbol) [0x00007FF6C1350631]\n",
      "\tGetHandleVerifier [0x00007FF6C1876CAD+3738973]\n",
      "\tGetHandleVerifier [0x00007FF6C18CC506+4089270]\n",
      "\tGetHandleVerifier [0x00007FF6C18C4823+4057299]\n",
      "\tGetHandleVerifier [0x00007FF6C1595C49+720121]\n",
      "\t(No symbol) [0x00007FF6C147126F]\n",
      "\t(No symbol) [0x00007FF6C146C304]\n",
      "\t(No symbol) [0x00007FF6C146C432]\n",
      "\t(No symbol) [0x00007FF6C145BD04]\n",
      "\tBaseThreadInitThunk [0x00007FF867867344+20]\n",
      "\tRtlUserThreadStart [0x00007FF8697026B1+33]\n",
      "\n",
      "len_df: 1594\n"
     ]
    },
    {
     "name": "stderr",
     "output_type": "stream",
     "text": [
      " 80%|████████  | 40/50 [12:02<04:41, 28.15s/it]"
     ]
    },
    {
     "name": "stdout",
     "output_type": "stream",
     "text": [
      "Message: no such element: Unable to locate element: {\"method\":\"css selector\",\"selector\":\"div[class=\"iva-item-descriptionStep-C0ty1\"]\"}\n",
      "  (Session info: chrome=121.0.6167.140); For documentation on this error, please visit: https://www.selenium.dev/documentation/webdriver/troubleshooting/errors#no-such-element-exception\n",
      "Stacktrace:\n",
      "\tGetHandleVerifier [0x00007FF6C1845E42+3538674]\n",
      "\t(No symbol) [0x00007FF6C1464C02]\n",
      "\t(No symbol) [0x00007FF6C1315AEB]\n",
      "\t(No symbol) [0x00007FF6C135BF4E]\n",
      "\t(No symbol) [0x00007FF6C135C0CC]\n",
      "\t(No symbol) [0x00007FF6C13512EC]\n",
      "\t(No symbol) [0x00007FF6C137F0EF]\n",
      "\t(No symbol) [0x00007FF6C135124A]\n",
      "\t(No symbol) [0x00007FF6C137F2C0]\n",
      "\t(No symbol) [0x00007FF6C139BDE3]\n",
      "\t(No symbol) [0x00007FF6C137EE53]\n",
      "\t(No symbol) [0x00007FF6C134F514]\n",
      "\t(No symbol) [0x00007FF6C1350631]\n",
      "\tGetHandleVerifier [0x00007FF6C1876CAD+3738973]\n",
      "\tGetHandleVerifier [0x00007FF6C18CC506+4089270]\n",
      "\tGetHandleVerifier [0x00007FF6C18C4823+4057299]\n",
      "\tGetHandleVerifier [0x00007FF6C1595C49+720121]\n",
      "\t(No symbol) [0x00007FF6C147126F]\n",
      "\t(No symbol) [0x00007FF6C146C304]\n",
      "\t(No symbol) [0x00007FF6C146C432]\n",
      "\t(No symbol) [0x00007FF6C145BD04]\n",
      "\tBaseThreadInitThunk [0x00007FF867867344+20]\n",
      "\tRtlUserThreadStart [0x00007FF8697026B1+33]\n",
      "\n",
      "Message: no such element: Unable to locate element: {\"method\":\"css selector\",\"selector\":\"div[class=\"iva-item-descriptionStep-C0ty1\"]\"}\n",
      "  (Session info: chrome=121.0.6167.140); For documentation on this error, please visit: https://www.selenium.dev/documentation/webdriver/troubleshooting/errors#no-such-element-exception\n",
      "Stacktrace:\n",
      "\tGetHandleVerifier [0x00007FF6C1845E42+3538674]\n",
      "\t(No symbol) [0x00007FF6C1464C02]\n",
      "\t(No symbol) [0x00007FF6C1315AEB]\n",
      "\t(No symbol) [0x00007FF6C135BF4E]\n",
      "\t(No symbol) [0x00007FF6C135C0CC]\n",
      "\t(No symbol) [0x00007FF6C13512EC]\n",
      "\t(No symbol) [0x00007FF6C137F0EF]\n",
      "\t(No symbol) [0x00007FF6C135124A]\n",
      "\t(No symbol) [0x00007FF6C137F2C0]\n",
      "\t(No symbol) [0x00007FF6C139BDE3]\n",
      "\t(No symbol) [0x00007FF6C137EE53]\n",
      "\t(No symbol) [0x00007FF6C134F514]\n",
      "\t(No symbol) [0x00007FF6C1350631]\n",
      "\tGetHandleVerifier [0x00007FF6C1876CAD+3738973]\n",
      "\tGetHandleVerifier [0x00007FF6C18CC506+4089270]\n",
      "\tGetHandleVerifier [0x00007FF6C18C4823+4057299]\n",
      "\tGetHandleVerifier [0x00007FF6C1595C49+720121]\n",
      "\t(No symbol) [0x00007FF6C147126F]\n",
      "\t(No symbol) [0x00007FF6C146C304]\n",
      "\t(No symbol) [0x00007FF6C146C432]\n",
      "\t(No symbol) [0x00007FF6C145BD04]\n",
      "\tBaseThreadInitThunk [0x00007FF867867344+20]\n",
      "\tRtlUserThreadStart [0x00007FF8697026B1+33]\n",
      "\n",
      "len_df: 1638\n"
     ]
    },
    {
     "name": "stderr",
     "output_type": "stream",
     "text": [
      " 82%|████████▏ | 41/50 [12:44<04:49, 32.16s/it]"
     ]
    },
    {
     "name": "stdout",
     "output_type": "stream",
     "text": [
      "len_df: 1683\n"
     ]
    },
    {
     "name": "stderr",
     "output_type": "stream",
     "text": [
      " 84%|████████▍ | 42/50 [13:04<03:48, 28.55s/it]"
     ]
    },
    {
     "name": "stdout",
     "output_type": "stream",
     "text": [
      "Message: no such element: Unable to locate element: {\"method\":\"css selector\",\"selector\":\"div[class=\"iva-item-descriptionStep-C0ty1\"]\"}\n",
      "  (Session info: chrome=121.0.6167.140); For documentation on this error, please visit: https://www.selenium.dev/documentation/webdriver/troubleshooting/errors#no-such-element-exception\n",
      "Stacktrace:\n",
      "\tGetHandleVerifier [0x00007FF6C1845E42+3538674]\n",
      "\t(No symbol) [0x00007FF6C1464C02]\n",
      "\t(No symbol) [0x00007FF6C1315AEB]\n",
      "\t(No symbol) [0x00007FF6C135BF4E]\n",
      "\t(No symbol) [0x00007FF6C135C0CC]\n",
      "\t(No symbol) [0x00007FF6C13512EC]\n",
      "\t(No symbol) [0x00007FF6C137F0EF]\n",
      "\t(No symbol) [0x00007FF6C135124A]\n",
      "\t(No symbol) [0x00007FF6C137F2C0]\n",
      "\t(No symbol) [0x00007FF6C139BDE3]\n",
      "\t(No symbol) [0x00007FF6C137EE53]\n",
      "\t(No symbol) [0x00007FF6C134F514]\n",
      "\t(No symbol) [0x00007FF6C1350631]\n",
      "\tGetHandleVerifier [0x00007FF6C1876CAD+3738973]\n",
      "\tGetHandleVerifier [0x00007FF6C18CC506+4089270]\n",
      "\tGetHandleVerifier [0x00007FF6C18C4823+4057299]\n",
      "\tGetHandleVerifier [0x00007FF6C1595C49+720121]\n",
      "\t(No symbol) [0x00007FF6C147126F]\n",
      "\t(No symbol) [0x00007FF6C146C304]\n",
      "\t(No symbol) [0x00007FF6C146C432]\n",
      "\t(No symbol) [0x00007FF6C145BD04]\n",
      "\tBaseThreadInitThunk [0x00007FF867867344+20]\n",
      "\tRtlUserThreadStart [0x00007FF8697026B1+33]\n",
      "\n",
      "Message: no such element: Unable to locate element: {\"method\":\"css selector\",\"selector\":\"div[class=\"iva-item-descriptionStep-C0ty1\"]\"}\n",
      "  (Session info: chrome=121.0.6167.140); For documentation on this error, please visit: https://www.selenium.dev/documentation/webdriver/troubleshooting/errors#no-such-element-exception\n",
      "Stacktrace:\n",
      "\tGetHandleVerifier [0x00007FF6C1845E42+3538674]\n",
      "\t(No symbol) [0x00007FF6C1464C02]\n",
      "\t(No symbol) [0x00007FF6C1315AEB]\n",
      "\t(No symbol) [0x00007FF6C135BF4E]\n",
      "\t(No symbol) [0x00007FF6C135C0CC]\n",
      "\t(No symbol) [0x00007FF6C13512EC]\n",
      "\t(No symbol) [0x00007FF6C137F0EF]\n",
      "\t(No symbol) [0x00007FF6C135124A]\n",
      "\t(No symbol) [0x00007FF6C137F2C0]\n",
      "\t(No symbol) [0x00007FF6C139BDE3]\n",
      "\t(No symbol) [0x00007FF6C137EE53]\n",
      "\t(No symbol) [0x00007FF6C134F514]\n",
      "\t(No symbol) [0x00007FF6C1350631]\n",
      "\tGetHandleVerifier [0x00007FF6C1876CAD+3738973]\n",
      "\tGetHandleVerifier [0x00007FF6C18CC506+4089270]\n",
      "\tGetHandleVerifier [0x00007FF6C18C4823+4057299]\n",
      "\tGetHandleVerifier [0x00007FF6C1595C49+720121]\n",
      "\t(No symbol) [0x00007FF6C147126F]\n",
      "\t(No symbol) [0x00007FF6C146C304]\n",
      "\t(No symbol) [0x00007FF6C146C432]\n",
      "\t(No symbol) [0x00007FF6C145BD04]\n",
      "\tBaseThreadInitThunk [0x00007FF867867344+20]\n",
      "\tRtlUserThreadStart [0x00007FF8697026B1+33]\n",
      "\n",
      "Message: no such element: Unable to locate element: {\"method\":\"css selector\",\"selector\":\"div[class=\"iva-item-descriptionStep-C0ty1\"]\"}\n",
      "  (Session info: chrome=121.0.6167.140); For documentation on this error, please visit: https://www.selenium.dev/documentation/webdriver/troubleshooting/errors#no-such-element-exception\n",
      "Stacktrace:\n",
      "\tGetHandleVerifier [0x00007FF6C1845E42+3538674]\n",
      "\t(No symbol) [0x00007FF6C1464C02]\n",
      "\t(No symbol) [0x00007FF6C1315AEB]\n",
      "\t(No symbol) [0x00007FF6C135BF4E]\n",
      "\t(No symbol) [0x00007FF6C135C0CC]\n",
      "\t(No symbol) [0x00007FF6C13512EC]\n",
      "\t(No symbol) [0x00007FF6C137F0EF]\n",
      "\t(No symbol) [0x00007FF6C135124A]\n",
      "\t(No symbol) [0x00007FF6C137F2C0]\n",
      "\t(No symbol) [0x00007FF6C139BDE3]\n",
      "\t(No symbol) [0x00007FF6C137EE53]\n",
      "\t(No symbol) [0x00007FF6C134F514]\n",
      "\t(No symbol) [0x00007FF6C1350631]\n",
      "\tGetHandleVerifier [0x00007FF6C1876CAD+3738973]\n",
      "\tGetHandleVerifier [0x00007FF6C18CC506+4089270]\n",
      "\tGetHandleVerifier [0x00007FF6C18C4823+4057299]\n",
      "\tGetHandleVerifier [0x00007FF6C1595C49+720121]\n",
      "\t(No symbol) [0x00007FF6C147126F]\n",
      "\t(No symbol) [0x00007FF6C146C304]\n",
      "\t(No symbol) [0x00007FF6C146C432]\n",
      "\t(No symbol) [0x00007FF6C145BD04]\n",
      "\tBaseThreadInitThunk [0x00007FF867867344+20]\n",
      "\tRtlUserThreadStart [0x00007FF8697026B1+33]\n",
      "\n",
      "len_df: 1726\n"
     ]
    },
    {
     "name": "stderr",
     "output_type": "stream",
     "text": [
      " 86%|████████▌ | 43/50 [13:52<04:00, 34.33s/it]"
     ]
    },
    {
     "name": "stdout",
     "output_type": "stream",
     "text": [
      "len_df: 1768\n"
     ]
    },
    {
     "name": "stderr",
     "output_type": "stream",
     "text": [
      " 88%|████████▊ | 44/50 [14:11<02:58, 29.71s/it]"
     ]
    },
    {
     "name": "stdout",
     "output_type": "stream",
     "text": [
      "Message: no such element: Unable to locate element: {\"method\":\"css selector\",\"selector\":\"div[class=\"iva-item-descriptionStep-C0ty1\"]\"}\n",
      "  (Session info: chrome=121.0.6167.140); For documentation on this error, please visit: https://www.selenium.dev/documentation/webdriver/troubleshooting/errors#no-such-element-exception\n",
      "Stacktrace:\n",
      "\tGetHandleVerifier [0x00007FF6C1845E42+3538674]\n",
      "\t(No symbol) [0x00007FF6C1464C02]\n",
      "\t(No symbol) [0x00007FF6C1315AEB]\n",
      "\t(No symbol) [0x00007FF6C135BF4E]\n",
      "\t(No symbol) [0x00007FF6C135C0CC]\n",
      "\t(No symbol) [0x00007FF6C13512EC]\n",
      "\t(No symbol) [0x00007FF6C137F0EF]\n",
      "\t(No symbol) [0x00007FF6C135124A]\n",
      "\t(No symbol) [0x00007FF6C137F2C0]\n",
      "\t(No symbol) [0x00007FF6C139BDE3]\n",
      "\t(No symbol) [0x00007FF6C137EE53]\n",
      "\t(No symbol) [0x00007FF6C134F514]\n",
      "\t(No symbol) [0x00007FF6C1350631]\n",
      "\tGetHandleVerifier [0x00007FF6C1876CAD+3738973]\n",
      "\tGetHandleVerifier [0x00007FF6C18CC506+4089270]\n",
      "\tGetHandleVerifier [0x00007FF6C18C4823+4057299]\n",
      "\tGetHandleVerifier [0x00007FF6C1595C49+720121]\n",
      "\t(No symbol) [0x00007FF6C147126F]\n",
      "\t(No symbol) [0x00007FF6C146C304]\n",
      "\t(No symbol) [0x00007FF6C146C432]\n",
      "\t(No symbol) [0x00007FF6C145BD04]\n",
      "\tBaseThreadInitThunk [0x00007FF867867344+20]\n",
      "\tRtlUserThreadStart [0x00007FF8697026B1+33]\n",
      "\n",
      "Message: no such element: Unable to locate element: {\"method\":\"css selector\",\"selector\":\"div[class=\"iva-item-descriptionStep-C0ty1\"]\"}\n",
      "  (Session info: chrome=121.0.6167.140); For documentation on this error, please visit: https://www.selenium.dev/documentation/webdriver/troubleshooting/errors#no-such-element-exception\n",
      "Stacktrace:\n",
      "\tGetHandleVerifier [0x00007FF6C1845E42+3538674]\n",
      "\t(No symbol) [0x00007FF6C1464C02]\n",
      "\t(No symbol) [0x00007FF6C1315AEB]\n",
      "\t(No symbol) [0x00007FF6C135BF4E]\n",
      "\t(No symbol) [0x00007FF6C135C0CC]\n",
      "\t(No symbol) [0x00007FF6C13512EC]\n",
      "\t(No symbol) [0x00007FF6C137F0EF]\n",
      "\t(No symbol) [0x00007FF6C135124A]\n",
      "\t(No symbol) [0x00007FF6C137F2C0]\n",
      "\t(No symbol) [0x00007FF6C139BDE3]\n",
      "\t(No symbol) [0x00007FF6C137EE53]\n",
      "\t(No symbol) [0x00007FF6C134F514]\n",
      "\t(No symbol) [0x00007FF6C1350631]\n",
      "\tGetHandleVerifier [0x00007FF6C1876CAD+3738973]\n",
      "\tGetHandleVerifier [0x00007FF6C18CC506+4089270]\n",
      "\tGetHandleVerifier [0x00007FF6C18C4823+4057299]\n",
      "\tGetHandleVerifier [0x00007FF6C1595C49+720121]\n",
      "\t(No symbol) [0x00007FF6C147126F]\n",
      "\t(No symbol) [0x00007FF6C146C304]\n",
      "\t(No symbol) [0x00007FF6C146C432]\n",
      "\t(No symbol) [0x00007FF6C145BD04]\n",
      "\tBaseThreadInitThunk [0x00007FF867867344+20]\n",
      "\tRtlUserThreadStart [0x00007FF8697026B1+33]\n",
      "\n",
      "Message: no such element: Unable to locate element: {\"method\":\"css selector\",\"selector\":\"div[class=\"iva-item-descriptionStep-C0ty1\"]\"}\n",
      "  (Session info: chrome=121.0.6167.140); For documentation on this error, please visit: https://www.selenium.dev/documentation/webdriver/troubleshooting/errors#no-such-element-exception\n",
      "Stacktrace:\n",
      "\tGetHandleVerifier [0x00007FF6C1845E42+3538674]\n",
      "\t(No symbol) [0x00007FF6C1464C02]\n",
      "\t(No symbol) [0x00007FF6C1315AEB]\n",
      "\t(No symbol) [0x00007FF6C135BF4E]\n",
      "\t(No symbol) [0x00007FF6C135C0CC]\n",
      "\t(No symbol) [0x00007FF6C13512EC]\n",
      "\t(No symbol) [0x00007FF6C137F0EF]\n",
      "\t(No symbol) [0x00007FF6C135124A]\n",
      "\t(No symbol) [0x00007FF6C137F2C0]\n",
      "\t(No symbol) [0x00007FF6C139BDE3]\n",
      "\t(No symbol) [0x00007FF6C137EE53]\n",
      "\t(No symbol) [0x00007FF6C134F514]\n",
      "\t(No symbol) [0x00007FF6C1350631]\n",
      "\tGetHandleVerifier [0x00007FF6C1876CAD+3738973]\n",
      "\tGetHandleVerifier [0x00007FF6C18CC506+4089270]\n",
      "\tGetHandleVerifier [0x00007FF6C18C4823+4057299]\n",
      "\tGetHandleVerifier [0x00007FF6C1595C49+720121]\n",
      "\t(No symbol) [0x00007FF6C147126F]\n",
      "\t(No symbol) [0x00007FF6C146C304]\n",
      "\t(No symbol) [0x00007FF6C146C432]\n",
      "\t(No symbol) [0x00007FF6C145BD04]\n",
      "\tBaseThreadInitThunk [0x00007FF867867344+20]\n",
      "\tRtlUserThreadStart [0x00007FF8697026B1+33]\n",
      "\n",
      "len_df: 1811\n"
     ]
    },
    {
     "name": "stderr",
     "output_type": "stream",
     "text": [
      " 90%|█████████ | 45/50 [14:58<02:55, 35.14s/it]"
     ]
    },
    {
     "name": "stdout",
     "output_type": "stream",
     "text": [
      "Message: no such element: Unable to locate element: {\"method\":\"css selector\",\"selector\":\"div[class=\"iva-item-descriptionStep-C0ty1\"]\"}\n",
      "  (Session info: chrome=121.0.6167.140); For documentation on this error, please visit: https://www.selenium.dev/documentation/webdriver/troubleshooting/errors#no-such-element-exception\n",
      "Stacktrace:\n",
      "\tGetHandleVerifier [0x00007FF6C1845E42+3538674]\n",
      "\t(No symbol) [0x00007FF6C1464C02]\n",
      "\t(No symbol) [0x00007FF6C1315AEB]\n",
      "\t(No symbol) [0x00007FF6C135BF4E]\n",
      "\t(No symbol) [0x00007FF6C135C0CC]\n",
      "\t(No symbol) [0x00007FF6C13512EC]\n",
      "\t(No symbol) [0x00007FF6C137F0EF]\n",
      "\t(No symbol) [0x00007FF6C135124A]\n",
      "\t(No symbol) [0x00007FF6C137F2C0]\n",
      "\t(No symbol) [0x00007FF6C139BDE3]\n",
      "\t(No symbol) [0x00007FF6C137EE53]\n",
      "\t(No symbol) [0x00007FF6C134F514]\n",
      "\t(No symbol) [0x00007FF6C1350631]\n",
      "\tGetHandleVerifier [0x00007FF6C1876CAD+3738973]\n",
      "\tGetHandleVerifier [0x00007FF6C18CC506+4089270]\n",
      "\tGetHandleVerifier [0x00007FF6C18C4823+4057299]\n",
      "\tGetHandleVerifier [0x00007FF6C1595C49+720121]\n",
      "\t(No symbol) [0x00007FF6C147126F]\n",
      "\t(No symbol) [0x00007FF6C146C304]\n",
      "\t(No symbol) [0x00007FF6C146C432]\n",
      "\t(No symbol) [0x00007FF6C145BD04]\n",
      "\tBaseThreadInitThunk [0x00007FF867867344+20]\n",
      "\tRtlUserThreadStart [0x00007FF8697026B1+33]\n",
      "\n",
      "Message: no such element: Unable to locate element: {\"method\":\"css selector\",\"selector\":\"div[class=\"iva-item-descriptionStep-C0ty1\"]\"}\n",
      "  (Session info: chrome=121.0.6167.140); For documentation on this error, please visit: https://www.selenium.dev/documentation/webdriver/troubleshooting/errors#no-such-element-exception\n",
      "Stacktrace:\n",
      "\tGetHandleVerifier [0x00007FF6C1845E42+3538674]\n",
      "\t(No symbol) [0x00007FF6C1464C02]\n",
      "\t(No symbol) [0x00007FF6C1315AEB]\n",
      "\t(No symbol) [0x00007FF6C135BF4E]\n",
      "\t(No symbol) [0x00007FF6C135C0CC]\n",
      "\t(No symbol) [0x00007FF6C13512EC]\n",
      "\t(No symbol) [0x00007FF6C137F0EF]\n",
      "\t(No symbol) [0x00007FF6C135124A]\n",
      "\t(No symbol) [0x00007FF6C137F2C0]\n",
      "\t(No symbol) [0x00007FF6C139BDE3]\n",
      "\t(No symbol) [0x00007FF6C137EE53]\n",
      "\t(No symbol) [0x00007FF6C134F514]\n",
      "\t(No symbol) [0x00007FF6C1350631]\n",
      "\tGetHandleVerifier [0x00007FF6C1876CAD+3738973]\n",
      "\tGetHandleVerifier [0x00007FF6C18CC506+4089270]\n",
      "\tGetHandleVerifier [0x00007FF6C18C4823+4057299]\n",
      "\tGetHandleVerifier [0x00007FF6C1595C49+720121]\n",
      "\t(No symbol) [0x00007FF6C147126F]\n",
      "\t(No symbol) [0x00007FF6C146C304]\n",
      "\t(No symbol) [0x00007FF6C146C432]\n",
      "\t(No symbol) [0x00007FF6C145BD04]\n",
      "\tBaseThreadInitThunk [0x00007FF867867344+20]\n",
      "\tRtlUserThreadStart [0x00007FF8697026B1+33]\n",
      "\n",
      "len_df: 1857\n"
     ]
    },
    {
     "name": "stderr",
     "output_type": "stream",
     "text": [
      " 92%|█████████▏| 46/50 [15:38<02:25, 36.40s/it]"
     ]
    },
    {
     "name": "stdout",
     "output_type": "stream",
     "text": [
      "Message: no such element: Unable to locate element: {\"method\":\"css selector\",\"selector\":\"div[class=\"iva-item-descriptionStep-C0ty1\"]\"}\n",
      "  (Session info: chrome=121.0.6167.140); For documentation on this error, please visit: https://www.selenium.dev/documentation/webdriver/troubleshooting/errors#no-such-element-exception\n",
      "Stacktrace:\n",
      "\tGetHandleVerifier [0x00007FF6C1845E42+3538674]\n",
      "\t(No symbol) [0x00007FF6C1464C02]\n",
      "\t(No symbol) [0x00007FF6C1315AEB]\n",
      "\t(No symbol) [0x00007FF6C135BF4E]\n",
      "\t(No symbol) [0x00007FF6C135C0CC]\n",
      "\t(No symbol) [0x00007FF6C13512EC]\n",
      "\t(No symbol) [0x00007FF6C137F0EF]\n",
      "\t(No symbol) [0x00007FF6C135124A]\n",
      "\t(No symbol) [0x00007FF6C137F2C0]\n",
      "\t(No symbol) [0x00007FF6C139BDE3]\n",
      "\t(No symbol) [0x00007FF6C137EE53]\n",
      "\t(No symbol) [0x00007FF6C134F514]\n",
      "\t(No symbol) [0x00007FF6C1350631]\n",
      "\tGetHandleVerifier [0x00007FF6C1876CAD+3738973]\n",
      "\tGetHandleVerifier [0x00007FF6C18CC506+4089270]\n",
      "\tGetHandleVerifier [0x00007FF6C18C4823+4057299]\n",
      "\tGetHandleVerifier [0x00007FF6C1595C49+720121]\n",
      "\t(No symbol) [0x00007FF6C147126F]\n",
      "\t(No symbol) [0x00007FF6C146C304]\n",
      "\t(No symbol) [0x00007FF6C146C432]\n",
      "\t(No symbol) [0x00007FF6C145BD04]\n",
      "\tBaseThreadInitThunk [0x00007FF867867344+20]\n",
      "\tRtlUserThreadStart [0x00007FF8697026B1+33]\n",
      "\n",
      "Message: no such element: Unable to locate element: {\"method\":\"css selector\",\"selector\":\"div[class=\"iva-item-descriptionStep-C0ty1\"]\"}\n",
      "  (Session info: chrome=121.0.6167.140); For documentation on this error, please visit: https://www.selenium.dev/documentation/webdriver/troubleshooting/errors#no-such-element-exception\n",
      "Stacktrace:\n",
      "\tGetHandleVerifier [0x00007FF6C1845E42+3538674]\n",
      "\t(No symbol) [0x00007FF6C1464C02]\n",
      "\t(No symbol) [0x00007FF6C1315AEB]\n",
      "\t(No symbol) [0x00007FF6C135BF4E]\n",
      "\t(No symbol) [0x00007FF6C135C0CC]\n",
      "\t(No symbol) [0x00007FF6C13512EC]\n",
      "\t(No symbol) [0x00007FF6C137F0EF]\n",
      "\t(No symbol) [0x00007FF6C135124A]\n",
      "\t(No symbol) [0x00007FF6C137F2C0]\n",
      "\t(No symbol) [0x00007FF6C139BDE3]\n",
      "\t(No symbol) [0x00007FF6C137EE53]\n",
      "\t(No symbol) [0x00007FF6C134F514]\n",
      "\t(No symbol) [0x00007FF6C1350631]\n",
      "\tGetHandleVerifier [0x00007FF6C1876CAD+3738973]\n",
      "\tGetHandleVerifier [0x00007FF6C18CC506+4089270]\n",
      "\tGetHandleVerifier [0x00007FF6C18C4823+4057299]\n",
      "\tGetHandleVerifier [0x00007FF6C1595C49+720121]\n",
      "\t(No symbol) [0x00007FF6C147126F]\n",
      "\t(No symbol) [0x00007FF6C146C304]\n",
      "\t(No symbol) [0x00007FF6C146C432]\n",
      "\t(No symbol) [0x00007FF6C145BD04]\n",
      "\tBaseThreadInitThunk [0x00007FF867867344+20]\n",
      "\tRtlUserThreadStart [0x00007FF8697026B1+33]\n",
      "\n",
      "Message: no such element: Unable to locate element: {\"method\":\"css selector\",\"selector\":\"div[class=\"iva-item-descriptionStep-C0ty1\"]\"}\n",
      "  (Session info: chrome=121.0.6167.140); For documentation on this error, please visit: https://www.selenium.dev/documentation/webdriver/troubleshooting/errors#no-such-element-exception\n",
      "Stacktrace:\n",
      "\tGetHandleVerifier [0x00007FF6C1845E42+3538674]\n",
      "\t(No symbol) [0x00007FF6C1464C02]\n",
      "\t(No symbol) [0x00007FF6C1315AEB]\n",
      "\t(No symbol) [0x00007FF6C135BF4E]\n",
      "\t(No symbol) [0x00007FF6C135C0CC]\n",
      "\t(No symbol) [0x00007FF6C13512EC]\n",
      "\t(No symbol) [0x00007FF6C137F0EF]\n",
      "\t(No symbol) [0x00007FF6C135124A]\n",
      "\t(No symbol) [0x00007FF6C137F2C0]\n",
      "\t(No symbol) [0x00007FF6C139BDE3]\n",
      "\t(No symbol) [0x00007FF6C137EE53]\n",
      "\t(No symbol) [0x00007FF6C134F514]\n",
      "\t(No symbol) [0x00007FF6C1350631]\n",
      "\tGetHandleVerifier [0x00007FF6C1876CAD+3738973]\n",
      "\tGetHandleVerifier [0x00007FF6C18CC506+4089270]\n",
      "\tGetHandleVerifier [0x00007FF6C18C4823+4057299]\n",
      "\tGetHandleVerifier [0x00007FF6C1595C49+720121]\n",
      "\t(No symbol) [0x00007FF6C147126F]\n",
      "\t(No symbol) [0x00007FF6C146C304]\n",
      "\t(No symbol) [0x00007FF6C146C432]\n",
      "\t(No symbol) [0x00007FF6C145BD04]\n",
      "\tBaseThreadInitThunk [0x00007FF867867344+20]\n",
      "\tRtlUserThreadStart [0x00007FF8697026B1+33]\n",
      "\n",
      "len_df: 1903\n"
     ]
    },
    {
     "name": "stderr",
     "output_type": "stream",
     "text": [
      " 94%|█████████▍| 47/50 [16:27<02:01, 40.37s/it]"
     ]
    },
    {
     "name": "stdout",
     "output_type": "stream",
     "text": [
      "Message: no such element: Unable to locate element: {\"method\":\"css selector\",\"selector\":\"div[class=\"iva-item-descriptionStep-C0ty1\"]\"}\n",
      "  (Session info: chrome=121.0.6167.140); For documentation on this error, please visit: https://www.selenium.dev/documentation/webdriver/troubleshooting/errors#no-such-element-exception\n",
      "Stacktrace:\n",
      "\tGetHandleVerifier [0x00007FF6C1845E42+3538674]\n",
      "\t(No symbol) [0x00007FF6C1464C02]\n",
      "\t(No symbol) [0x00007FF6C1315AEB]\n",
      "\t(No symbol) [0x00007FF6C135BF4E]\n",
      "\t(No symbol) [0x00007FF6C135C0CC]\n",
      "\t(No symbol) [0x00007FF6C13512EC]\n",
      "\t(No symbol) [0x00007FF6C137F0EF]\n",
      "\t(No symbol) [0x00007FF6C135124A]\n",
      "\t(No symbol) [0x00007FF6C137F2C0]\n",
      "\t(No symbol) [0x00007FF6C139BDE3]\n",
      "\t(No symbol) [0x00007FF6C137EE53]\n",
      "\t(No symbol) [0x00007FF6C134F514]\n",
      "\t(No symbol) [0x00007FF6C1350631]\n",
      "\tGetHandleVerifier [0x00007FF6C1876CAD+3738973]\n",
      "\tGetHandleVerifier [0x00007FF6C18CC506+4089270]\n",
      "\tGetHandleVerifier [0x00007FF6C18C4823+4057299]\n",
      "\tGetHandleVerifier [0x00007FF6C1595C49+720121]\n",
      "\t(No symbol) [0x00007FF6C147126F]\n",
      "\t(No symbol) [0x00007FF6C146C304]\n",
      "\t(No symbol) [0x00007FF6C146C432]\n",
      "\t(No symbol) [0x00007FF6C145BD04]\n",
      "\tBaseThreadInitThunk [0x00007FF867867344+20]\n",
      "\tRtlUserThreadStart [0x00007FF8697026B1+33]\n",
      "\n",
      "Message: no such element: Unable to locate element: {\"method\":\"css selector\",\"selector\":\"div[class=\"iva-item-descriptionStep-C0ty1\"]\"}\n",
      "  (Session info: chrome=121.0.6167.140); For documentation on this error, please visit: https://www.selenium.dev/documentation/webdriver/troubleshooting/errors#no-such-element-exception\n",
      "Stacktrace:\n",
      "\tGetHandleVerifier [0x00007FF6C1845E42+3538674]\n",
      "\t(No symbol) [0x00007FF6C1464C02]\n",
      "\t(No symbol) [0x00007FF6C1315AEB]\n",
      "\t(No symbol) [0x00007FF6C135BF4E]\n",
      "\t(No symbol) [0x00007FF6C135C0CC]\n",
      "\t(No symbol) [0x00007FF6C13512EC]\n",
      "\t(No symbol) [0x00007FF6C137F0EF]\n",
      "\t(No symbol) [0x00007FF6C135124A]\n",
      "\t(No symbol) [0x00007FF6C137F2C0]\n",
      "\t(No symbol) [0x00007FF6C139BDE3]\n",
      "\t(No symbol) [0x00007FF6C137EE53]\n",
      "\t(No symbol) [0x00007FF6C134F514]\n",
      "\t(No symbol) [0x00007FF6C1350631]\n",
      "\tGetHandleVerifier [0x00007FF6C1876CAD+3738973]\n",
      "\tGetHandleVerifier [0x00007FF6C18CC506+4089270]\n",
      "\tGetHandleVerifier [0x00007FF6C18C4823+4057299]\n",
      "\tGetHandleVerifier [0x00007FF6C1595C49+720121]\n",
      "\t(No symbol) [0x00007FF6C147126F]\n",
      "\t(No symbol) [0x00007FF6C146C304]\n",
      "\t(No symbol) [0x00007FF6C146C432]\n",
      "\t(No symbol) [0x00007FF6C145BD04]\n",
      "\tBaseThreadInitThunk [0x00007FF867867344+20]\n",
      "\tRtlUserThreadStart [0x00007FF8697026B1+33]\n",
      "\n",
      "Message: no such element: Unable to locate element: {\"method\":\"css selector\",\"selector\":\"div[class=\"iva-item-descriptionStep-C0ty1\"]\"}\n",
      "  (Session info: chrome=121.0.6167.140); For documentation on this error, please visit: https://www.selenium.dev/documentation/webdriver/troubleshooting/errors#no-such-element-exception\n",
      "Stacktrace:\n",
      "\tGetHandleVerifier [0x00007FF6C1845E42+3538674]\n",
      "\t(No symbol) [0x00007FF6C1464C02]\n",
      "\t(No symbol) [0x00007FF6C1315AEB]\n",
      "\t(No symbol) [0x00007FF6C135BF4E]\n",
      "\t(No symbol) [0x00007FF6C135C0CC]\n",
      "\t(No symbol) [0x00007FF6C13512EC]\n",
      "\t(No symbol) [0x00007FF6C137F0EF]\n",
      "\t(No symbol) [0x00007FF6C135124A]\n",
      "\t(No symbol) [0x00007FF6C137F2C0]\n",
      "\t(No symbol) [0x00007FF6C139BDE3]\n",
      "\t(No symbol) [0x00007FF6C137EE53]\n",
      "\t(No symbol) [0x00007FF6C134F514]\n",
      "\t(No symbol) [0x00007FF6C1350631]\n",
      "\tGetHandleVerifier [0x00007FF6C1876CAD+3738973]\n",
      "\tGetHandleVerifier [0x00007FF6C18CC506+4089270]\n",
      "\tGetHandleVerifier [0x00007FF6C18C4823+4057299]\n",
      "\tGetHandleVerifier [0x00007FF6C1595C49+720121]\n",
      "\t(No symbol) [0x00007FF6C147126F]\n",
      "\t(No symbol) [0x00007FF6C146C304]\n",
      "\t(No symbol) [0x00007FF6C146C432]\n",
      "\t(No symbol) [0x00007FF6C145BD04]\n",
      "\tBaseThreadInitThunk [0x00007FF867867344+20]\n",
      "\tRtlUserThreadStart [0x00007FF8697026B1+33]\n",
      "\n",
      "Message: no such element: Unable to locate element: {\"method\":\"css selector\",\"selector\":\"div[class=\"iva-item-descriptionStep-C0ty1\"]\"}\n",
      "  (Session info: chrome=121.0.6167.140); For documentation on this error, please visit: https://www.selenium.dev/documentation/webdriver/troubleshooting/errors#no-such-element-exception\n",
      "Stacktrace:\n",
      "\tGetHandleVerifier [0x00007FF6C1845E42+3538674]\n",
      "\t(No symbol) [0x00007FF6C1464C02]\n",
      "\t(No symbol) [0x00007FF6C1315AEB]\n",
      "\t(No symbol) [0x00007FF6C135BF4E]\n",
      "\t(No symbol) [0x00007FF6C135C0CC]\n",
      "\t(No symbol) [0x00007FF6C13512EC]\n",
      "\t(No symbol) [0x00007FF6C137F0EF]\n",
      "\t(No symbol) [0x00007FF6C135124A]\n",
      "\t(No symbol) [0x00007FF6C137F2C0]\n",
      "\t(No symbol) [0x00007FF6C139BDE3]\n",
      "\t(No symbol) [0x00007FF6C137EE53]\n",
      "\t(No symbol) [0x00007FF6C134F514]\n",
      "\t(No symbol) [0x00007FF6C1350631]\n",
      "\tGetHandleVerifier [0x00007FF6C1876CAD+3738973]\n",
      "\tGetHandleVerifier [0x00007FF6C18CC506+4089270]\n",
      "\tGetHandleVerifier [0x00007FF6C18C4823+4057299]\n",
      "\tGetHandleVerifier [0x00007FF6C1595C49+720121]\n",
      "\t(No symbol) [0x00007FF6C147126F]\n",
      "\t(No symbol) [0x00007FF6C146C304]\n",
      "\t(No symbol) [0x00007FF6C146C432]\n",
      "\t(No symbol) [0x00007FF6C145BD04]\n",
      "\tBaseThreadInitThunk [0x00007FF867867344+20]\n",
      "\tRtlUserThreadStart [0x00007FF8697026B1+33]\n",
      "\n",
      "Message: no such element: Unable to locate element: {\"method\":\"css selector\",\"selector\":\"div[class=\"iva-item-descriptionStep-C0ty1\"]\"}\n",
      "  (Session info: chrome=121.0.6167.140); For documentation on this error, please visit: https://www.selenium.dev/documentation/webdriver/troubleshooting/errors#no-such-element-exception\n",
      "Stacktrace:\n",
      "\tGetHandleVerifier [0x00007FF6C1845E42+3538674]\n",
      "\t(No symbol) [0x00007FF6C1464C02]\n",
      "\t(No symbol) [0x00007FF6C1315AEB]\n",
      "\t(No symbol) [0x00007FF6C135BF4E]\n",
      "\t(No symbol) [0x00007FF6C135C0CC]\n",
      "\t(No symbol) [0x00007FF6C13512EC]\n",
      "\t(No symbol) [0x00007FF6C137F0EF]\n",
      "\t(No symbol) [0x00007FF6C135124A]\n",
      "\t(No symbol) [0x00007FF6C137F2C0]\n",
      "\t(No symbol) [0x00007FF6C139BDE3]\n",
      "\t(No symbol) [0x00007FF6C137EE53]\n",
      "\t(No symbol) [0x00007FF6C134F514]\n",
      "\t(No symbol) [0x00007FF6C1350631]\n",
      "\tGetHandleVerifier [0x00007FF6C1876CAD+3738973]\n",
      "\tGetHandleVerifier [0x00007FF6C18CC506+4089270]\n",
      "\tGetHandleVerifier [0x00007FF6C18C4823+4057299]\n",
      "\tGetHandleVerifier [0x00007FF6C1595C49+720121]\n",
      "\t(No symbol) [0x00007FF6C147126F]\n",
      "\t(No symbol) [0x00007FF6C146C304]\n",
      "\t(No symbol) [0x00007FF6C146C432]\n",
      "\t(No symbol) [0x00007FF6C145BD04]\n",
      "\tBaseThreadInitThunk [0x00007FF867867344+20]\n",
      "\tRtlUserThreadStart [0x00007FF8697026B1+33]\n",
      "\n",
      "Message: no such element: Unable to locate element: {\"method\":\"css selector\",\"selector\":\"div[class=\"iva-item-descriptionStep-C0ty1\"]\"}\n",
      "  (Session info: chrome=121.0.6167.140); For documentation on this error, please visit: https://www.selenium.dev/documentation/webdriver/troubleshooting/errors#no-such-element-exception\n",
      "Stacktrace:\n",
      "\tGetHandleVerifier [0x00007FF6C1845E42+3538674]\n",
      "\t(No symbol) [0x00007FF6C1464C02]\n",
      "\t(No symbol) [0x00007FF6C1315AEB]\n",
      "\t(No symbol) [0x00007FF6C135BF4E]\n",
      "\t(No symbol) [0x00007FF6C135C0CC]\n",
      "\t(No symbol) [0x00007FF6C13512EC]\n",
      "\t(No symbol) [0x00007FF6C137F0EF]\n",
      "\t(No symbol) [0x00007FF6C135124A]\n",
      "\t(No symbol) [0x00007FF6C137F2C0]\n",
      "\t(No symbol) [0x00007FF6C139BDE3]\n",
      "\t(No symbol) [0x00007FF6C137EE53]\n",
      "\t(No symbol) [0x00007FF6C134F514]\n",
      "\t(No symbol) [0x00007FF6C1350631]\n",
      "\tGetHandleVerifier [0x00007FF6C1876CAD+3738973]\n",
      "\tGetHandleVerifier [0x00007FF6C18CC506+4089270]\n",
      "\tGetHandleVerifier [0x00007FF6C18C4823+4057299]\n",
      "\tGetHandleVerifier [0x00007FF6C1595C49+720121]\n",
      "\t(No symbol) [0x00007FF6C147126F]\n",
      "\t(No symbol) [0x00007FF6C146C304]\n",
      "\t(No symbol) [0x00007FF6C146C432]\n",
      "\t(No symbol) [0x00007FF6C145BD04]\n",
      "\tBaseThreadInitThunk [0x00007FF867867344+20]\n",
      "\tRtlUserThreadStart [0x00007FF8697026B1+33]\n",
      "\n",
      "Message: no such element: Unable to locate element: {\"method\":\"css selector\",\"selector\":\"div[class=\"iva-item-descriptionStep-C0ty1\"]\"}\n",
      "  (Session info: chrome=121.0.6167.140); For documentation on this error, please visit: https://www.selenium.dev/documentation/webdriver/troubleshooting/errors#no-such-element-exception\n",
      "Stacktrace:\n",
      "\tGetHandleVerifier [0x00007FF6C1845E42+3538674]\n",
      "\t(No symbol) [0x00007FF6C1464C02]\n",
      "\t(No symbol) [0x00007FF6C1315AEB]\n",
      "\t(No symbol) [0x00007FF6C135BF4E]\n",
      "\t(No symbol) [0x00007FF6C135C0CC]\n",
      "\t(No symbol) [0x00007FF6C13512EC]\n",
      "\t(No symbol) [0x00007FF6C137F0EF]\n",
      "\t(No symbol) [0x00007FF6C135124A]\n",
      "\t(No symbol) [0x00007FF6C137F2C0]\n",
      "\t(No symbol) [0x00007FF6C139BDE3]\n",
      "\t(No symbol) [0x00007FF6C137EE53]\n",
      "\t(No symbol) [0x00007FF6C134F514]\n",
      "\t(No symbol) [0x00007FF6C1350631]\n",
      "\tGetHandleVerifier [0x00007FF6C1876CAD+3738973]\n",
      "\tGetHandleVerifier [0x00007FF6C18CC506+4089270]\n",
      "\tGetHandleVerifier [0x00007FF6C18C4823+4057299]\n",
      "\tGetHandleVerifier [0x00007FF6C1595C49+720121]\n",
      "\t(No symbol) [0x00007FF6C147126F]\n",
      "\t(No symbol) [0x00007FF6C146C304]\n",
      "\t(No symbol) [0x00007FF6C146C432]\n",
      "\t(No symbol) [0x00007FF6C145BD04]\n",
      "\tBaseThreadInitThunk [0x00007FF867867344+20]\n",
      "\tRtlUserThreadStart [0x00007FF8697026B1+33]\n",
      "\n",
      "Message: no such element: Unable to locate element: {\"method\":\"css selector\",\"selector\":\"div[class=\"iva-item-descriptionStep-C0ty1\"]\"}\n",
      "  (Session info: chrome=121.0.6167.140); For documentation on this error, please visit: https://www.selenium.dev/documentation/webdriver/troubleshooting/errors#no-such-element-exception\n",
      "Stacktrace:\n",
      "\tGetHandleVerifier [0x00007FF6C1845E42+3538674]\n",
      "\t(No symbol) [0x00007FF6C1464C02]\n",
      "\t(No symbol) [0x00007FF6C1315AEB]\n",
      "\t(No symbol) [0x00007FF6C135BF4E]\n",
      "\t(No symbol) [0x00007FF6C135C0CC]\n",
      "\t(No symbol) [0x00007FF6C13512EC]\n",
      "\t(No symbol) [0x00007FF6C137F0EF]\n",
      "\t(No symbol) [0x00007FF6C135124A]\n",
      "\t(No symbol) [0x00007FF6C137F2C0]\n",
      "\t(No symbol) [0x00007FF6C139BDE3]\n",
      "\t(No symbol) [0x00007FF6C137EE53]\n",
      "\t(No symbol) [0x00007FF6C134F514]\n",
      "\t(No symbol) [0x00007FF6C1350631]\n",
      "\tGetHandleVerifier [0x00007FF6C1876CAD+3738973]\n",
      "\tGetHandleVerifier [0x00007FF6C18CC506+4089270]\n",
      "\tGetHandleVerifier [0x00007FF6C18C4823+4057299]\n",
      "\tGetHandleVerifier [0x00007FF6C1595C49+720121]\n",
      "\t(No symbol) [0x00007FF6C147126F]\n",
      "\t(No symbol) [0x00007FF6C146C304]\n",
      "\t(No symbol) [0x00007FF6C146C432]\n",
      "\t(No symbol) [0x00007FF6C145BD04]\n",
      "\tBaseThreadInitThunk [0x00007FF867867344+20]\n",
      "\tRtlUserThreadStart [0x00007FF8697026B1+33]\n",
      "\n",
      "Message: no such element: Unable to locate element: {\"method\":\"css selector\",\"selector\":\"div[class=\"iva-item-descriptionStep-C0ty1\"]\"}\n",
      "  (Session info: chrome=121.0.6167.140); For documentation on this error, please visit: https://www.selenium.dev/documentation/webdriver/troubleshooting/errors#no-such-element-exception\n",
      "Stacktrace:\n",
      "\tGetHandleVerifier [0x00007FF6C1845E42+3538674]\n",
      "\t(No symbol) [0x00007FF6C1464C02]\n",
      "\t(No symbol) [0x00007FF6C1315AEB]\n",
      "\t(No symbol) [0x00007FF6C135BF4E]\n",
      "\t(No symbol) [0x00007FF6C135C0CC]\n",
      "\t(No symbol) [0x00007FF6C13512EC]\n",
      "\t(No symbol) [0x00007FF6C137F0EF]\n",
      "\t(No symbol) [0x00007FF6C135124A]\n",
      "\t(No symbol) [0x00007FF6C137F2C0]\n",
      "\t(No symbol) [0x00007FF6C139BDE3]\n",
      "\t(No symbol) [0x00007FF6C137EE53]\n",
      "\t(No symbol) [0x00007FF6C134F514]\n",
      "\t(No symbol) [0x00007FF6C1350631]\n",
      "\tGetHandleVerifier [0x00007FF6C1876CAD+3738973]\n",
      "\tGetHandleVerifier [0x00007FF6C18CC506+4089270]\n",
      "\tGetHandleVerifier [0x00007FF6C18C4823+4057299]\n",
      "\tGetHandleVerifier [0x00007FF6C1595C49+720121]\n",
      "\t(No symbol) [0x00007FF6C147126F]\n",
      "\t(No symbol) [0x00007FF6C146C304]\n",
      "\t(No symbol) [0x00007FF6C146C432]\n",
      "\t(No symbol) [0x00007FF6C145BD04]\n",
      "\tBaseThreadInitThunk [0x00007FF867867344+20]\n",
      "\tRtlUserThreadStart [0x00007FF8697026B1+33]\n",
      "\n",
      "Message: no such element: Unable to locate element: {\"method\":\"css selector\",\"selector\":\"div[class=\"iva-item-descriptionStep-C0ty1\"]\"}\n",
      "  (Session info: chrome=121.0.6167.140); For documentation on this error, please visit: https://www.selenium.dev/documentation/webdriver/troubleshooting/errors#no-such-element-exception\n",
      "Stacktrace:\n",
      "\tGetHandleVerifier [0x00007FF6C1845E42+3538674]\n",
      "\t(No symbol) [0x00007FF6C1464C02]\n",
      "\t(No symbol) [0x00007FF6C1315AEB]\n",
      "\t(No symbol) [0x00007FF6C135BF4E]\n",
      "\t(No symbol) [0x00007FF6C135C0CC]\n",
      "\t(No symbol) [0x00007FF6C13512EC]\n",
      "\t(No symbol) [0x00007FF6C137F0EF]\n",
      "\t(No symbol) [0x00007FF6C135124A]\n",
      "\t(No symbol) [0x00007FF6C137F2C0]\n",
      "\t(No symbol) [0x00007FF6C139BDE3]\n",
      "\t(No symbol) [0x00007FF6C137EE53]\n",
      "\t(No symbol) [0x00007FF6C134F514]\n",
      "\t(No symbol) [0x00007FF6C1350631]\n",
      "\tGetHandleVerifier [0x00007FF6C1876CAD+3738973]\n",
      "\tGetHandleVerifier [0x00007FF6C18CC506+4089270]\n",
      "\tGetHandleVerifier [0x00007FF6C18C4823+4057299]\n",
      "\tGetHandleVerifier [0x00007FF6C1595C49+720121]\n",
      "\t(No symbol) [0x00007FF6C147126F]\n",
      "\t(No symbol) [0x00007FF6C146C304]\n",
      "\t(No symbol) [0x00007FF6C146C432]\n",
      "\t(No symbol) [0x00007FF6C145BD04]\n",
      "\tBaseThreadInitThunk [0x00007FF867867344+20]\n",
      "\tRtlUserThreadStart [0x00007FF8697026B1+33]\n",
      "\n",
      "len_df: 1942\n"
     ]
    },
    {
     "name": "stderr",
     "output_type": "stream",
     "text": [
      " 96%|█████████▌| 48/50 [18:31<02:10, 65.48s/it]"
     ]
    },
    {
     "name": "stdout",
     "output_type": "stream",
     "text": [
      "Message: no such element: Unable to locate element: {\"method\":\"css selector\",\"selector\":\"div[class=\"iva-item-descriptionStep-C0ty1\"]\"}\n",
      "  (Session info: chrome=121.0.6167.140); For documentation on this error, please visit: https://www.selenium.dev/documentation/webdriver/troubleshooting/errors#no-such-element-exception\n",
      "Stacktrace:\n",
      "\tGetHandleVerifier [0x00007FF6C1845E42+3538674]\n",
      "\t(No symbol) [0x00007FF6C1464C02]\n",
      "\t(No symbol) [0x00007FF6C1315AEB]\n",
      "\t(No symbol) [0x00007FF6C135BF4E]\n",
      "\t(No symbol) [0x00007FF6C135C0CC]\n",
      "\t(No symbol) [0x00007FF6C13512EC]\n",
      "\t(No symbol) [0x00007FF6C137F0EF]\n",
      "\t(No symbol) [0x00007FF6C135124A]\n",
      "\t(No symbol) [0x00007FF6C137F2C0]\n",
      "\t(No symbol) [0x00007FF6C139BDE3]\n",
      "\t(No symbol) [0x00007FF6C137EE53]\n",
      "\t(No symbol) [0x00007FF6C134F514]\n",
      "\t(No symbol) [0x00007FF6C1350631]\n",
      "\tGetHandleVerifier [0x00007FF6C1876CAD+3738973]\n",
      "\tGetHandleVerifier [0x00007FF6C18CC506+4089270]\n",
      "\tGetHandleVerifier [0x00007FF6C18C4823+4057299]\n",
      "\tGetHandleVerifier [0x00007FF6C1595C49+720121]\n",
      "\t(No symbol) [0x00007FF6C147126F]\n",
      "\t(No symbol) [0x00007FF6C146C304]\n",
      "\t(No symbol) [0x00007FF6C146C432]\n",
      "\t(No symbol) [0x00007FF6C145BD04]\n",
      "\tBaseThreadInitThunk [0x00007FF867867344+20]\n",
      "\tRtlUserThreadStart [0x00007FF8697026B1+33]\n",
      "\n",
      "Message: no such element: Unable to locate element: {\"method\":\"css selector\",\"selector\":\"div[class=\"iva-item-descriptionStep-C0ty1\"]\"}\n",
      "  (Session info: chrome=121.0.6167.140); For documentation on this error, please visit: https://www.selenium.dev/documentation/webdriver/troubleshooting/errors#no-such-element-exception\n",
      "Stacktrace:\n",
      "\tGetHandleVerifier [0x00007FF6C1845E42+3538674]\n",
      "\t(No symbol) [0x00007FF6C1464C02]\n",
      "\t(No symbol) [0x00007FF6C1315AEB]\n",
      "\t(No symbol) [0x00007FF6C135BF4E]\n",
      "\t(No symbol) [0x00007FF6C135C0CC]\n",
      "\t(No symbol) [0x00007FF6C13512EC]\n",
      "\t(No symbol) [0x00007FF6C137F0EF]\n",
      "\t(No symbol) [0x00007FF6C135124A]\n",
      "\t(No symbol) [0x00007FF6C137F2C0]\n",
      "\t(No symbol) [0x00007FF6C139BDE3]\n",
      "\t(No symbol) [0x00007FF6C137EE53]\n",
      "\t(No symbol) [0x00007FF6C134F514]\n",
      "\t(No symbol) [0x00007FF6C1350631]\n",
      "\tGetHandleVerifier [0x00007FF6C1876CAD+3738973]\n",
      "\tGetHandleVerifier [0x00007FF6C18CC506+4089270]\n",
      "\tGetHandleVerifier [0x00007FF6C18C4823+4057299]\n",
      "\tGetHandleVerifier [0x00007FF6C1595C49+720121]\n",
      "\t(No symbol) [0x00007FF6C147126F]\n",
      "\t(No symbol) [0x00007FF6C146C304]\n",
      "\t(No symbol) [0x00007FF6C146C432]\n",
      "\t(No symbol) [0x00007FF6C145BD04]\n",
      "\tBaseThreadInitThunk [0x00007FF867867344+20]\n",
      "\tRtlUserThreadStart [0x00007FF8697026B1+33]\n",
      "\n",
      "len_df: 1985\n"
     ]
    },
    {
     "name": "stderr",
     "output_type": "stream",
     "text": [
      " 98%|█████████▊| 49/50 [19:15<00:58, 58.77s/it]"
     ]
    },
    {
     "name": "stdout",
     "output_type": "stream",
     "text": [
      "Message: no such element: Unable to locate element: {\"method\":\"css selector\",\"selector\":\"div[class=\"iva-item-descriptionStep-C0ty1\"]\"}\n",
      "  (Session info: chrome=121.0.6167.140); For documentation on this error, please visit: https://www.selenium.dev/documentation/webdriver/troubleshooting/errors#no-such-element-exception\n",
      "Stacktrace:\n",
      "\tGetHandleVerifier [0x00007FF6C1845E42+3538674]\n",
      "\t(No symbol) [0x00007FF6C1464C02]\n",
      "\t(No symbol) [0x00007FF6C1315AEB]\n",
      "\t(No symbol) [0x00007FF6C135BF4E]\n",
      "\t(No symbol) [0x00007FF6C135C0CC]\n",
      "\t(No symbol) [0x00007FF6C13512EC]\n",
      "\t(No symbol) [0x00007FF6C137F0EF]\n",
      "\t(No symbol) [0x00007FF6C135124A]\n",
      "\t(No symbol) [0x00007FF6C137F2C0]\n",
      "\t(No symbol) [0x00007FF6C139BDE3]\n",
      "\t(No symbol) [0x00007FF6C137EE53]\n",
      "\t(No symbol) [0x00007FF6C134F514]\n",
      "\t(No symbol) [0x00007FF6C1350631]\n",
      "\tGetHandleVerifier [0x00007FF6C1876CAD+3738973]\n",
      "\tGetHandleVerifier [0x00007FF6C18CC506+4089270]\n",
      "\tGetHandleVerifier [0x00007FF6C18C4823+4057299]\n",
      "\tGetHandleVerifier [0x00007FF6C1595C49+720121]\n",
      "\t(No symbol) [0x00007FF6C147126F]\n",
      "\t(No symbol) [0x00007FF6C146C304]\n",
      "\t(No symbol) [0x00007FF6C146C432]\n",
      "\t(No symbol) [0x00007FF6C145BD04]\n",
      "\tBaseThreadInitThunk [0x00007FF867867344+20]\n",
      "\tRtlUserThreadStart [0x00007FF8697026B1+33]\n",
      "\n",
      "Message: no such element: Unable to locate element: {\"method\":\"css selector\",\"selector\":\"div[class=\"iva-item-descriptionStep-C0ty1\"]\"}\n",
      "  (Session info: chrome=121.0.6167.140); For documentation on this error, please visit: https://www.selenium.dev/documentation/webdriver/troubleshooting/errors#no-such-element-exception\n",
      "Stacktrace:\n",
      "\tGetHandleVerifier [0x00007FF6C1845E42+3538674]\n",
      "\t(No symbol) [0x00007FF6C1464C02]\n",
      "\t(No symbol) [0x00007FF6C1315AEB]\n",
      "\t(No symbol) [0x00007FF6C135BF4E]\n",
      "\t(No symbol) [0x00007FF6C135C0CC]\n",
      "\t(No symbol) [0x00007FF6C13512EC]\n",
      "\t(No symbol) [0x00007FF6C137F0EF]\n",
      "\t(No symbol) [0x00007FF6C135124A]\n",
      "\t(No symbol) [0x00007FF6C137F2C0]\n",
      "\t(No symbol) [0x00007FF6C139BDE3]\n",
      "\t(No symbol) [0x00007FF6C137EE53]\n",
      "\t(No symbol) [0x00007FF6C134F514]\n",
      "\t(No symbol) [0x00007FF6C1350631]\n",
      "\tGetHandleVerifier [0x00007FF6C1876CAD+3738973]\n",
      "\tGetHandleVerifier [0x00007FF6C18CC506+4089270]\n",
      "\tGetHandleVerifier [0x00007FF6C18C4823+4057299]\n",
      "\tGetHandleVerifier [0x00007FF6C1595C49+720121]\n",
      "\t(No symbol) [0x00007FF6C147126F]\n",
      "\t(No symbol) [0x00007FF6C146C304]\n",
      "\t(No symbol) [0x00007FF6C146C432]\n",
      "\t(No symbol) [0x00007FF6C145BD04]\n",
      "\tBaseThreadInitThunk [0x00007FF867867344+20]\n",
      "\tRtlUserThreadStart [0x00007FF8697026B1+33]\n",
      "\n",
      "Message: no such element: Unable to locate element: {\"method\":\"css selector\",\"selector\":\"div[class=\"iva-item-descriptionStep-C0ty1\"]\"}\n",
      "  (Session info: chrome=121.0.6167.140); For documentation on this error, please visit: https://www.selenium.dev/documentation/webdriver/troubleshooting/errors#no-such-element-exception\n",
      "Stacktrace:\n",
      "\tGetHandleVerifier [0x00007FF6C1845E42+3538674]\n",
      "\t(No symbol) [0x00007FF6C1464C02]\n",
      "\t(No symbol) [0x00007FF6C1315AEB]\n",
      "\t(No symbol) [0x00007FF6C135BF4E]\n",
      "\t(No symbol) [0x00007FF6C135C0CC]\n",
      "\t(No symbol) [0x00007FF6C13512EC]\n",
      "\t(No symbol) [0x00007FF6C137F0EF]\n",
      "\t(No symbol) [0x00007FF6C135124A]\n",
      "\t(No symbol) [0x00007FF6C137F2C0]\n",
      "\t(No symbol) [0x00007FF6C139BDE3]\n",
      "\t(No symbol) [0x00007FF6C137EE53]\n",
      "\t(No symbol) [0x00007FF6C134F514]\n",
      "\t(No symbol) [0x00007FF6C1350631]\n",
      "\tGetHandleVerifier [0x00007FF6C1876CAD+3738973]\n",
      "\tGetHandleVerifier [0x00007FF6C18CC506+4089270]\n",
      "\tGetHandleVerifier [0x00007FF6C18C4823+4057299]\n",
      "\tGetHandleVerifier [0x00007FF6C1595C49+720121]\n",
      "\t(No symbol) [0x00007FF6C147126F]\n",
      "\t(No symbol) [0x00007FF6C146C304]\n",
      "\t(No symbol) [0x00007FF6C146C432]\n",
      "\t(No symbol) [0x00007FF6C145BD04]\n",
      "\tBaseThreadInitThunk [0x00007FF867867344+20]\n",
      "\tRtlUserThreadStart [0x00007FF8697026B1+33]\n",
      "\n",
      "len_df: 2031\n"
     ]
    },
    {
     "name": "stderr",
     "output_type": "stream",
     "text": [
      "100%|██████████| 50/50 [20:11<00:00, 24.22s/it]\n"
     ]
    }
   ],
   "source": [
    "i = [22, 23, 24, 25, 26, 27]\n",
    "for k in i:\n",
    "    print(k)\n",
    "    a = avito_parser(k)"
   ]
  },
  {
   "cell_type": "code",
   "execution_count": 45,
   "metadata": {},
   "outputs": [],
   "source": [
    "df = pd.DataFrame(columns=['name', 'price', 'params', 'desc', 'region'])\n",
    "a = 'audi'\n",
    "df.to_csv(f'./datasets/data_{a}.csv')"
   ]
  },
  {
   "cell_type": "code",
   "execution_count": null,
   "metadata": {},
   "outputs": [],
   "source": []
  },
  {
   "cell_type": "code",
   "execution_count": null,
   "metadata": {},
   "outputs": [],
   "source": []
  },
  {
   "cell_type": "code",
   "execution_count": 27,
   "metadata": {},
   "outputs": [
    {
     "data": {
      "text/plain": [
       "'2023'"
      ]
     },
     "execution_count": 27,
     "metadata": {},
     "output_type": "execute_result"
    }
   ],
   "source": [
    "\n",
    "year = re.search(r'Год выпуска: (\\d+)\\n', a).group(1)\n",
    "year"
   ]
  },
  {
   "cell_type": "code",
   "execution_count": 35,
   "metadata": {},
   "outputs": [
    {
     "data": {
      "text/plain": [
       "'5'"
      ]
     },
     "execution_count": 35,
     "metadata": {},
     "output_type": "execute_result"
    }
   ],
   "source": [
    "mileage = re.search(r'Пробег: (\\d+ ?\\d*) км\\n', a).group(1).replace(' ', '')\n",
    "mileage"
   ]
  },
  {
   "cell_type": "code",
   "execution_count": 32,
   "metadata": {},
   "outputs": [
    {
     "data": {
      "text/plain": [
       "'1'"
      ]
     },
     "execution_count": 32,
     "metadata": {},
     "output_type": "execute_result"
    }
   ],
   "source": [
    "users = re.search(r'Владельцев по ПТС: (\\d+)\\n', a).group(1)\n",
    "users"
   ]
  },
  {
   "cell_type": "code",
   "execution_count": 37,
   "metadata": {},
   "outputs": [
    {
     "data": {
      "text/plain": [
       "'Не битый'"
      ]
     },
     "execution_count": 37,
     "metadata": {},
     "output_type": "execute_result"
    }
   ],
   "source": [
    "condition = re.search(r'Состояние: ([\\w ]+)\\n', a, re.IGNORECASE).group(1)\n",
    "condition"
   ]
  },
  {
   "cell_type": "code",
   "execution_count": 38,
   "metadata": {},
   "outputs": [
    {
     "data": {
      "text/plain": [
       "'Бензин'"
      ]
     },
     "execution_count": 38,
     "metadata": {},
     "output_type": "execute_result"
    }
   ],
   "source": [
    "engine_type = re.search(r'Тип двигателя: (\\w+)\\n', a, re.IGNORECASE).group(1)\n",
    "engine_type"
   ]
  },
  {
   "cell_type": "code",
   "execution_count": 40,
   "metadata": {},
   "outputs": [
    {
     "data": {
      "text/plain": [
       "'3'"
      ]
     },
     "execution_count": 40,
     "metadata": {},
     "output_type": "execute_result"
    }
   ],
   "source": [
    "engine_capacity = re.search(r'Объём двигателя: ([\\d.]+) л\\n', a, re.IGNORECASE).group(1)\n",
    "engine_capacity"
   ]
  },
  {
   "cell_type": "code",
   "execution_count": 41,
   "metadata": {},
   "outputs": [
    {
     "data": {
      "text/plain": [
       "'Автомат'"
      ]
     },
     "execution_count": 41,
     "metadata": {},
     "output_type": "execute_result"
    }
   ],
   "source": [
    "transmission = re.search(r'Коробка передач: (\\w+)\\n', a, re.IGNORECASE).group(1)\n",
    "transmission"
   ]
  },
  {
   "cell_type": "code",
   "execution_count": 43,
   "metadata": {},
   "outputs": [
    {
     "data": {
      "text/plain": [
       "'M Sport'"
      ]
     },
     "execution_count": 43,
     "metadata": {},
     "output_type": "execute_result"
    }
   ],
   "source": [
    "equipment = re.search(r'Комплектация: (.+)\\n', a, re.IGNORECASE).group(1)\n",
    "equipment"
   ]
  },
  {
   "cell_type": "code",
   "execution_count": 44,
   "metadata": {},
   "outputs": [
    {
     "data": {
      "text/plain": [
       "'Внедорожник 5-дверный'"
      ]
     },
     "execution_count": 44,
     "metadata": {},
     "output_type": "execute_result"
    }
   ],
   "source": [
    "body_type = re.search(r'Тип кузова: (.+)\\n', a, re.IGNORECASE).group(1)\n",
    "body_type"
   ]
  },
  {
   "cell_type": "code",
   "execution_count": 46,
   "metadata": {},
   "outputs": [
    {
     "data": {
      "text/plain": [
       "'Левый'"
      ]
     },
     "execution_count": 46,
     "metadata": {},
     "output_type": "execute_result"
    }
   ],
   "source": [
    "wheel = re.search(r'Руль: (\\w+)\\n', a, re.IGNORECASE).group(1)\n",
    "wheel"
   ]
  },
  {
   "cell_type": "code",
   "execution_count": 47,
   "metadata": {},
   "outputs": [
    {
     "data": {
      "text/plain": [
       "'40i 3.0 xDrive Steptronic (381 л.с.)'"
      ]
     },
     "execution_count": 47,
     "metadata": {},
     "output_type": "execute_result"
    }
   ],
   "source": [
    "modification = re.search(r'Модификация: (.+)\\n', a, re.IGNORECASE).group(1)\n",
    "modification"
   ]
  },
  {
   "cell_type": "code",
   "execution_count": 18,
   "metadata": {},
   "outputs": [
    {
     "ename": "KeyboardInterrupt",
     "evalue": "",
     "output_type": "error",
     "traceback": [
      "\u001b[1;31m---------------------------------------------------------------------------\u001b[0m",
      "\u001b[1;31mKeyboardInterrupt\u001b[0m                         Traceback (most recent call last)",
      "Cell \u001b[1;32mIn[18], line 1\u001b[0m\n\u001b[1;32m----> 1\u001b[0m params_elems \u001b[38;5;241m=\u001b[39m \u001b[43ma\u001b[49m\u001b[38;5;241;43m.\u001b[39;49m\u001b[43mfind_element\u001b[49m\u001b[43m(\u001b[49m\n\u001b[0;32m      2\u001b[0m \u001b[43m    \u001b[49m\u001b[43mby\u001b[49m\u001b[38;5;241;43m=\u001b[39;49m\u001b[43mBy\u001b[49m\u001b[38;5;241;43m.\u001b[39;49m\u001b[43mCSS_SELECTOR\u001b[49m\u001b[43m,\u001b[49m\u001b[43m \u001b[49m\u001b[43mvalue\u001b[49m\u001b[38;5;241;43m=\u001b[39;49m\u001b[38;5;124;43m'\u001b[39;49m\u001b[38;5;124;43mdiv[data-marker=\u001b[39;49m\u001b[38;5;124;43m\"\u001b[39;49m\u001b[38;5;124;43mitem-view/item-params\u001b[39;49m\u001b[38;5;124;43m\"\u001b[39;49m\u001b[38;5;124;43m]\u001b[39;49m\u001b[38;5;124;43m'\u001b[39;49m\n\u001b[0;32m      3\u001b[0m \u001b[43m)\u001b[49m\u001b[38;5;241m.\u001b[39mtext\n\u001b[0;32m      5\u001b[0m params_elems\n",
      "File \u001b[1;32me:\\Conda\\envs\\carprice\\lib\\site-packages\\selenium\\webdriver\\remote\\webelement.py:417\u001b[0m, in \u001b[0;36mWebElement.find_element\u001b[1;34m(self, by, value)\u001b[0m\n\u001b[0;32m    414\u001b[0m     by \u001b[38;5;241m=\u001b[39m By\u001b[38;5;241m.\u001b[39mCSS_SELECTOR\n\u001b[0;32m    415\u001b[0m     value \u001b[38;5;241m=\u001b[39m \u001b[38;5;124mf\u001b[39m\u001b[38;5;124m'\u001b[39m\u001b[38;5;124m[name=\u001b[39m\u001b[38;5;124m\"\u001b[39m\u001b[38;5;132;01m{\u001b[39;00mvalue\u001b[38;5;132;01m}\u001b[39;00m\u001b[38;5;124m\"\u001b[39m\u001b[38;5;124m]\u001b[39m\u001b[38;5;124m'\u001b[39m\n\u001b[1;32m--> 417\u001b[0m \u001b[38;5;28;01mreturn\u001b[39;00m \u001b[38;5;28;43mself\u001b[39;49m\u001b[38;5;241;43m.\u001b[39;49m\u001b[43m_execute\u001b[49m\u001b[43m(\u001b[49m\u001b[43mCommand\u001b[49m\u001b[38;5;241;43m.\u001b[39;49m\u001b[43mFIND_CHILD_ELEMENT\u001b[49m\u001b[43m,\u001b[49m\u001b[43m \u001b[49m\u001b[43m{\u001b[49m\u001b[38;5;124;43m\"\u001b[39;49m\u001b[38;5;124;43musing\u001b[39;49m\u001b[38;5;124;43m\"\u001b[39;49m\u001b[43m:\u001b[49m\u001b[43m \u001b[49m\u001b[43mby\u001b[49m\u001b[43m,\u001b[49m\u001b[43m \u001b[49m\u001b[38;5;124;43m\"\u001b[39;49m\u001b[38;5;124;43mvalue\u001b[39;49m\u001b[38;5;124;43m\"\u001b[39;49m\u001b[43m:\u001b[49m\u001b[43m \u001b[49m\u001b[43mvalue\u001b[49m\u001b[43m}\u001b[49m\u001b[43m)\u001b[49m[\u001b[38;5;124m\"\u001b[39m\u001b[38;5;124mvalue\u001b[39m\u001b[38;5;124m\"\u001b[39m]\n",
      "File \u001b[1;32me:\\Conda\\envs\\carprice\\lib\\site-packages\\selenium\\webdriver\\remote\\webelement.py:395\u001b[0m, in \u001b[0;36mWebElement._execute\u001b[1;34m(self, command, params)\u001b[0m\n\u001b[0;32m    393\u001b[0m     params \u001b[38;5;241m=\u001b[39m {}\n\u001b[0;32m    394\u001b[0m params[\u001b[38;5;124m\"\u001b[39m\u001b[38;5;124mid\u001b[39m\u001b[38;5;124m\"\u001b[39m] \u001b[38;5;241m=\u001b[39m \u001b[38;5;28mself\u001b[39m\u001b[38;5;241m.\u001b[39m_id\n\u001b[1;32m--> 395\u001b[0m \u001b[38;5;28;01mreturn\u001b[39;00m \u001b[38;5;28;43mself\u001b[39;49m\u001b[38;5;241;43m.\u001b[39;49m\u001b[43m_parent\u001b[49m\u001b[38;5;241;43m.\u001b[39;49m\u001b[43mexecute\u001b[49m\u001b[43m(\u001b[49m\u001b[43mcommand\u001b[49m\u001b[43m,\u001b[49m\u001b[43m \u001b[49m\u001b[43mparams\u001b[49m\u001b[43m)\u001b[49m\n",
      "File \u001b[1;32me:\\Conda\\envs\\carprice\\lib\\site-packages\\selenium\\webdriver\\remote\\webdriver.py:345\u001b[0m, in \u001b[0;36mWebDriver.execute\u001b[1;34m(self, driver_command, params)\u001b[0m\n\u001b[0;32m    342\u001b[0m     \u001b[38;5;28;01melif\u001b[39;00m \u001b[38;5;124m\"\u001b[39m\u001b[38;5;124msessionId\u001b[39m\u001b[38;5;124m\"\u001b[39m \u001b[38;5;129;01mnot\u001b[39;00m \u001b[38;5;129;01min\u001b[39;00m params:\n\u001b[0;32m    343\u001b[0m         params[\u001b[38;5;124m\"\u001b[39m\u001b[38;5;124msessionId\u001b[39m\u001b[38;5;124m\"\u001b[39m] \u001b[38;5;241m=\u001b[39m \u001b[38;5;28mself\u001b[39m\u001b[38;5;241m.\u001b[39msession_id\n\u001b[1;32m--> 345\u001b[0m response \u001b[38;5;241m=\u001b[39m \u001b[38;5;28;43mself\u001b[39;49m\u001b[38;5;241;43m.\u001b[39;49m\u001b[43mcommand_executor\u001b[49m\u001b[38;5;241;43m.\u001b[39;49m\u001b[43mexecute\u001b[49m\u001b[43m(\u001b[49m\u001b[43mdriver_command\u001b[49m\u001b[43m,\u001b[49m\u001b[43m \u001b[49m\u001b[43mparams\u001b[49m\u001b[43m)\u001b[49m\n\u001b[0;32m    346\u001b[0m \u001b[38;5;28;01mif\u001b[39;00m response:\n\u001b[0;32m    347\u001b[0m     \u001b[38;5;28mself\u001b[39m\u001b[38;5;241m.\u001b[39merror_handler\u001b[38;5;241m.\u001b[39mcheck_response(response)\n",
      "File \u001b[1;32me:\\Conda\\envs\\carprice\\lib\\site-packages\\selenium\\webdriver\\remote\\remote_connection.py:302\u001b[0m, in \u001b[0;36mRemoteConnection.execute\u001b[1;34m(self, command, params)\u001b[0m\n\u001b[0;32m    300\u001b[0m trimmed \u001b[38;5;241m=\u001b[39m \u001b[38;5;28mself\u001b[39m\u001b[38;5;241m.\u001b[39m_trim_large_entries(params)\n\u001b[0;32m    301\u001b[0m LOGGER\u001b[38;5;241m.\u001b[39mdebug(\u001b[38;5;124m\"\u001b[39m\u001b[38;5;132;01m%s\u001b[39;00m\u001b[38;5;124m \u001b[39m\u001b[38;5;132;01m%s\u001b[39;00m\u001b[38;5;124m \u001b[39m\u001b[38;5;132;01m%s\u001b[39;00m\u001b[38;5;124m\"\u001b[39m, command_info[\u001b[38;5;241m0\u001b[39m], url, \u001b[38;5;28mstr\u001b[39m(trimmed))\n\u001b[1;32m--> 302\u001b[0m \u001b[38;5;28;01mreturn\u001b[39;00m \u001b[38;5;28;43mself\u001b[39;49m\u001b[38;5;241;43m.\u001b[39;49m\u001b[43m_request\u001b[49m\u001b[43m(\u001b[49m\u001b[43mcommand_info\u001b[49m\u001b[43m[\u001b[49m\u001b[38;5;241;43m0\u001b[39;49m\u001b[43m]\u001b[49m\u001b[43m,\u001b[49m\u001b[43m \u001b[49m\u001b[43murl\u001b[49m\u001b[43m,\u001b[49m\u001b[43m \u001b[49m\u001b[43mbody\u001b[49m\u001b[38;5;241;43m=\u001b[39;49m\u001b[43mdata\u001b[49m\u001b[43m)\u001b[49m\n",
      "File \u001b[1;32me:\\Conda\\envs\\carprice\\lib\\site-packages\\selenium\\webdriver\\remote\\remote_connection.py:322\u001b[0m, in \u001b[0;36mRemoteConnection._request\u001b[1;34m(self, method, url, body)\u001b[0m\n\u001b[0;32m    319\u001b[0m     body \u001b[38;5;241m=\u001b[39m \u001b[38;5;28;01mNone\u001b[39;00m\n\u001b[0;32m    321\u001b[0m \u001b[38;5;28;01mif\u001b[39;00m \u001b[38;5;28mself\u001b[39m\u001b[38;5;241m.\u001b[39mkeep_alive:\n\u001b[1;32m--> 322\u001b[0m     response \u001b[38;5;241m=\u001b[39m \u001b[38;5;28;43mself\u001b[39;49m\u001b[38;5;241;43m.\u001b[39;49m\u001b[43m_conn\u001b[49m\u001b[38;5;241;43m.\u001b[39;49m\u001b[43mrequest\u001b[49m\u001b[43m(\u001b[49m\u001b[43mmethod\u001b[49m\u001b[43m,\u001b[49m\u001b[43m \u001b[49m\u001b[43murl\u001b[49m\u001b[43m,\u001b[49m\u001b[43m \u001b[49m\u001b[43mbody\u001b[49m\u001b[38;5;241;43m=\u001b[39;49m\u001b[43mbody\u001b[49m\u001b[43m,\u001b[49m\u001b[43m \u001b[49m\u001b[43mheaders\u001b[49m\u001b[38;5;241;43m=\u001b[39;49m\u001b[43mheaders\u001b[49m\u001b[43m)\u001b[49m\n\u001b[0;32m    323\u001b[0m     statuscode \u001b[38;5;241m=\u001b[39m response\u001b[38;5;241m.\u001b[39mstatus\n\u001b[0;32m    324\u001b[0m \u001b[38;5;28;01melse\u001b[39;00m:\n",
      "File \u001b[1;32me:\\Conda\\envs\\carprice\\lib\\site-packages\\urllib3\\_request_methods.py:144\u001b[0m, in \u001b[0;36mRequestMethods.request\u001b[1;34m(self, method, url, body, fields, headers, json, **urlopen_kw)\u001b[0m\n\u001b[0;32m    136\u001b[0m     \u001b[38;5;28;01mreturn\u001b[39;00m \u001b[38;5;28mself\u001b[39m\u001b[38;5;241m.\u001b[39mrequest_encode_url(\n\u001b[0;32m    137\u001b[0m         method,\n\u001b[0;32m    138\u001b[0m         url,\n\u001b[1;32m   (...)\u001b[0m\n\u001b[0;32m    141\u001b[0m         \u001b[38;5;241m*\u001b[39m\u001b[38;5;241m*\u001b[39murlopen_kw,\n\u001b[0;32m    142\u001b[0m     )\n\u001b[0;32m    143\u001b[0m \u001b[38;5;28;01melse\u001b[39;00m:\n\u001b[1;32m--> 144\u001b[0m     \u001b[38;5;28;01mreturn\u001b[39;00m \u001b[38;5;28mself\u001b[39m\u001b[38;5;241m.\u001b[39mrequest_encode_body(\n\u001b[0;32m    145\u001b[0m         method, url, fields\u001b[38;5;241m=\u001b[39mfields, headers\u001b[38;5;241m=\u001b[39mheaders, \u001b[38;5;241m*\u001b[39m\u001b[38;5;241m*\u001b[39murlopen_kw\n\u001b[0;32m    146\u001b[0m     )\n",
      "File \u001b[1;32me:\\Conda\\envs\\carprice\\lib\\site-packages\\urllib3\\_request_methods.py:279\u001b[0m, in \u001b[0;36mRequestMethods.request_encode_body\u001b[1;34m(self, method, url, fields, headers, encode_multipart, multipart_boundary, **urlopen_kw)\u001b[0m\n\u001b[0;32m    275\u001b[0m     extra_kw[\u001b[38;5;124m\"\u001b[39m\u001b[38;5;124mheaders\u001b[39m\u001b[38;5;124m\"\u001b[39m]\u001b[38;5;241m.\u001b[39msetdefault(\u001b[38;5;124m\"\u001b[39m\u001b[38;5;124mContent-Type\u001b[39m\u001b[38;5;124m\"\u001b[39m, content_type)\n\u001b[0;32m    277\u001b[0m extra_kw\u001b[38;5;241m.\u001b[39mupdate(urlopen_kw)\n\u001b[1;32m--> 279\u001b[0m \u001b[38;5;28;01mreturn\u001b[39;00m \u001b[38;5;28mself\u001b[39m\u001b[38;5;241m.\u001b[39murlopen(method, url, \u001b[38;5;241m*\u001b[39m\u001b[38;5;241m*\u001b[39mextra_kw)\n",
      "File \u001b[1;32me:\\Conda\\envs\\carprice\\lib\\site-packages\\urllib3\\poolmanager.py:444\u001b[0m, in \u001b[0;36mPoolManager.urlopen\u001b[1;34m(self, method, url, redirect, **kw)\u001b[0m\n\u001b[0;32m    442\u001b[0m     response \u001b[38;5;241m=\u001b[39m conn\u001b[38;5;241m.\u001b[39murlopen(method, url, \u001b[38;5;241m*\u001b[39m\u001b[38;5;241m*\u001b[39mkw)\n\u001b[0;32m    443\u001b[0m \u001b[38;5;28;01melse\u001b[39;00m:\n\u001b[1;32m--> 444\u001b[0m     response \u001b[38;5;241m=\u001b[39m conn\u001b[38;5;241m.\u001b[39murlopen(method, u\u001b[38;5;241m.\u001b[39mrequest_uri, \u001b[38;5;241m*\u001b[39m\u001b[38;5;241m*\u001b[39mkw)\n\u001b[0;32m    446\u001b[0m redirect_location \u001b[38;5;241m=\u001b[39m redirect \u001b[38;5;129;01mand\u001b[39;00m response\u001b[38;5;241m.\u001b[39mget_redirect_location()\n\u001b[0;32m    447\u001b[0m \u001b[38;5;28;01mif\u001b[39;00m \u001b[38;5;129;01mnot\u001b[39;00m redirect_location:\n",
      "File \u001b[1;32me:\\Conda\\envs\\carprice\\lib\\site-packages\\urllib3\\connectionpool.py:793\u001b[0m, in \u001b[0;36mHTTPConnectionPool.urlopen\u001b[1;34m(self, method, url, body, headers, retries, redirect, assert_same_host, timeout, pool_timeout, release_conn, chunked, body_pos, preload_content, decode_content, **response_kw)\u001b[0m\n\u001b[0;32m    790\u001b[0m response_conn \u001b[38;5;241m=\u001b[39m conn \u001b[38;5;28;01mif\u001b[39;00m \u001b[38;5;129;01mnot\u001b[39;00m release_conn \u001b[38;5;28;01melse\u001b[39;00m \u001b[38;5;28;01mNone\u001b[39;00m\n\u001b[0;32m    792\u001b[0m \u001b[38;5;66;03m# Make the request on the HTTPConnection object\u001b[39;00m\n\u001b[1;32m--> 793\u001b[0m response \u001b[38;5;241m=\u001b[39m \u001b[38;5;28mself\u001b[39m\u001b[38;5;241m.\u001b[39m_make_request(\n\u001b[0;32m    794\u001b[0m     conn,\n\u001b[0;32m    795\u001b[0m     method,\n\u001b[0;32m    796\u001b[0m     url,\n\u001b[0;32m    797\u001b[0m     timeout\u001b[38;5;241m=\u001b[39mtimeout_obj,\n\u001b[0;32m    798\u001b[0m     body\u001b[38;5;241m=\u001b[39mbody,\n\u001b[0;32m    799\u001b[0m     headers\u001b[38;5;241m=\u001b[39mheaders,\n\u001b[0;32m    800\u001b[0m     chunked\u001b[38;5;241m=\u001b[39mchunked,\n\u001b[0;32m    801\u001b[0m     retries\u001b[38;5;241m=\u001b[39mretries,\n\u001b[0;32m    802\u001b[0m     response_conn\u001b[38;5;241m=\u001b[39mresponse_conn,\n\u001b[0;32m    803\u001b[0m     preload_content\u001b[38;5;241m=\u001b[39mpreload_content,\n\u001b[0;32m    804\u001b[0m     decode_content\u001b[38;5;241m=\u001b[39mdecode_content,\n\u001b[0;32m    805\u001b[0m     \u001b[38;5;241m*\u001b[39m\u001b[38;5;241m*\u001b[39mresponse_kw,\n\u001b[0;32m    806\u001b[0m )\n\u001b[0;32m    808\u001b[0m \u001b[38;5;66;03m# Everything went great!\u001b[39;00m\n\u001b[0;32m    809\u001b[0m clean_exit \u001b[38;5;241m=\u001b[39m \u001b[38;5;28;01mTrue\u001b[39;00m\n",
      "File \u001b[1;32me:\\Conda\\envs\\carprice\\lib\\site-packages\\urllib3\\connectionpool.py:537\u001b[0m, in \u001b[0;36mHTTPConnectionPool._make_request\u001b[1;34m(self, conn, method, url, body, headers, retries, timeout, chunked, response_conn, preload_content, decode_content, enforce_content_length)\u001b[0m\n\u001b[0;32m    535\u001b[0m \u001b[38;5;66;03m# Receive the response from the server\u001b[39;00m\n\u001b[0;32m    536\u001b[0m \u001b[38;5;28;01mtry\u001b[39;00m:\n\u001b[1;32m--> 537\u001b[0m     response \u001b[38;5;241m=\u001b[39m \u001b[43mconn\u001b[49m\u001b[38;5;241;43m.\u001b[39;49m\u001b[43mgetresponse\u001b[49m\u001b[43m(\u001b[49m\u001b[43m)\u001b[49m\n\u001b[0;32m    538\u001b[0m \u001b[38;5;28;01mexcept\u001b[39;00m (BaseSSLError, \u001b[38;5;167;01mOSError\u001b[39;00m) \u001b[38;5;28;01mas\u001b[39;00m e:\n\u001b[0;32m    539\u001b[0m     \u001b[38;5;28mself\u001b[39m\u001b[38;5;241m.\u001b[39m_raise_timeout(err\u001b[38;5;241m=\u001b[39me, url\u001b[38;5;241m=\u001b[39murl, timeout_value\u001b[38;5;241m=\u001b[39mread_timeout)\n",
      "File \u001b[1;32me:\\Conda\\envs\\carprice\\lib\\site-packages\\urllib3\\connection.py:466\u001b[0m, in \u001b[0;36mHTTPConnection.getresponse\u001b[1;34m(self)\u001b[0m\n\u001b[0;32m    463\u001b[0m \u001b[38;5;28;01mfrom\u001b[39;00m \u001b[38;5;21;01m.\u001b[39;00m\u001b[38;5;21;01mresponse\u001b[39;00m \u001b[38;5;28;01mimport\u001b[39;00m HTTPResponse\n\u001b[0;32m    465\u001b[0m \u001b[38;5;66;03m# Get the response from http.client.HTTPConnection\u001b[39;00m\n\u001b[1;32m--> 466\u001b[0m httplib_response \u001b[38;5;241m=\u001b[39m \u001b[38;5;28;43msuper\u001b[39;49m\u001b[43m(\u001b[49m\u001b[43m)\u001b[49m\u001b[38;5;241;43m.\u001b[39;49m\u001b[43mgetresponse\u001b[49m\u001b[43m(\u001b[49m\u001b[43m)\u001b[49m\n\u001b[0;32m    468\u001b[0m \u001b[38;5;28;01mtry\u001b[39;00m:\n\u001b[0;32m    469\u001b[0m     assert_header_parsing(httplib_response\u001b[38;5;241m.\u001b[39mmsg)\n",
      "File \u001b[1;32me:\\Conda\\envs\\carprice\\lib\\http\\client.py:1375\u001b[0m, in \u001b[0;36mHTTPConnection.getresponse\u001b[1;34m(self)\u001b[0m\n\u001b[0;32m   1373\u001b[0m \u001b[38;5;28;01mtry\u001b[39;00m:\n\u001b[0;32m   1374\u001b[0m     \u001b[38;5;28;01mtry\u001b[39;00m:\n\u001b[1;32m-> 1375\u001b[0m         \u001b[43mresponse\u001b[49m\u001b[38;5;241;43m.\u001b[39;49m\u001b[43mbegin\u001b[49m\u001b[43m(\u001b[49m\u001b[43m)\u001b[49m\n\u001b[0;32m   1376\u001b[0m     \u001b[38;5;28;01mexcept\u001b[39;00m \u001b[38;5;167;01mConnectionError\u001b[39;00m:\n\u001b[0;32m   1377\u001b[0m         \u001b[38;5;28mself\u001b[39m\u001b[38;5;241m.\u001b[39mclose()\n",
      "File \u001b[1;32me:\\Conda\\envs\\carprice\\lib\\http\\client.py:318\u001b[0m, in \u001b[0;36mHTTPResponse.begin\u001b[1;34m(self)\u001b[0m\n\u001b[0;32m    316\u001b[0m \u001b[38;5;66;03m# read until we get a non-100 response\u001b[39;00m\n\u001b[0;32m    317\u001b[0m \u001b[38;5;28;01mwhile\u001b[39;00m \u001b[38;5;28;01mTrue\u001b[39;00m:\n\u001b[1;32m--> 318\u001b[0m     version, status, reason \u001b[38;5;241m=\u001b[39m \u001b[38;5;28;43mself\u001b[39;49m\u001b[38;5;241;43m.\u001b[39;49m\u001b[43m_read_status\u001b[49m\u001b[43m(\u001b[49m\u001b[43m)\u001b[49m\n\u001b[0;32m    319\u001b[0m     \u001b[38;5;28;01mif\u001b[39;00m status \u001b[38;5;241m!=\u001b[39m CONTINUE:\n\u001b[0;32m    320\u001b[0m         \u001b[38;5;28;01mbreak\u001b[39;00m\n",
      "File \u001b[1;32me:\\Conda\\envs\\carprice\\lib\\http\\client.py:279\u001b[0m, in \u001b[0;36mHTTPResponse._read_status\u001b[1;34m(self)\u001b[0m\n\u001b[0;32m    278\u001b[0m \u001b[38;5;28;01mdef\u001b[39;00m \u001b[38;5;21m_read_status\u001b[39m(\u001b[38;5;28mself\u001b[39m):\n\u001b[1;32m--> 279\u001b[0m     line \u001b[38;5;241m=\u001b[39m \u001b[38;5;28mstr\u001b[39m(\u001b[38;5;28;43mself\u001b[39;49m\u001b[38;5;241;43m.\u001b[39;49m\u001b[43mfp\u001b[49m\u001b[38;5;241;43m.\u001b[39;49m\u001b[43mreadline\u001b[49m\u001b[43m(\u001b[49m\u001b[43m_MAXLINE\u001b[49m\u001b[43m \u001b[49m\u001b[38;5;241;43m+\u001b[39;49m\u001b[43m \u001b[49m\u001b[38;5;241;43m1\u001b[39;49m\u001b[43m)\u001b[49m, \u001b[38;5;124m\"\u001b[39m\u001b[38;5;124miso-8859-1\u001b[39m\u001b[38;5;124m\"\u001b[39m)\n\u001b[0;32m    280\u001b[0m     \u001b[38;5;28;01mif\u001b[39;00m \u001b[38;5;28mlen\u001b[39m(line) \u001b[38;5;241m>\u001b[39m _MAXLINE:\n\u001b[0;32m    281\u001b[0m         \u001b[38;5;28;01mraise\u001b[39;00m LineTooLong(\u001b[38;5;124m\"\u001b[39m\u001b[38;5;124mstatus line\u001b[39m\u001b[38;5;124m\"\u001b[39m)\n",
      "File \u001b[1;32me:\\Conda\\envs\\carprice\\lib\\socket.py:705\u001b[0m, in \u001b[0;36mSocketIO.readinto\u001b[1;34m(self, b)\u001b[0m\n\u001b[0;32m    703\u001b[0m \u001b[38;5;28;01mwhile\u001b[39;00m \u001b[38;5;28;01mTrue\u001b[39;00m:\n\u001b[0;32m    704\u001b[0m     \u001b[38;5;28;01mtry\u001b[39;00m:\n\u001b[1;32m--> 705\u001b[0m         \u001b[38;5;28;01mreturn\u001b[39;00m \u001b[38;5;28;43mself\u001b[39;49m\u001b[38;5;241;43m.\u001b[39;49m\u001b[43m_sock\u001b[49m\u001b[38;5;241;43m.\u001b[39;49m\u001b[43mrecv_into\u001b[49m\u001b[43m(\u001b[49m\u001b[43mb\u001b[49m\u001b[43m)\u001b[49m\n\u001b[0;32m    706\u001b[0m     \u001b[38;5;28;01mexcept\u001b[39;00m timeout:\n\u001b[0;32m    707\u001b[0m         \u001b[38;5;28mself\u001b[39m\u001b[38;5;241m.\u001b[39m_timeout_occurred \u001b[38;5;241m=\u001b[39m \u001b[38;5;28;01mTrue\u001b[39;00m\n",
      "\u001b[1;31mKeyboardInterrupt\u001b[0m: "
     ]
    }
   ],
   "source": [
    "params_elems = a.find_element(\n",
    "    by=By.CSS_SELECTOR, value='div[data-marker=\"item-view/item-params\"]'\n",
    ").text\n",
    "\n",
    "params_elems\n"
   ]
  },
  {
   "cell_type": "code",
   "execution_count": null,
   "metadata": {},
   "outputs": [],
   "source": []
  }
 ],
 "metadata": {
  "kernelspec": {
   "display_name": "here",
   "language": "python",
   "name": "python3"
  },
  "language_info": {
   "codemirror_mode": {
    "name": "ipython",
    "version": 3
   },
   "file_extension": ".py",
   "mimetype": "text/x-python",
   "name": "python",
   "nbconvert_exporter": "python",
   "pygments_lexer": "ipython3",
   "version": "3.10.13"
  }
 },
 "nbformat": 4,
 "nbformat_minor": 2
}
