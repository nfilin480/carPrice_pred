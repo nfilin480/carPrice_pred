{
 "cells": [
  {
   "cell_type": "code",
   "execution_count": 1,
   "metadata": {},
   "outputs": [],
   "source": [
    "import numpy as np # linear algebra\n",
    "import pandas as pd # data processing, CSV file I/O (e.g. pd.read_csv)\n",
    "import sys\n",
    "import seaborn as sns\n",
    "import matplotlib as plt\n",
    "from sklearn.model_selection import train_test_split\n",
    "from sklearn.model_selection import KFold\n",
    "from tqdm.notebook import tqdm\n",
    "from catboost import CatBoostRegressor\n",
    "from sklearn.preprocessing import LabelEncoder"
   ]
  },
  {
   "cell_type": "code",
   "execution_count": 2,
   "metadata": {},
   "outputs": [],
   "source": [
    "def display_data(dataframe, list_columns=None):\n",
    "    '''\n",
    "    Развернутая информация по датасету с фильтрацией по списку колонок,\n",
    "    по умолчнию без фильтрации,\n",
    "    названия признаков упорядочены по алфавиту\n",
    "    '''\n",
    "    if list_columns==None:\n",
    "        index_ = sorted(dataframe.columns)\n",
    "    else: \n",
    "        index_ = sorted([x for x in set(dataframe.dtypes.index).intersection(set(list_columns))])\n",
    "    \n",
    "    df = dataframe[index_]\n",
    "    d = pd.concat([df.dtypes,df.count() + df.isna().sum(),\\\n",
    "               round((df.isna().sum()/(df.count() + df.isna().sum()))*100,2),df.nunique(),],axis=1)\n",
    "    d.columns = ['Тип', 'Общ.кол', '% пропусков','Кол-во уник.значений']\n",
    "    display(d)\n",
    "    \n",
    "    return"
   ]
  },
  {
   "cell_type": "code",
   "execution_count": 3,
   "metadata": {},
   "outputs": [],
   "source": [
    "train_val_data = pd.read_csv('prod_data_all.csv')"
   ]
  },
  {
   "cell_type": "code",
   "execution_count": 4,
   "metadata": {},
   "outputs": [
    {
     "data": {
      "text/html": [
       "<div>\n",
       "<style scoped>\n",
       "    .dataframe tbody tr th:only-of-type {\n",
       "        vertical-align: middle;\n",
       "    }\n",
       "\n",
       "    .dataframe tbody tr th {\n",
       "        vertical-align: top;\n",
       "    }\n",
       "\n",
       "    .dataframe thead th {\n",
       "        text-align: right;\n",
       "    }\n",
       "</style>\n",
       "<table border=\"1\" class=\"dataframe\">\n",
       "  <thead>\n",
       "    <tr style=\"text-align: right;\">\n",
       "      <th></th>\n",
       "      <th>Тип</th>\n",
       "      <th>Общ.кол</th>\n",
       "      <th>% пропусков</th>\n",
       "      <th>Кол-во уник.значений</th>\n",
       "    </tr>\n",
       "  </thead>\n",
       "  <tbody>\n",
       "    <tr>\n",
       "      <th>body_type</th>\n",
       "      <td>int64</td>\n",
       "      <td>71989</td>\n",
       "      <td>0.00</td>\n",
       "      <td>11</td>\n",
       "    </tr>\n",
       "    <tr>\n",
       "      <th>engine_capacity</th>\n",
       "      <td>float64</td>\n",
       "      <td>71989</td>\n",
       "      <td>0.00</td>\n",
       "      <td>58</td>\n",
       "    </tr>\n",
       "    <tr>\n",
       "      <th>engine_power</th>\n",
       "      <td>int64</td>\n",
       "      <td>71989</td>\n",
       "      <td>0.00</td>\n",
       "      <td>344</td>\n",
       "    </tr>\n",
       "    <tr>\n",
       "      <th>mileage</th>\n",
       "      <td>int64</td>\n",
       "      <td>71989</td>\n",
       "      <td>0.00</td>\n",
       "      <td>14639</td>\n",
       "    </tr>\n",
       "    <tr>\n",
       "      <th>mileage_per_year</th>\n",
       "      <td>float64</td>\n",
       "      <td>71989</td>\n",
       "      <td>0.61</td>\n",
       "      <td>13677</td>\n",
       "    </tr>\n",
       "    <tr>\n",
       "      <th>model</th>\n",
       "      <td>int64</td>\n",
       "      <td>71989</td>\n",
       "      <td>0.00</td>\n",
       "      <td>29</td>\n",
       "    </tr>\n",
       "    <tr>\n",
       "      <th>model_2</th>\n",
       "      <td>int64</td>\n",
       "      <td>71989</td>\n",
       "      <td>0.00</td>\n",
       "      <td>962</td>\n",
       "    </tr>\n",
       "    <tr>\n",
       "      <th>price</th>\n",
       "      <td>int64</td>\n",
       "      <td>71989</td>\n",
       "      <td>0.00</td>\n",
       "      <td>5119</td>\n",
       "    </tr>\n",
       "    <tr>\n",
       "      <th>region</th>\n",
       "      <td>int64</td>\n",
       "      <td>71989</td>\n",
       "      <td>0.00</td>\n",
       "      <td>447</td>\n",
       "    </tr>\n",
       "    <tr>\n",
       "      <th>transmission</th>\n",
       "      <td>int64</td>\n",
       "      <td>71989</td>\n",
       "      <td>0.00</td>\n",
       "      <td>4</td>\n",
       "    </tr>\n",
       "    <tr>\n",
       "      <th>wheel</th>\n",
       "      <td>int64</td>\n",
       "      <td>71989</td>\n",
       "      <td>0.00</td>\n",
       "      <td>3</td>\n",
       "    </tr>\n",
       "    <tr>\n",
       "      <th>year</th>\n",
       "      <td>int64</td>\n",
       "      <td>71989</td>\n",
       "      <td>0.00</td>\n",
       "      <td>73</td>\n",
       "    </tr>\n",
       "  </tbody>\n",
       "</table>\n",
       "</div>"
      ],
      "text/plain": [
       "                      Тип  Общ.кол  % пропусков  Кол-во уник.значений\n",
       "body_type           int64    71989         0.00                    11\n",
       "engine_capacity   float64    71989         0.00                    58\n",
       "engine_power        int64    71989         0.00                   344\n",
       "mileage             int64    71989         0.00                 14639\n",
       "mileage_per_year  float64    71989         0.61                 13677\n",
       "model               int64    71989         0.00                    29\n",
       "model_2             int64    71989         0.00                   962\n",
       "price               int64    71989         0.00                  5119\n",
       "region              int64    71989         0.00                   447\n",
       "transmission        int64    71989         0.00                     4\n",
       "wheel               int64    71989         0.00                     3\n",
       "year                int64    71989         0.00                    73"
      ]
     },
     "metadata": {},
     "output_type": "display_data"
    }
   ],
   "source": [
    "train_val_data.loc[train_val_data['year'] < 2024, 'mileage_per_year'] = train_val_data.loc[train_val_data['year'] < 2024].apply(lambda x: int(x['mileage'] / (2024 - x['year'])), axis=1)#train_val_data['mileage'] / (2024 - train_val_data['year'])\n",
    "train_val_data = train_val_data.drop(['fuel_type'], axis=1)\n",
    "\n",
    "train_val_data.loc[train_val_data['mileage_per_year'].isnull(), 'mileage_per_year'] = 0.0\n",
    "\n",
    "display_data(train_val_data)"
   ]
  },
  {
   "cell_type": "code",
   "execution_count": 6,
   "metadata": {},
   "outputs": [
    {
     "data": {
      "text/plain": [
       "[          price  region  mileage  engine_capacity  transmission  engine_power  \\\n",
       " 36251   2249900     134        0              1.5             2           113   \n",
       " 8466     550000     182    15400              1.6             3           115   \n",
       " 11562   3500000     143    49000              2.0             0           249   \n",
       " 71171   3700000     181   165512              1.1             3            50   \n",
       " 28399  19350000     148        1              3.5             1           273   \n",
       " ...         ...     ...      ...              ...           ...           ...   \n",
       " 37194   2949900     299        0              1.5             2           147   \n",
       " 6265    1189000     262   101569              1.5             1           106   \n",
       " 54886    895000     264    30000              1.6             3            90   \n",
       " 860     1129000     358   148996              4.2             1           350   \n",
       " 15795   3959990     284        0              2.0             1           200   \n",
       " \n",
       "        body_type  wheel  model  model_2  year  mileage_per_year  \n",
       " 36251          7      1     18      725  2023               0.0  \n",
       " 8466           7      1      4      173  2013            1400.0  \n",
       " 11562          0      2      5      865  2021           16333.0  \n",
       " 71171         10      1     25      438  1982            3940.0  \n",
       " 28399          0      2     13      521  2023               1.0  \n",
       " ...          ...    ...    ...      ...   ...               ...  \n",
       " 37194          0      1     18      207  2023               0.0  \n",
       " 6265           0      1      3      814  2017           14509.0  \n",
       " 54886          7      1     26        7  2023           30000.0  \n",
       " 860            0      2      0      676  2007            8764.0  \n",
       " 15795          0      2      7      855  2023               0.0  \n",
       " \n",
       " [64790 rows x 12 columns],\n",
       "          price  region  mileage  engine_capacity  transmission  engine_power  \\\n",
       " 5488   4239900     327        0              2.0             1           226   \n",
       " 42181   720000     143    45600              1.4             0            90   \n",
       " 20623  2000000     148    34000              2.0             1           145   \n",
       " 71722   199999     305   134000              1.6             3            81   \n",
       " 47586  6899000      44        0              3.0             1           299   \n",
       " ...        ...     ...      ...              ...           ...           ...   \n",
       " 63549  1950000     380    68000              1.6             1           123   \n",
       " 43300  1149000     290    31000              1.6             3            82   \n",
       " 70419  3549000     181   114000              2.8             1           177   \n",
       " 59736  4450000     106    62000              3.0             1           249   \n",
       " 2181   1899000     181   137345              3.0             1           306   \n",
       " \n",
       "        body_type  wheel  model  model_2  year  mileage_per_year  \n",
       " 5488           0      2      2      858  2023               0.0  \n",
       " 42181         10      1     20       37  2008            2850.0  \n",
       " 20623          0      2      9      218  2019            6800.0  \n",
       " 71722         10      1     26        3  2009            8933.0  \n",
       " 47586          0      2     23       97  2023               0.0  \n",
       " ...          ...    ...    ...      ...   ...               ...  \n",
       " 63549          0      1     10      292  2019           13600.0  \n",
       " 43300         10      1     21      743  2020            7750.0  \n",
       " 70419          0      2     24      530  2017           16285.0  \n",
       " 59736          0      2      0      676  2016            7750.0  \n",
       " 2181           0      2      1      911  2011           10565.0  \n",
       " \n",
       " [7199 rows x 12 columns]]"
      ]
     },
     "execution_count": 6,
     "metadata": {},
     "output_type": "execute_result"
    }
   ],
   "source": [
    "data = train_test_split(train_val_data, test_size=0.1, shuffle=True, random_state=42)\n",
    "data"
   ]
  },
  {
   "cell_type": "code",
   "execution_count": 8,
   "metadata": {},
   "outputs": [
    {
     "data": {
      "text/html": [
       "<div>\n",
       "<style scoped>\n",
       "    .dataframe tbody tr th:only-of-type {\n",
       "        vertical-align: middle;\n",
       "    }\n",
       "\n",
       "    .dataframe tbody tr th {\n",
       "        vertical-align: top;\n",
       "    }\n",
       "\n",
       "    .dataframe thead th {\n",
       "        text-align: right;\n",
       "    }\n",
       "</style>\n",
       "<table border=\"1\" class=\"dataframe\">\n",
       "  <thead>\n",
       "    <tr style=\"text-align: right;\">\n",
       "      <th></th>\n",
       "      <th>Тип</th>\n",
       "      <th>Общ.кол</th>\n",
       "      <th>% пропусков</th>\n",
       "      <th>Кол-во уник.значений</th>\n",
       "    </tr>\n",
       "  </thead>\n",
       "  <tbody>\n",
       "    <tr>\n",
       "      <th>body_type</th>\n",
       "      <td>int64</td>\n",
       "      <td>64790</td>\n",
       "      <td>0.0</td>\n",
       "      <td>11</td>\n",
       "    </tr>\n",
       "    <tr>\n",
       "      <th>engine_capacity</th>\n",
       "      <td>float64</td>\n",
       "      <td>64790</td>\n",
       "      <td>0.0</td>\n",
       "      <td>58</td>\n",
       "    </tr>\n",
       "    <tr>\n",
       "      <th>engine_power</th>\n",
       "      <td>int64</td>\n",
       "      <td>64790</td>\n",
       "      <td>0.0</td>\n",
       "      <td>340</td>\n",
       "    </tr>\n",
       "    <tr>\n",
       "      <th>mileage</th>\n",
       "      <td>int64</td>\n",
       "      <td>64790</td>\n",
       "      <td>0.0</td>\n",
       "      <td>13467</td>\n",
       "    </tr>\n",
       "    <tr>\n",
       "      <th>mileage_per_year</th>\n",
       "      <td>float64</td>\n",
       "      <td>64790</td>\n",
       "      <td>0.0</td>\n",
       "      <td>12962</td>\n",
       "    </tr>\n",
       "    <tr>\n",
       "      <th>model</th>\n",
       "      <td>int64</td>\n",
       "      <td>64790</td>\n",
       "      <td>0.0</td>\n",
       "      <td>29</td>\n",
       "    </tr>\n",
       "    <tr>\n",
       "      <th>model_2</th>\n",
       "      <td>int64</td>\n",
       "      <td>64790</td>\n",
       "      <td>0.0</td>\n",
       "      <td>941</td>\n",
       "    </tr>\n",
       "    <tr>\n",
       "      <th>price</th>\n",
       "      <td>int64</td>\n",
       "      <td>64790</td>\n",
       "      <td>0.0</td>\n",
       "      <td>4849</td>\n",
       "    </tr>\n",
       "    <tr>\n",
       "      <th>region</th>\n",
       "      <td>int64</td>\n",
       "      <td>64790</td>\n",
       "      <td>0.0</td>\n",
       "      <td>432</td>\n",
       "    </tr>\n",
       "    <tr>\n",
       "      <th>transmission</th>\n",
       "      <td>int64</td>\n",
       "      <td>64790</td>\n",
       "      <td>0.0</td>\n",
       "      <td>4</td>\n",
       "    </tr>\n",
       "    <tr>\n",
       "      <th>wheel</th>\n",
       "      <td>int64</td>\n",
       "      <td>64790</td>\n",
       "      <td>0.0</td>\n",
       "      <td>3</td>\n",
       "    </tr>\n",
       "    <tr>\n",
       "      <th>year</th>\n",
       "      <td>int64</td>\n",
       "      <td>64790</td>\n",
       "      <td>0.0</td>\n",
       "      <td>73</td>\n",
       "    </tr>\n",
       "  </tbody>\n",
       "</table>\n",
       "</div>"
      ],
      "text/plain": [
       "                      Тип  Общ.кол  % пропусков  Кол-во уник.значений\n",
       "body_type           int64    64790          0.0                    11\n",
       "engine_capacity   float64    64790          0.0                    58\n",
       "engine_power        int64    64790          0.0                   340\n",
       "mileage             int64    64790          0.0                 13467\n",
       "mileage_per_year  float64    64790          0.0                 12962\n",
       "model               int64    64790          0.0                    29\n",
       "model_2             int64    64790          0.0                   941\n",
       "price               int64    64790          0.0                  4849\n",
       "region              int64    64790          0.0                   432\n",
       "transmission        int64    64790          0.0                     4\n",
       "wheel               int64    64790          0.0                     3\n",
       "year                int64    64790          0.0                    73"
      ]
     },
     "metadata": {},
     "output_type": "display_data"
    }
   ],
   "source": [
    "display_data(data[0])"
   ]
  },
  {
   "cell_type": "code",
   "execution_count": 37,
   "metadata": {},
   "outputs": [
    {
     "data": {
      "text/plain": [
       "8480      4850\n",
       "13126     6990\n",
       "58915     2100\n",
       "9195     10600\n",
       "32631     7500\n",
       "         ...  \n",
       "54343     1990\n",
       "38158    12490\n",
       "860      11290\n",
       "15795    39599\n",
       "56422     1000\n",
       "Name: price, Length: 53176, dtype: int64"
      ]
     },
     "execution_count": 37,
     "metadata": {},
     "output_type": "execute_result"
    }
   ],
   "source": [
    "data[0]['price']"
   ]
  },
  {
   "cell_type": "code",
   "execution_count": 8,
   "metadata": {},
   "outputs": [],
   "source": [
    "data[0]['price'] = data[0]['price'].apply(lambda x: int(x / 100))\n",
    "data[1]['price'] = data[1]['price'].apply(lambda x: int(x / 100))\n",
    "\n",
    "x_train = data[0].drop(['price'], axis=1)\n",
    "y_train = data[0]['price']\n",
    "\n",
    "x_test = data[1].drop(['price'], axis=1)\n",
    "y_test = data[1]['price']"
   ]
  },
  {
   "cell_type": "code",
   "execution_count": 82,
   "metadata": {},
   "outputs": [
    {
     "data": {
      "text/plain": [
       "36251     22499\n",
       "8466       5500\n",
       "11562     35000\n",
       "71171     37000\n",
       "28399    193500\n",
       "          ...  \n",
       "37194     29499\n",
       "6265      11890\n",
       "54886      8950\n",
       "860       11290\n",
       "15795     39599\n",
       "Name: price, Length: 64790, dtype: int64"
      ]
     },
     "execution_count": 82,
     "metadata": {},
     "output_type": "execute_result"
    }
   ],
   "source": [
    "y_train"
   ]
  },
  {
   "cell_type": "code",
   "execution_count": 9,
   "metadata": {},
   "outputs": [
    {
     "data": {
      "application/vnd.jupyter.widget-view+json": {
       "model_id": "382f3e3a58a14ea0bd98f8d9b543ae56",
       "version_major": 2,
       "version_minor": 0
      },
      "text/plain": [
       "MetricVisualizer(layout=Layout(align_self='stretch', height='500px'))"
      ]
     },
     "metadata": {},
     "output_type": "display_data"
    }
   ],
   "source": [
    "model = CatBoostRegressor(iterations = 9000,\n",
    "                          random_seed = 42,\n",
    "                          eval_metric='MAPE',\n",
    "                          custom_metric=['R2', 'MAE'],\n",
    "                          silent=True,\n",
    "                          learning_rate=0.1,\n",
    "                          #depth=10\n",
    "                         )\n",
    "\n",
    "grid = {'learning_rate': [0.1, 0.2],\n",
    "        'depth': [6],\n",
    "        'l2_leaf_reg': [1, 3]}\n",
    "\n",
    "model.fit(#grid,\n",
    "         x_train, np.log(y_train),\n",
    "         #cat_features=['body_type', 'fuel_type', 'model', 'model_2', 'region', 'transmission', 'wheel'],     #cat_features_ids,\n",
    "         eval_set=(x_test, np.log(y_test)),\n",
    "         verbose_eval=0,\n",
    "         use_best_model=True,\n",
    "         plot=True\n",
    "         )\n",
    "\n",
    "model.save_model('catboost_single_model3_baseline.model')"
   ]
  },
  {
   "cell_type": "code",
   "execution_count": 10,
   "metadata": {},
   "outputs": [],
   "source": [
    "def mape(y_true, y_pred):\n",
    "    '''\n",
    "    Метрика\n",
    "    '''\n",
    "    return np.mean(np.abs((y_pred-y_true)/y_true))"
   ]
  },
  {
   "cell_type": "code",
   "execution_count": 11,
   "metadata": {},
   "outputs": [
    {
     "data": {
      "text/html": [
       "<div>\n",
       "<style scoped>\n",
       "    .dataframe tbody tr th:only-of-type {\n",
       "        vertical-align: middle;\n",
       "    }\n",
       "\n",
       "    .dataframe tbody tr th {\n",
       "        vertical-align: top;\n",
       "    }\n",
       "\n",
       "    .dataframe thead th {\n",
       "        text-align: right;\n",
       "    }\n",
       "</style>\n",
       "<table border=\"1\" class=\"dataframe\">\n",
       "  <thead>\n",
       "    <tr style=\"text-align: right;\">\n",
       "      <th></th>\n",
       "      <th>Feature Id</th>\n",
       "      <th>Importances</th>\n",
       "    </tr>\n",
       "  </thead>\n",
       "  <tbody>\n",
       "    <tr>\n",
       "      <th>0</th>\n",
       "      <td>year</td>\n",
       "      <td>34.506881</td>\n",
       "    </tr>\n",
       "    <tr>\n",
       "      <th>1</th>\n",
       "      <td>engine_power</td>\n",
       "      <td>21.969129</td>\n",
       "    </tr>\n",
       "    <tr>\n",
       "      <th>2</th>\n",
       "      <td>model</td>\n",
       "      <td>9.879726</td>\n",
       "    </tr>\n",
       "    <tr>\n",
       "      <th>3</th>\n",
       "      <td>model_2</td>\n",
       "      <td>8.275234</td>\n",
       "    </tr>\n",
       "    <tr>\n",
       "      <th>4</th>\n",
       "      <td>engine_capacity</td>\n",
       "      <td>5.583200</td>\n",
       "    </tr>\n",
       "    <tr>\n",
       "      <th>5</th>\n",
       "      <td>mileage</td>\n",
       "      <td>4.965778</td>\n",
       "    </tr>\n",
       "    <tr>\n",
       "      <th>6</th>\n",
       "      <td>region</td>\n",
       "      <td>3.690987</td>\n",
       "    </tr>\n",
       "    <tr>\n",
       "      <th>7</th>\n",
       "      <td>mileage_per_year</td>\n",
       "      <td>3.415147</td>\n",
       "    </tr>\n",
       "    <tr>\n",
       "      <th>8</th>\n",
       "      <td>body_type</td>\n",
       "      <td>2.837118</td>\n",
       "    </tr>\n",
       "    <tr>\n",
       "      <th>9</th>\n",
       "      <td>transmission</td>\n",
       "      <td>2.642758</td>\n",
       "    </tr>\n",
       "    <tr>\n",
       "      <th>10</th>\n",
       "      <td>wheel</td>\n",
       "      <td>2.234041</td>\n",
       "    </tr>\n",
       "  </tbody>\n",
       "</table>\n",
       "</div>"
      ],
      "text/plain": [
       "          Feature Id  Importances\n",
       "0               year    34.506881\n",
       "1       engine_power    21.969129\n",
       "2              model     9.879726\n",
       "3            model_2     8.275234\n",
       "4    engine_capacity     5.583200\n",
       "5            mileage     4.965778\n",
       "6             region     3.690987\n",
       "7   mileage_per_year     3.415147\n",
       "8          body_type     2.837118\n",
       "9       transmission     2.642758\n",
       "10             wheel     2.234041"
      ]
     },
     "execution_count": 11,
     "metadata": {},
     "output_type": "execute_result"
    }
   ],
   "source": [
    "model.get_feature_importance(prettified=True)"
   ]
  },
  {
   "cell_type": "code",
   "execution_count": 12,
   "metadata": {},
   "outputs": [
    {
     "name": "stdout",
     "output_type": "stream",
     "text": [
      "Точность модели по метрике MAPE: 14.55%\n"
     ]
    }
   ],
   "source": [
    "predict = np.exp(model.predict(x_test))\n",
    "print(f\"Точность модели по метрике MAPE: {(mape(y_test, predict))*100:0.2f}%\")"
   ]
  },
  {
   "cell_type": "code",
   "execution_count": 13,
   "metadata": {},
   "outputs": [
    {
     "data": {
      "text/plain": [
       "0.9533849861095913"
      ]
     },
     "execution_count": 13,
     "metadata": {},
     "output_type": "execute_result"
    }
   ],
   "source": [
    "from sklearn.metrics import r2_score\n",
    "\n",
    "r2_score(predict, y_test)"
   ]
  },
  {
   "cell_type": "code",
   "execution_count": 40,
   "metadata": {},
   "outputs": [
    {
     "name": "stdout",
     "output_type": "stream",
     "text": [
      "Точность модели по метрике MAPE: 16.60%\n"
     ]
    }
   ],
   "source": [
    "from sklearn.ensemble import RandomForestRegressor\n",
    "\n",
    "model = RandomForestRegressor(n_estimators=2000, max_depth=50, random_state=42, n_jobs=5, criterion='squared_error')\n",
    "model.fit(x_train, y_train)\n",
    "\n",
    "preds = model.predict(x_test)\n",
    "\n",
    "print(f\"Точность модели по метрике MAPE: {(mape(y_test, preds))*100:0.2f}%\")\n",
    "#print(r2_score(preds,y_test))"
   ]
  },
  {
   "cell_type": "code",
   "execution_count": 37,
   "metadata": {},
   "outputs": [
    {
     "ename": "AttributeError",
     "evalue": "'RandomForestRegressor' object has no attribute 'weight'",
     "output_type": "error",
     "traceback": [
      "\u001b[1;31m---------------------------------------------------------------------------\u001b[0m",
      "\u001b[1;31mAttributeError\u001b[0m                            Traceback (most recent call last)",
      "Cell \u001b[1;32mIn[37], line 1\u001b[0m\n\u001b[1;32m----> 1\u001b[0m \u001b[43mmodel\u001b[49m\u001b[38;5;241;43m.\u001b[39;49m\u001b[43mweight\u001b[49m\n",
      "\u001b[1;31mAttributeError\u001b[0m: 'RandomForestRegressor' object has no attribute 'weight'"
     ]
    }
   ],
   "source": [
    "model"
   ]
  },
  {
   "cell_type": "code",
   "execution_count": 61,
   "metadata": {},
   "outputs": [
    {
     "name": "stdout",
     "output_type": "stream",
     "text": [
      "[LightGBM] [Warning] Accuracy may be bad since you didn't explicitly set num_leaves OR 2^max_depth > num_leaves. (num_leaves=31).\n",
      "[LightGBM] [Warning] Accuracy may be bad since you didn't explicitly set num_leaves OR 2^max_depth > num_leaves. (num_leaves=31).\n",
      "[LightGBM] [Info] Auto-choosing col-wise multi-threading, the overhead of testing was 0.065029 seconds.\n",
      "You can set `force_col_wise=true` to remove the overhead.\n",
      "[LightGBM] [Info] Total Bins 1335\n",
      "[LightGBM] [Info] Number of data points in the train set: 64790, number of used features: 11\n",
      "[LightGBM] [Warning] Accuracy may be bad since you didn't explicitly set num_leaves OR 2^max_depth > num_leaves. (num_leaves=31).\n",
      "[LightGBM] [Info] Start training from score 9.404313\n",
      "[LightGBM] [Warning] Accuracy may be bad since you didn't explicitly set num_leaves OR 2^max_depth > num_leaves. (num_leaves=31).\n",
      "Точность модели по метрике MAPE: 14.98%\n"
     ]
    }
   ],
   "source": [
    "from lightgbm import LGBMRegressor\n",
    "\n",
    "model = LGBMRegressor(n_estimators=3000, random_state=42, n_jobs=5, learning_rate=0.15, max_depth=30)\n",
    "model.fit(x_train, np.log(y_train), eval_set=(x_test, np.log(y_test)), )\n",
    "\n",
    "preds = np.exp(model.predict(x_test))\n",
    "\n",
    "print(f\"Точность модели по метрике MAPE: {(mape(y_test, preds))*100:0.2f}%\")\n",
    "#print(r2_score(preds,y_test))"
   ]
  },
  {
   "cell_type": "code",
   "execution_count": 56,
   "metadata": {},
   "outputs": [
    {
     "data": {
      "text/plain": [
       "array([17845, 16934, 10184,  3434, 20697,  6232,  2810, 13225, 20621,\n",
       "       23245, 14773])"
      ]
     },
     "execution_count": 56,
     "metadata": {},
     "output_type": "execute_result"
    }
   ],
   "source": [
    "model.feature_importances_"
   ]
  },
  {
   "cell_type": "code",
   "execution_count": 10,
   "metadata": {},
   "outputs": [],
   "source": [
    "def mape(y_true, y_pred):\n",
    "    '''\n",
    "    Метрика\n",
    "    '''\n",
    "    return np.mean(np.abs((y_pred-y_true)/y_true))"
   ]
  },
  {
   "cell_type": "code",
   "execution_count": 18,
   "metadata": {},
   "outputs": [
    {
     "ename": "TerminatedWorkerError",
     "evalue": "A worker process managed by the executor was unexpectedly terminated. This could be caused by a segmentation fault while calling the function or by an excessive memory usage causing the Operating System to kill the worker.\n",
     "output_type": "error",
     "traceback": [
      "\u001b[1;31m---------------------------------------------------------------------------\u001b[0m",
      "\u001b[1;31mTerminatedWorkerError\u001b[0m                     Traceback (most recent call last)",
      "Cell \u001b[1;32mIn[18], line 24\u001b[0m\n\u001b[0;32m     12\u001b[0m \u001b[38;5;66;03m#df_train = pd.read_csv('../input/titanic/train.csv')\u001b[39;00m\n\u001b[0;32m     13\u001b[0m \u001b[38;5;66;03m#df_test = pd.read_csv('../input/titanic/test.csv')\u001b[39;00m\n\u001b[0;32m     15\u001b[0m automl \u001b[38;5;241m=\u001b[39m TabularAutoML(\n\u001b[0;32m     16\u001b[0m     task \u001b[38;5;241m=\u001b[39m Task(\n\u001b[0;32m     17\u001b[0m         name \u001b[38;5;241m=\u001b[39m \u001b[38;5;124m'\u001b[39m\u001b[38;5;124mreg\u001b[39m\u001b[38;5;124m'\u001b[39m,\n\u001b[1;32m   (...)\u001b[0m\n\u001b[0;32m     22\u001b[0m         \u001b[38;5;66;03m#metric = lambda y_true, y_pred: r2_score(y_true, y_pred))\u001b[39;00m\n\u001b[0;32m     23\u001b[0m )\n\u001b[1;32m---> 24\u001b[0m oof_pred \u001b[38;5;241m=\u001b[39m \u001b[43mautoml\u001b[49m\u001b[38;5;241;43m.\u001b[39;49m\u001b[43mfit_predict\u001b[49m\u001b[43m(\u001b[49m\n\u001b[0;32m     25\u001b[0m \u001b[43m    \u001b[49m\u001b[43mdata\u001b[49m\u001b[43m[\u001b[49m\u001b[38;5;241;43m0\u001b[39;49m\u001b[43m]\u001b[49m\u001b[43m,\u001b[49m\n\u001b[0;32m     26\u001b[0m \u001b[43m    \u001b[49m\u001b[43mroles\u001b[49m\u001b[43m \u001b[49m\u001b[38;5;241;43m=\u001b[39;49m\u001b[43m \u001b[49m\u001b[43m{\u001b[49m\u001b[38;5;124;43m'\u001b[39;49m\u001b[38;5;124;43mtarget\u001b[39;49m\u001b[38;5;124;43m'\u001b[39;49m\u001b[43m:\u001b[49m\u001b[43m \u001b[49m\u001b[38;5;124;43m'\u001b[39;49m\u001b[38;5;124;43mprice\u001b[39;49m\u001b[38;5;124;43m'\u001b[39;49m\u001b[43m}\u001b[49m\n\u001b[0;32m     27\u001b[0m \u001b[43m)\u001b[49m\n\u001b[0;32m     28\u001b[0m test_pred \u001b[38;5;241m=\u001b[39m automl\u001b[38;5;241m.\u001b[39mpredict(data[\u001b[38;5;241m1\u001b[39m])\n\u001b[0;32m     30\u001b[0m \u001b[38;5;66;03m#pd.DataFrame({\u001b[39;00m\n\u001b[0;32m     31\u001b[0m \u001b[38;5;66;03m#    'PassengerId':df_test.PassengerId,\u001b[39;00m\n\u001b[0;32m     32\u001b[0m \u001b[38;5;66;03m#    'price': (test_pred.data[:, 0] > 0.5)*1\u001b[39;00m\n\u001b[0;32m     33\u001b[0m \u001b[38;5;66;03m#}).to_csv('submit.csv', index = False)\u001b[39;00m\n",
      "File \u001b[1;32me:\\Conda\\envs\\carprice\\lib\\site-packages\\lightautoml\\automl\\presets\\tabular_presets.py:721\u001b[0m, in \u001b[0;36mTabularAutoML.fit_predict\u001b[1;34m(self, train_data, roles, train_features, cv_iter, valid_data, valid_features, log_file, verbose)\u001b[0m\n\u001b[0;32m    718\u001b[0m \u001b[38;5;28;01mif\u001b[39;00m \u001b[38;5;28mself\u001b[39m\u001b[38;5;241m.\u001b[39mis_time_series:\n\u001b[0;32m    719\u001b[0m     train \u001b[38;5;241m=\u001b[39m {\u001b[38;5;124m\"\u001b[39m\u001b[38;5;124mseq\u001b[39m\u001b[38;5;124m\"\u001b[39m: {\u001b[38;5;124m\"\u001b[39m\u001b[38;5;124mseq0\u001b[39m\u001b[38;5;124m\"\u001b[39m: train}}\n\u001b[1;32m--> 721\u001b[0m oof_pred \u001b[38;5;241m=\u001b[39m \u001b[38;5;28;43msuper\u001b[39;49m\u001b[43m(\u001b[49m\u001b[43m)\u001b[49m\u001b[38;5;241;43m.\u001b[39;49m\u001b[43mfit_predict\u001b[49m\u001b[43m(\u001b[49m\u001b[43mtrain\u001b[49m\u001b[43m,\u001b[49m\u001b[43m \u001b[49m\u001b[43mroles\u001b[49m\u001b[38;5;241;43m=\u001b[39;49m\u001b[43mroles\u001b[49m\u001b[43m,\u001b[49m\u001b[43m \u001b[49m\u001b[43mcv_iter\u001b[49m\u001b[38;5;241;43m=\u001b[39;49m\u001b[43mcv_iter\u001b[49m\u001b[43m,\u001b[49m\u001b[43m \u001b[49m\u001b[43mvalid_data\u001b[49m\u001b[38;5;241;43m=\u001b[39;49m\u001b[43mvalid_data\u001b[49m\u001b[43m,\u001b[49m\u001b[43m \u001b[49m\u001b[43mverbose\u001b[49m\u001b[38;5;241;43m=\u001b[39;49m\u001b[43mverbose\u001b[49m\u001b[43m)\u001b[49m\n\u001b[0;32m    723\u001b[0m \u001b[38;5;28;01mreturn\u001b[39;00m cast(NumpyDataset, oof_pred)\n",
      "File \u001b[1;32me:\\Conda\\envs\\carprice\\lib\\site-packages\\lightautoml\\automl\\presets\\base.py:208\u001b[0m, in \u001b[0;36mAutoMLPreset.fit_predict\u001b[1;34m(self, train_data, roles, train_features, cv_iter, valid_data, valid_features, verbose)\u001b[0m\n\u001b[0;32m    205\u001b[0m logger\u001b[38;5;241m.\u001b[39minfo(\u001b[38;5;124mf\u001b[39m\u001b[38;5;124m\"\u001b[39m\u001b[38;5;124m- memory: \u001b[39m\u001b[38;5;132;01m{\u001b[39;00m\u001b[38;5;28mself\u001b[39m\u001b[38;5;241m.\u001b[39mmemory_limit\u001b[38;5;132;01m}\u001b[39;00m\u001b[38;5;124m GB\u001b[39m\u001b[38;5;130;01m\\n\u001b[39;00m\u001b[38;5;124m\"\u001b[39m)\n\u001b[0;32m    207\u001b[0m \u001b[38;5;28mself\u001b[39m\u001b[38;5;241m.\u001b[39mtimer\u001b[38;5;241m.\u001b[39mstart()\n\u001b[1;32m--> 208\u001b[0m result \u001b[38;5;241m=\u001b[39m \u001b[38;5;28;43msuper\u001b[39;49m\u001b[43m(\u001b[49m\u001b[43m)\u001b[49m\u001b[38;5;241;43m.\u001b[39;49m\u001b[43mfit_predict\u001b[49m\u001b[43m(\u001b[49m\n\u001b[0;32m    209\u001b[0m \u001b[43m    \u001b[49m\u001b[43mtrain_data\u001b[49m\u001b[43m,\u001b[49m\n\u001b[0;32m    210\u001b[0m \u001b[43m    \u001b[49m\u001b[43mroles\u001b[49m\u001b[43m,\u001b[49m\n\u001b[0;32m    211\u001b[0m \u001b[43m    \u001b[49m\u001b[43mtrain_features\u001b[49m\u001b[43m,\u001b[49m\n\u001b[0;32m    212\u001b[0m \u001b[43m    \u001b[49m\u001b[43mcv_iter\u001b[49m\u001b[43m,\u001b[49m\n\u001b[0;32m    213\u001b[0m \u001b[43m    \u001b[49m\u001b[43mvalid_data\u001b[49m\u001b[43m,\u001b[49m\n\u001b[0;32m    214\u001b[0m \u001b[43m    \u001b[49m\u001b[43mvalid_features\u001b[49m\u001b[43m,\u001b[49m\n\u001b[0;32m    215\u001b[0m \u001b[43m    \u001b[49m\u001b[43mverbose\u001b[49m\u001b[38;5;241;43m=\u001b[39;49m\u001b[43mverbose\u001b[49m\u001b[43m,\u001b[49m\n\u001b[0;32m    216\u001b[0m \u001b[43m\u001b[49m\u001b[43m)\u001b[49m\n\u001b[0;32m    218\u001b[0m logger\u001b[38;5;241m.\u001b[39minfo(\u001b[38;5;124m\"\u001b[39m\u001b[38;5;130;01m\\x1b\u001b[39;00m\u001b[38;5;124m[1mAutoml preset training completed in \u001b[39m\u001b[38;5;132;01m{:.2f}\u001b[39;00m\u001b[38;5;124m seconds\u001b[39m\u001b[38;5;130;01m\\x1b\u001b[39;00m\u001b[38;5;124m[0m\u001b[39m\u001b[38;5;130;01m\\n\u001b[39;00m\u001b[38;5;124m\"\u001b[39m\u001b[38;5;241m.\u001b[39mformat(\u001b[38;5;28mself\u001b[39m\u001b[38;5;241m.\u001b[39mtimer\u001b[38;5;241m.\u001b[39mtime_spent))\n\u001b[0;32m    219\u001b[0m logger\u001b[38;5;241m.\u001b[39minfo(\u001b[38;5;124mf\u001b[39m\u001b[38;5;124m\"\u001b[39m\u001b[38;5;124mModel description:\u001b[39m\u001b[38;5;130;01m\\n\u001b[39;00m\u001b[38;5;132;01m{\u001b[39;00m\u001b[38;5;28mself\u001b[39m\u001b[38;5;241m.\u001b[39mcreate_model_str_desc()\u001b[38;5;132;01m}\u001b[39;00m\u001b[38;5;130;01m\\n\u001b[39;00m\u001b[38;5;124m\"\u001b[39m)\n",
      "File \u001b[1;32me:\\Conda\\envs\\carprice\\lib\\site-packages\\lightautoml\\automl\\base.py:186\u001b[0m, in \u001b[0;36mAutoML.fit_predict\u001b[1;34m(self, train_data, roles, train_features, cv_iter, valid_data, valid_features, verbose)\u001b[0m\n\u001b[0;32m    184\u001b[0m set_stdout_level(verbosity_to_loglevel(verbose))\n\u001b[0;32m    185\u001b[0m \u001b[38;5;28mself\u001b[39m\u001b[38;5;241m.\u001b[39mtimer\u001b[38;5;241m.\u001b[39mstart()\n\u001b[1;32m--> 186\u001b[0m train_dataset \u001b[38;5;241m=\u001b[39m \u001b[38;5;28;43mself\u001b[39;49m\u001b[38;5;241;43m.\u001b[39;49m\u001b[43mreader\u001b[49m\u001b[38;5;241;43m.\u001b[39;49m\u001b[43mfit_read\u001b[49m\u001b[43m(\u001b[49m\u001b[43mtrain_data\u001b[49m\u001b[43m,\u001b[49m\u001b[43m \u001b[49m\u001b[43mtrain_features\u001b[49m\u001b[43m,\u001b[49m\u001b[43m \u001b[49m\u001b[43mroles\u001b[49m\u001b[43m)\u001b[49m\n\u001b[0;32m    188\u001b[0m \u001b[38;5;28;01massert\u001b[39;00m (\n\u001b[0;32m    189\u001b[0m     \u001b[38;5;28mlen\u001b[39m(\u001b[38;5;28mself\u001b[39m\u001b[38;5;241m.\u001b[39m_levels) \u001b[38;5;241m<\u001b[39m\u001b[38;5;241m=\u001b[39m \u001b[38;5;241m1\u001b[39m \u001b[38;5;129;01mor\u001b[39;00m train_dataset\u001b[38;5;241m.\u001b[39mfolds \u001b[38;5;129;01mis\u001b[39;00m \u001b[38;5;129;01mnot\u001b[39;00m \u001b[38;5;28;01mNone\u001b[39;00m\n\u001b[0;32m    190\u001b[0m ), \u001b[38;5;124m\"\u001b[39m\u001b[38;5;124mNot possible to fit more than 1 level without cv folds\u001b[39m\u001b[38;5;124m\"\u001b[39m\n\u001b[0;32m    192\u001b[0m \u001b[38;5;28;01massert\u001b[39;00m (\n\u001b[0;32m    193\u001b[0m     \u001b[38;5;28mlen\u001b[39m(\u001b[38;5;28mself\u001b[39m\u001b[38;5;241m.\u001b[39m_levels) \u001b[38;5;241m<\u001b[39m\u001b[38;5;241m=\u001b[39m \u001b[38;5;241m1\u001b[39m \u001b[38;5;129;01mor\u001b[39;00m valid_data \u001b[38;5;129;01mis\u001b[39;00m \u001b[38;5;28;01mNone\u001b[39;00m\n\u001b[0;32m    194\u001b[0m ), \u001b[38;5;124m\"\u001b[39m\u001b[38;5;124mNot possible to fit more than 1 level with holdout validation\u001b[39m\u001b[38;5;124m\"\u001b[39m\n",
      "File \u001b[1;32me:\\Conda\\envs\\carprice\\lib\\site-packages\\lightautoml\\reader\\base.py:398\u001b[0m, in \u001b[0;36mPandasToPandasReader.fit_read\u001b[1;34m(self, train_data, features_names, roles, **kwargs)\u001b[0m\n\u001b[0;32m    396\u001b[0m dataset \u001b[38;5;241m=\u001b[39m PandasDataset(train_data[\u001b[38;5;28mself\u001b[39m\u001b[38;5;241m.\u001b[39mused_features], \u001b[38;5;28mself\u001b[39m\u001b[38;5;241m.\u001b[39mroles, task\u001b[38;5;241m=\u001b[39m\u001b[38;5;28mself\u001b[39m\u001b[38;5;241m.\u001b[39mtask, \u001b[38;5;241m*\u001b[39m\u001b[38;5;241m*\u001b[39mkwargs)\n\u001b[0;32m    397\u001b[0m \u001b[38;5;28;01mif\u001b[39;00m \u001b[38;5;28mself\u001b[39m\u001b[38;5;241m.\u001b[39madvanced_roles:\n\u001b[1;32m--> 398\u001b[0m     new_roles \u001b[38;5;241m=\u001b[39m \u001b[38;5;28;43mself\u001b[39;49m\u001b[38;5;241;43m.\u001b[39;49m\u001b[43madvanced_roles_guess\u001b[49m\u001b[43m(\u001b[49m\u001b[43mdataset\u001b[49m\u001b[43m,\u001b[49m\u001b[43m \u001b[49m\u001b[43mmanual_roles\u001b[49m\u001b[38;5;241;43m=\u001b[39;49m\u001b[43mparsed_roles\u001b[49m\u001b[43m)\u001b[49m\n\u001b[0;32m    400\u001b[0m     droplist \u001b[38;5;241m=\u001b[39m [x \u001b[38;5;28;01mfor\u001b[39;00m x \u001b[38;5;129;01min\u001b[39;00m new_roles \u001b[38;5;28;01mif\u001b[39;00m new_roles[x]\u001b[38;5;241m.\u001b[39mname \u001b[38;5;241m==\u001b[39m \u001b[38;5;124m\"\u001b[39m\u001b[38;5;124mDrop\u001b[39m\u001b[38;5;124m\"\u001b[39m \u001b[38;5;129;01mand\u001b[39;00m \u001b[38;5;129;01mnot\u001b[39;00m \u001b[38;5;28mself\u001b[39m\u001b[38;5;241m.\u001b[39m_roles[x]\u001b[38;5;241m.\u001b[39mforce_input]\n\u001b[0;32m    401\u001b[0m     \u001b[38;5;28mself\u001b[39m\u001b[38;5;241m.\u001b[39mupd_used_features(remove\u001b[38;5;241m=\u001b[39mdroplist)\n",
      "File \u001b[1;32me:\\Conda\\envs\\carprice\\lib\\site-packages\\lightautoml\\reader\\base.py:602\u001b[0m, in \u001b[0;36mPandasToPandasReader.advanced_roles_guess\u001b[1;34m(self, dataset, manual_roles)\u001b[0m\n\u001b[0;32m    599\u001b[0m drop_co \u001b[38;5;241m=\u001b[39m advanced_roles_params\u001b[38;5;241m.\u001b[39mpop(\u001b[38;5;124m\"\u001b[39m\u001b[38;5;124mdrop_score_co\u001b[39m\u001b[38;5;124m\"\u001b[39m)\n\u001b[0;32m    600\u001b[0m \u001b[38;5;66;03m# guess roles nor numerics\u001b[39;00m\n\u001b[1;32m--> 602\u001b[0m stat \u001b[38;5;241m=\u001b[39m \u001b[43mget_numeric_roles_stat\u001b[49m\u001b[43m(\u001b[49m\n\u001b[0;32m    603\u001b[0m \u001b[43m    \u001b[49m\u001b[43mdataset\u001b[49m\u001b[43m,\u001b[49m\n\u001b[0;32m    604\u001b[0m \u001b[43m    \u001b[49m\u001b[43mmanual_roles\u001b[49m\u001b[38;5;241;43m=\u001b[39;49m\u001b[43mmanual_roles\u001b[49m\u001b[43m,\u001b[49m\n\u001b[0;32m    605\u001b[0m \u001b[43m    \u001b[49m\u001b[43mrandom_state\u001b[49m\u001b[38;5;241;43m=\u001b[39;49m\u001b[38;5;28;43mself\u001b[39;49m\u001b[38;5;241;43m.\u001b[39;49m\u001b[43mrandom_state\u001b[49m\u001b[43m,\u001b[49m\n\u001b[0;32m    606\u001b[0m \u001b[43m    \u001b[49m\u001b[43msubsample\u001b[49m\u001b[38;5;241;43m=\u001b[39;49m\u001b[38;5;28;43mself\u001b[39;49m\u001b[38;5;241;43m.\u001b[39;49m\u001b[43msamples\u001b[49m\u001b[43m,\u001b[49m\n\u001b[0;32m    607\u001b[0m \u001b[43m    \u001b[49m\u001b[43mn_jobs\u001b[49m\u001b[38;5;241;43m=\u001b[39;49m\u001b[38;5;28;43mself\u001b[39;49m\u001b[38;5;241;43m.\u001b[39;49m\u001b[43mn_jobs\u001b[49m\u001b[43m,\u001b[49m\n\u001b[0;32m    608\u001b[0m \u001b[43m\u001b[49m\u001b[43m)\u001b[49m\n\u001b[0;32m    610\u001b[0m \u001b[38;5;28;01mif\u001b[39;00m \u001b[38;5;28mlen\u001b[39m(stat) \u001b[38;5;241m>\u001b[39m \u001b[38;5;241m0\u001b[39m:\n\u001b[0;32m    611\u001b[0m     \u001b[38;5;66;03m# upd stat with rules\u001b[39;00m\n\u001b[0;32m    613\u001b[0m     stat \u001b[38;5;241m=\u001b[39m calc_encoding_rules(stat, \u001b[38;5;241m*\u001b[39m\u001b[38;5;241m*\u001b[39madvanced_roles_params)\n",
      "File \u001b[1;32me:\\Conda\\envs\\carprice\\lib\\site-packages\\lightautoml\\reader\\guess_roles.py:322\u001b[0m, in \u001b[0;36mget_numeric_roles_stat\u001b[1;34m(train, subsample, random_state, manual_roles, n_jobs)\u001b[0m\n\u001b[0;32m    319\u001b[0m empty_slice \u001b[38;5;241m=\u001b[39m np\u001b[38;5;241m.\u001b[39misnan(data)\n\u001b[0;32m    321\u001b[0m \u001b[38;5;66;03m# check scores as is\u001b[39;00m\n\u001b[1;32m--> 322\u001b[0m res[\u001b[38;5;124m\"\u001b[39m\u001b[38;5;124mraw_scores\u001b[39m\u001b[38;5;124m\"\u001b[39m] \u001b[38;5;241m=\u001b[39m \u001b[43mget_score_from_pipe\u001b[49m\u001b[43m(\u001b[49m\u001b[43mtrain\u001b[49m\u001b[43m,\u001b[49m\u001b[43m \u001b[49m\u001b[43mtarget\u001b[49m\u001b[43m,\u001b[49m\u001b[43m \u001b[49m\u001b[43mempty_slice\u001b[49m\u001b[38;5;241;43m=\u001b[39;49m\u001b[43mempty_slice\u001b[49m\u001b[43m,\u001b[49m\u001b[43m \u001b[49m\u001b[43mn_jobs\u001b[49m\u001b[38;5;241;43m=\u001b[39;49m\u001b[43mn_jobs\u001b[49m\u001b[43m)\u001b[49m\n\u001b[0;32m    324\u001b[0m \u001b[38;5;66;03m# check unique values\u001b[39;00m\n\u001b[0;32m    325\u001b[0m unique_values \u001b[38;5;241m=\u001b[39m [np\u001b[38;5;241m.\u001b[39munique(data[:, x][\u001b[38;5;241m~\u001b[39mnp\u001b[38;5;241m.\u001b[39misnan(data[:, x])], return_counts\u001b[38;5;241m=\u001b[39m\u001b[38;5;28;01mTrue\u001b[39;00m) \u001b[38;5;28;01mfor\u001b[39;00m x \u001b[38;5;129;01min\u001b[39;00m \u001b[38;5;28mrange\u001b[39m(data\u001b[38;5;241m.\u001b[39mshape[\u001b[38;5;241m1\u001b[39m])]\n",
      "File \u001b[1;32me:\\Conda\\envs\\carprice\\lib\\site-packages\\lightautoml\\reader\\guess_roles.py:244\u001b[0m, in \u001b[0;36mget_score_from_pipe\u001b[1;34m(train, target, pipe, empty_slice, n_jobs)\u001b[0m\n\u001b[0;32m    241\u001b[0m     empty_slice \u001b[38;5;241m=\u001b[39m [empty_slice[:, x] \u001b[38;5;28;01mfor\u001b[39;00m x \u001b[38;5;129;01min\u001b[39;00m idx]\n\u001b[0;32m    243\u001b[0m \u001b[38;5;28;01mwith\u001b[39;00m Parallel(n_jobs\u001b[38;5;241m=\u001b[39mn_jobs, prefer\u001b[38;5;241m=\u001b[39m\u001b[38;5;124m\"\u001b[39m\u001b[38;5;124mprocesses\u001b[39m\u001b[38;5;124m\"\u001b[39m, backend\u001b[38;5;241m=\u001b[39m\u001b[38;5;124m\"\u001b[39m\u001b[38;5;124mloky\u001b[39m\u001b[38;5;124m\"\u001b[39m, max_nbytes\u001b[38;5;241m=\u001b[39m\u001b[38;5;28;01mNone\u001b[39;00m) \u001b[38;5;28;01mas\u001b[39;00m p:\n\u001b[1;32m--> 244\u001b[0m     res \u001b[38;5;241m=\u001b[39m \u001b[43mp\u001b[49m\u001b[43m(\u001b[49m\n\u001b[0;32m    245\u001b[0m \u001b[43m        \u001b[49m\u001b[43mdelayed\u001b[49m\u001b[43m(\u001b[49m\u001b[43m_get_score_from_pipe\u001b[49m\u001b[43m)\u001b[49m\u001b[43m(\u001b[49m\u001b[43mtrain\u001b[49m\u001b[43m[\u001b[49m\u001b[43m:\u001b[49m\u001b[43m,\u001b[49m\u001b[43m \u001b[49m\u001b[43mname\u001b[49m\u001b[43m]\u001b[49m\u001b[43m,\u001b[49m\u001b[43m \u001b[49m\u001b[43mtarget\u001b[49m\u001b[43m,\u001b[49m\u001b[43m \u001b[49m\u001b[43mpipe\u001b[49m\u001b[43m,\u001b[49m\u001b[43m \u001b[49m\u001b[43msl\u001b[49m\u001b[43m)\u001b[49m\u001b[43m \u001b[49m\u001b[38;5;28;43;01mfor\u001b[39;49;00m\u001b[43m \u001b[49m\u001b[43m(\u001b[49m\u001b[43mname\u001b[49m\u001b[43m,\u001b[49m\u001b[43m \u001b[49m\u001b[43msl\u001b[49m\u001b[43m)\u001b[49m\u001b[43m \u001b[49m\u001b[38;5;129;43;01min\u001b[39;49;00m\u001b[43m \u001b[49m\u001b[38;5;28;43mzip\u001b[39;49m\u001b[43m(\u001b[49m\u001b[43mnames\u001b[49m\u001b[43m,\u001b[49m\u001b[43m \u001b[49m\u001b[43mempty_slice\u001b[49m\u001b[43m)\u001b[49m\n\u001b[0;32m    246\u001b[0m \u001b[43m    \u001b[49m\u001b[43m)\u001b[49m\n\u001b[0;32m    247\u001b[0m \u001b[38;5;28;01mreturn\u001b[39;00m np\u001b[38;5;241m.\u001b[39mconcatenate(\u001b[38;5;28mlist\u001b[39m(\u001b[38;5;28mmap\u001b[39m(np\u001b[38;5;241m.\u001b[39marray, res)))\n",
      "File \u001b[1;32me:\\Conda\\envs\\carprice\\lib\\site-packages\\joblib\\parallel.py:1952\u001b[0m, in \u001b[0;36m__call__\u001b[1;34m(self, iterable)\u001b[0m\n\u001b[0;32m      0\u001b[0m <Error retrieving source code with stack_data see ipython/ipython#13598>\n",
      "File \u001b[1;32me:\\Conda\\envs\\carprice\\lib\\site-packages\\joblib\\parallel.py:1595\u001b[0m, in \u001b[0;36m_get_outputs\u001b[1;34m(self, iterator, pre_dispatch)\u001b[0m\n\u001b[0;32m      0\u001b[0m <Error retrieving source code with stack_data see ipython/ipython#13598>\n",
      "File \u001b[1;32me:\\Conda\\envs\\carprice\\lib\\site-packages\\joblib\\parallel.py:1699\u001b[0m, in \u001b[0;36m_retrieve\u001b[1;34m(self)\u001b[0m\n\u001b[0;32m      0\u001b[0m <Error retrieving source code with stack_data see ipython/ipython#13598>\n",
      "File \u001b[1;32me:\\Conda\\envs\\carprice\\lib\\site-packages\\joblib\\parallel.py:1734\u001b[0m, in \u001b[0;36m_raise_error_fast\u001b[1;34m(self)\u001b[0m\n\u001b[0;32m      0\u001b[0m <Error retrieving source code with stack_data see ipython/ipython#13598>\n",
      "File \u001b[1;32me:\\Conda\\envs\\carprice\\lib\\site-packages\\joblib\\parallel.py:736\u001b[0m, in \u001b[0;36mget_result\u001b[1;34m(self, timeout)\u001b[0m\n\u001b[0;32m    734\u001b[0m \u001b[38;5;28;01mtry\u001b[39;00m:\n\u001b[0;32m    735\u001b[0m     backend_factory \u001b[38;5;241m=\u001b[39m BACKENDS[backend]\n\u001b[1;32m--> 736\u001b[0m \u001b[38;5;28;01mexcept\u001b[39;00m \u001b[38;5;167;01mKeyError\u001b[39;00m \u001b[38;5;28;01mas\u001b[39;00m e:\n\u001b[0;32m    737\u001b[0m     \u001b[38;5;28;01mraise\u001b[39;00m \u001b[38;5;167;01mValueError\u001b[39;00m(\u001b[38;5;124m\"\u001b[39m\u001b[38;5;124mInvalid backend: \u001b[39m\u001b[38;5;132;01m%s\u001b[39;00m\u001b[38;5;124m, expected one of \u001b[39m\u001b[38;5;132;01m%r\u001b[39;00m\u001b[38;5;124m\"\u001b[39m\n\u001b[0;32m    738\u001b[0m                      \u001b[38;5;241m%\u001b[39m (backend, \u001b[38;5;28msorted\u001b[39m(BACKENDS\u001b[38;5;241m.\u001b[39mkeys()))) \u001b[38;5;28;01mfrom\u001b[39;00m \u001b[38;5;21;01me\u001b[39;00m\n\u001b[0;32m    739\u001b[0m backend \u001b[38;5;241m=\u001b[39m backend_factory(nesting_level\u001b[38;5;241m=\u001b[39mnesting_level)\n",
      "File \u001b[1;32me:\\Conda\\envs\\carprice\\lib\\site-packages\\joblib\\parallel.py:754\u001b[0m, in \u001b[0;36m_return_or_raise\u001b[1;34m(self)\u001b[0m\n\u001b[0;32m    749\u001b[0m \u001b[38;5;28;01melse\u001b[39;00m:\n\u001b[0;32m    750\u001b[0m     \u001b[38;5;28;01mraise\u001b[39;00m \u001b[38;5;167;01mValueError\u001b[39;00m(\n\u001b[0;32m    751\u001b[0m         \u001b[38;5;124m\"\u001b[39m\u001b[38;5;124mbatch_size must be \u001b[39m\u001b[38;5;124m'\u001b[39m\u001b[38;5;124mauto\u001b[39m\u001b[38;5;124m'\u001b[39m\u001b[38;5;124m or a positive integer, got: \u001b[39m\u001b[38;5;132;01m%r\u001b[39;00m\u001b[38;5;124m\"\u001b[39m\n\u001b[0;32m    752\u001b[0m         \u001b[38;5;241m%\u001b[39m batch_size)\n\u001b[1;32m--> 754\u001b[0m \u001b[38;5;28mself\u001b[39m\u001b[38;5;241m.\u001b[39m_backend \u001b[38;5;241m=\u001b[39m backend\n\u001b[0;32m    755\u001b[0m \u001b[38;5;28mself\u001b[39m\u001b[38;5;241m.\u001b[39m_output \u001b[38;5;241m=\u001b[39m \u001b[38;5;28;01mNone\u001b[39;00m\n\u001b[0;32m    756\u001b[0m \u001b[38;5;28mself\u001b[39m\u001b[38;5;241m.\u001b[39m_jobs \u001b[38;5;241m=\u001b[39m \u001b[38;5;28mlist\u001b[39m()\n",
      "\u001b[1;31mTerminatedWorkerError\u001b[0m: A worker process managed by the executor was unexpectedly terminated. This could be caused by a segmentation fault while calling the function or by an excessive memory usage causing the Operating System to kill the worker.\n"
     ]
    }
   ],
   "source": [
    "from sklearn.metrics import r2_score\n",
    "\n",
    "from lightautoml.automl.presets.tabular_presets import TabularAutoML\n",
    "from lightautoml.tasks import Task\n",
    "\n",
    "N_THREADS = 8 # 8 процессоров\n",
    "N_FOLDS = 5 # 5 параллельных задач\n",
    "RANDOM_STATE = 42 # Зафиксируем рандом\n",
    "#TEST_SIZE = 0.2\n",
    "TIMEOUT = 1200 # Время на обсчет\n",
    "\n",
    "#df_train = pd.read_csv('../input/titanic/train.csv')\n",
    "#df_test = pd.read_csv('../input/titanic/test.csv')\n",
    "\n",
    "automl = TabularAutoML(\n",
    "    task = Task(\n",
    "        name = 'reg',\n",
    "        loss = 'mape'),\n",
    "    timeout = TIMEOUT,\n",
    "    cpu_limit = N_THREADS,\n",
    "    reader_params = {'n_jobs': N_THREADS, 'cv': N_FOLDS, 'random_state': RANDOM_STATE}\n",
    "        #metric = lambda y_true, y_pred: r2_score(y_true, y_pred))\n",
    ")\n",
    "oof_pred = automl.fit_predict(\n",
    "    data[0],\n",
    "    roles = {'target': 'price'}\n",
    ")\n",
    "test_pred = automl.predict(data[1])\n",
    "\n",
    "#pd.DataFrame({\n",
    "#    'PassengerId':df_test.PassengerId,\n",
    "#    'price': (test_pred.data[:, 0] > 0.5)*1\n",
    "#}).to_csv('submit.csv', index = False)"
   ]
  }
 ],
 "metadata": {
  "kernelspec": {
   "display_name": "carprice",
   "language": "python",
   "name": "python3"
  },
  "language_info": {
   "codemirror_mode": {
    "name": "ipython",
    "version": 3
   },
   "file_extension": ".py",
   "mimetype": "text/x-python",
   "name": "python",
   "nbconvert_exporter": "python",
   "pygments_lexer": "ipython3",
   "version": "3.10.13"
  }
 },
 "nbformat": 4,
 "nbformat_minor": 2
}
