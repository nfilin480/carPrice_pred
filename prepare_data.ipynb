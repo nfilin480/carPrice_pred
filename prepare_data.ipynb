{
 "cells": [
  {
   "cell_type": "code",
   "execution_count": 2,
   "metadata": {},
   "outputs": [],
   "source": [
    "import pandas as pd\n",
    "import seaborn as sns\n",
    "import re\n",
    "import matplotlib"
   ]
  },
  {
   "cell_type": "code",
   "execution_count": 3,
   "metadata": {},
   "outputs": [],
   "source": [
    "def prepare_data(path):\n",
    "\n",
    "    df = pd.read_csv(path, index_col=0)\n",
    "    df[['mileage', 'engine_capacity', 'transmission', 'engine_power', 'body_type', 'wheel', 'fuel_type', 'model', 'model_2', 'year']] = None\n",
    "\n",
    "    for i, row in df.loc[:, ['name', 'params', 'region']].iterrows():\n",
    "\n",
    "        try:\n",
    "            #Предобработка params\n",
    "            mileage = re.search(r'([\\d ]+) км,', row['params'], re.IGNORECASE)\n",
    "            if mileage == None:\n",
    "                mileage = 0\n",
    "            else:\n",
    "                df.loc[i, 'mileage'] = mileage.group(1).replace(' ', '')\n",
    "\n",
    "            engine_capacity = re.search(r'([\\d\\.]+) [A-Z]+', row['params'])\n",
    "\n",
    "            if engine_capacity != None:\n",
    "                df.loc[i, 'engine_capacity'] = engine_capacity.group(1)\n",
    "\n",
    "            df.loc[i, 'transmission'] = re.search(r'MT|CVT|AMT|AT', row['params'])[0]\n",
    "            engine_power = re.search(r'\\((\\d+) л\\.с\\.\\),', row['params'])\n",
    "\n",
    "            if engine_power != None:\n",
    "                df.loc[i, 'engine_power'] = engine_power.group(1)\n",
    "\n",
    "\n",
    "            df.loc[i, 'body_type'] = re.search(r'([\\w-]+), (полный|задний|передний)', row['params'], re.IGNORECASE).group(1)\n",
    "            df.loc[i, 'wheel'] = re.search(r'полный|задний|передний', row['params'], re.IGNORECASE)[0]\n",
    "            df.loc[i, 'fuel_type'] = re.search(r'бензин|дизель|электро|гибрид|газ', row['params'], re.IGNORECASE)[0]\n",
    "\n",
    "\n",
    "            #предобработка name\n",
    "            df.loc[i, 'model'] = re.search(r'[\\w-]+ ', row['name'], re.IGNORECASE)[0]\n",
    "            model_2 = re.search(r'[\\w-]+ ([^,]*?) [\\d\\. ]*(AT|MT|AMT|CVT)?,', row['name'], re.IGNORECASE)\n",
    "\n",
    "            if model_2 != None:\n",
    "                df.loc[i, 'model_2'] = model_2.group(1)\n",
    "            else:\n",
    "                df.loc[i, 'model_2'] = re.search(r'[\\w-]+ ([^,]*?),', row['name'], re.IGNORECASE).group(1)\n",
    "\n",
    "            df.loc[i, 'year'] = re.search(r', ?(\\d{4})', row['name']).group(1)\n",
    "\n",
    "            #предобработка region\n",
    "            df.loc[i, 'region'] = re.search(r'([^,]+),?', row['region'], re.IGNORECASE).group(1)\n",
    "\n",
    "        except Exception as ex:\n",
    "            print(row)\n",
    "            print(ex)\n",
    "\n",
    "    return df"
   ]
  },
  {
   "cell_type": "code",
   "execution_count": null,
   "metadata": {},
   "outputs": [],
   "source": [
    "df = pd.DataFrame()\n",
    "a = [0, 1, 3, 6, 7, 8, 9, 12, 13, 14, 15, 16, 18, 19, 22, 23, 25]\n",
    "\n",
    "for i in a:\n",
    "    #if i == 0:\n",
    "    #    res = prepare_data(f'./datasets/data.csv')\n",
    "    #else:\n",
    "    res = prepare_data(f'./datasets/data{i}.csv')\n",
    "    \n",
    "    df = pd.concat([df, res])\n",
    "    print(i)\n"
   ]
  },
  {
   "cell_type": "code",
   "execution_count": 5,
   "metadata": {},
   "outputs": [],
   "source": [
    "df.to_csv('./dataset2.csv')"
   ]
  },
  {
   "cell_type": "code",
   "execution_count": 12,
   "metadata": {},
   "outputs": [],
   "source": [
    "a1 = pd.read_csv('./dataset.csv', index_col=0)\n",
    "a2 = pd.read_csv('./dataset2.csv', index_col=0)\n",
    "\n",
    "a = pd.concat([a1, a2])\n",
    "a.to_csv('./dataset_all.csv')"
   ]
  }
 ],
 "metadata": {
  "kernelspec": {
   "display_name": "carprice",
   "language": "python",
   "name": "python3"
  },
  "language_info": {
   "codemirror_mode": {
    "name": "ipython",
    "version": 3
   },
   "file_extension": ".py",
   "mimetype": "text/x-python",
   "name": "python",
   "nbconvert_exporter": "python",
   "pygments_lexer": "ipython3",
   "version": "3.10.13"
  }
 },
 "nbformat": 4,
 "nbformat_minor": 2
}
